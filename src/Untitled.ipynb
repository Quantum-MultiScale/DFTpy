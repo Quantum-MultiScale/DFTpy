{
 "cells": [
  {
   "cell_type": "code",
   "execution_count": 25,
   "metadata": {
    "collapsed": false
   },
   "outputs": [
    {
     "name": "stdout",
     "output_type": "stream",
     "text": [
      "The autoreload extension is already loaded. To reload it, use:\n",
      "  %reload_ext autoreload\n"
     ]
    }
   ],
   "source": [
    "import numpy as np\n",
    "from pbcpy.grid import Grid_Space, Grid_Function, Grid_Function_Reciprocal\n",
    "import matplotlib.pyplot as plt\n",
    "\n",
    "%load_ext autoreload\n",
    "%autoreload 2"
   ]
  },
  {
   "cell_type": "code",
   "execution_count": 26,
   "metadata": {
    "collapsed": true
   },
   "outputs": [],
   "source": [
    "at = np.identity(3)\n",
    "at[0][0]=2"
   ]
  },
  {
   "cell_type": "code",
   "execution_count": 39,
   "metadata": {
    "collapsed": false
   },
   "outputs": [],
   "source": [
    "nr = [5,1,1]\n",
    "grid = Grid_Space(at, nr)"
   ]
  },
  {
   "cell_type": "code",
   "execution_count": 67,
   "metadata": {
    "collapsed": false
   },
   "outputs": [
    {
     "name": "stdout",
     "output_type": "stream",
     "text": [
      "[[[ 0. ]]\n",
      "\n",
      " [[ 0.4]]\n",
      "\n",
      " [[ 0.8]]\n",
      "\n",
      " [[ 1.2]]\n",
      "\n",
      " [[ 1.6]]]\n",
      "[[[ 0.  ]]\n",
      "\n",
      " [[ 0.16]]\n",
      "\n",
      " [[ 0.64]]\n",
      "\n",
      " [[ 1.44]]\n",
      "\n",
      " [[ 2.56]]]\n"
     ]
    }
   ],
   "source": [
    "dist_f = grid.dist_func()\n",
    "sqrdist_f = grid.sqr_dist_func()\n",
    "print(dist_f.values)\n",
    "print(sqrdist_f.values)"
   ]
  },
  {
   "cell_type": "code",
   "execution_count": 70,
   "metadata": {
    "collapsed": false
   },
   "outputs": [
    {
     "data": {
      "text/plain": [
       "array([[[ 0.  ]],\n",
       "\n",
       "       [[ 1.12]],\n",
       "\n",
       "       [[ 2.88]],\n",
       "\n",
       "       [[ 5.28]],\n",
       "\n",
       "       [[ 8.32]]])"
      ]
     },
     "execution_count": 70,
     "metadata": {},
     "output_type": "execute_result"
    }
   ],
   "source": [
    "dist_f.linear_combination(sqrdist_f,2,2).values"
   ]
  },
  {
   "cell_type": "markdown",
   "metadata": {},
   "source": [
    "## dist_f.integral()"
   ]
  },
  {
   "cell_type": "code",
   "execution_count": 48,
   "metadata": {
    "collapsed": false
   },
   "outputs": [
    {
     "data": {
      "text/plain": [
       "array([[[ 0.  ]],\n",
       "\n",
       "       [[ 0.32]],\n",
       "\n",
       "       [[ 1.28]],\n",
       "\n",
       "       [[ 2.88]],\n",
       "\n",
       "       [[ 5.12]]])"
      ]
     },
     "execution_count": 48,
     "metadata": {},
     "output_type": "execute_result"
    }
   ],
   "source": [
    "dist_f.dotCnst(2).values"
   ]
  },
  {
   "cell_type": "code",
   "execution_count": 49,
   "metadata": {
    "collapsed": false
   },
   "outputs": [
    {
     "data": {
      "text/plain": [
       "array([[[ 2.  ]],\n",
       "\n",
       "       [[ 2.16]],\n",
       "\n",
       "       [[ 2.64]],\n",
       "\n",
       "       [[ 3.44]],\n",
       "\n",
       "       [[ 4.56]]])"
      ]
     },
     "execution_count": 49,
     "metadata": {},
     "output_type": "execute_result"
    }
   ],
   "source": [
    "dist_f.sumCnst(2).values"
   ]
  },
  {
   "cell_type": "code",
   "execution_count": null,
   "metadata": {
    "collapsed": true
   },
   "outputs": [],
   "source": []
  }
 ],
 "metadata": {
  "kernelspec": {
   "display_name": "Python 3",
   "language": "python",
   "name": "python3"
  },
  "language_info": {
   "codemirror_mode": {
    "name": "ipython",
    "version": 3
   },
   "file_extension": ".py",
   "mimetype": "text/x-python",
   "name": "python",
   "nbconvert_exporter": "python",
   "pygments_lexer": "ipython3",
   "version": "3.6.0"
  }
 },
 "nbformat": 4,
 "nbformat_minor": 2
}
