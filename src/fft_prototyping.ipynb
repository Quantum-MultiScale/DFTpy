{
 "cells": [
  {
   "cell_type": "code",
   "execution_count": 62,
   "metadata": {
    "collapsed": false
   },
   "outputs": [
    {
     "name": "stdout",
     "output_type": "stream",
     "text": [
      "The autoreload extension is already loaded. To reload it, use:\n",
      "  %reload_ext autoreload\n"
     ]
    }
   ],
   "source": [
    "import numpy as np\n",
    "from pbcpy.base import Cell\n",
    "from pbcpy.grid import Grid, ReciprocalGrid, Grid_Function\n",
    "\n",
    "%load_ext autoreload\n",
    "%autoreload 2"
   ]
  },
  {
   "cell_type": "code",
   "execution_count": 64,
   "metadata": {
    "collapsed": false
   },
   "outputs": [
    {
     "name": "stdout",
     "output_type": "stream",
     "text": [
      "[[ 0.5         0.          0.        ]\n",
      " [ 0.          0.33333333  0.        ]\n",
      " [ 0.          0.          1.        ]]\n",
      "----------------\n",
      "[[ 2.  0.  0.]\n",
      " [ 0.  3.  0.]\n",
      " [ 0.  0.  1.]]\n"
     ]
    }
   ],
   "source": [
    "at = np.identity(3)\n",
    "at[0][0]=2\n",
    "at[1][1]=3\n",
    "cell = Cell(at)\n",
    "print(cell.bg)\n",
    "print('----------------')\n",
    "print(cell.at)"
   ]
  },
  {
   "cell_type": "code",
   "execution_count": 60,
   "metadata": {
    "collapsed": false
   },
   "outputs": [],
   "source": [
    "nr = [2,2,3]\n",
    "grid = Grid(at, nr)\n",
    "invgrid = ReciprocalGrid(grid.bg,nr)"
   ]
  },
  {
   "cell_type": "code",
   "execution_count": 51,
   "metadata": {
    "collapsed": false
   },
   "outputs": [
    {
     "data": {
      "text/plain": [
       "(0.16666666666666666, 6.0)"
      ]
     },
     "execution_count": 51,
     "metadata": {},
     "output_type": "execute_result"
    }
   ],
   "source": [
    "invgrid.omega, grid.omega"
   ]
  },
  {
   "cell_type": "code",
   "execution_count": 61,
   "metadata": {
    "collapsed": false
   },
   "outputs": [
    {
     "name": "stdout",
     "output_type": "stream",
     "text": [
      "Bohr\n",
      "[[[[ 0.          0.          0.        ]\n",
      "   [ 0.          0.          0.33333333]\n",
      "   [ 0.          0.          0.66666667]]\n",
      "\n",
      "  [[ 0.          1.5         0.        ]\n",
      "   [ 0.          1.5         0.33333333]\n",
      "   [ 0.          1.5         0.66666667]]]\n",
      "\n",
      "\n",
      " [[[ 1.          0.          0.        ]\n",
      "   [ 1.          0.          0.33333333]\n",
      "   [ 1.          0.          0.66666667]]\n",
      "\n",
      "  [[ 1.          1.5         0.        ]\n",
      "   [ 1.          1.5         0.33333333]\n",
      "   [ 1.          1.5         0.66666667]]]]\n",
      "[[[ 0.          0.          0.        ]\n",
      "  [ 0.          0.          0.        ]]\n",
      "\n",
      " [[ 0.5         0.5         0.5       ]\n",
      "  [ 0.5         0.5         0.5       ]]\n",
      "\n",
      " [[ 0.          0.          0.        ]\n",
      "  [ 0.5         0.5         0.5       ]]\n",
      "\n",
      " [[ 0.          0.          0.        ]\n",
      "  [ 0.5         0.5         0.5       ]]\n",
      "\n",
      " [[ 0.          0.33333333  0.66666667]\n",
      "  [ 0.          0.33333333  0.66666667]]\n",
      "\n",
      " [[ 0.          0.33333333  0.66666667]\n",
      "  [ 0.          0.33333333  0.66666667]]]\n"
     ]
    }
   ],
   "source": [
    "print(grid.units)\n",
    "print(grid.r)\n",
    "print(grid.a)"
   ]
  },
  {
   "cell_type": "code",
   "execution_count": null,
   "metadata": {
    "collapsed": true
   },
   "outputs": [],
   "source": [
    "pl = Grid_Function(grid=grid,)"
   ]
  },
  {
   "cell_type": "code",
   "execution_count": 33,
   "metadata": {
    "collapsed": false
   },
   "outputs": [
    {
     "data": {
      "text/plain": [
       "(array([ 0. ,  0.1,  0.2,  0.3,  0.4, -0.5, -0.4, -0.3, -0.2, -0.1]),\n",
       " array([ 0.        ,  0.09090909,  0.18181818,  0.27272727,  0.36363636,\n",
       "         0.45454545, -0.45454545, -0.36363636, -0.27272727, -0.18181818,\n",
       "        -0.09090909]))"
      ]
     },
     "execution_count": 33,
     "metadata": {},
     "output_type": "execute_result"
    }
   ],
   "source": [
    "np.fft.fftfreq(10),np.fft.fftfreq(11,)"
   ]
  },
  {
   "cell_type": "code",
   "execution_count": null,
   "metadata": {
    "collapsed": true
   },
   "outputs": [],
   "source": []
  }
 ],
 "metadata": {
  "kernelspec": {
   "display_name": "Python 3",
   "language": "python",
   "name": "python3"
  },
  "language_info": {
   "codemirror_mode": {
    "name": "ipython",
    "version": 3
   },
   "file_extension": ".py",
   "mimetype": "text/x-python",
   "name": "python",
   "nbconvert_exporter": "python",
   "pygments_lexer": "ipython3",
   "version": "3.6.0"
  }
 },
 "nbformat": 4,
 "nbformat_minor": 2
}
