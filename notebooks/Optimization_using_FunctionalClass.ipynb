{
 "cells": [
  {
   "cell_type": "code",
   "execution_count": 1,
   "metadata": {
    "collapsed": true
   },
   "outputs": [],
   "source": [
    "import scipy.optimize\n",
    "from scipy.optimize import minimize"
   ]
  },
  {
   "cell_type": "code",
   "execution_count": 2,
   "metadata": {
    "collapsed": true
   },
   "outputs": [],
   "source": [
    "import numpy as np\n",
    "import matplotlib.pyplot as plt\n",
    "import sys\n",
    "\n",
    "if \"../src/\" not in sys.path:\n",
    "    sys.path.insert(0,\"../src/\")\n",
    "\n",
    "from pbcpy.formats.qepp import PP\n",
    "from pbcpy.ewald import ewald"
   ]
  },
  {
   "cell_type": "code",
   "execution_count": 3,
   "metadata": {
    "collapsed": true
   },
   "outputs": [],
   "source": [
    "from pbcpy.functionals import FunctionalClass, TotalEnergyAndPotential"
   ]
  },
  {
   "cell_type": "code",
   "execution_count": 4,
   "metadata": {},
   "outputs": [
    {
     "name": "stdout",
     "output_type": "stream",
     "text": [
      "PP_file not set in input. Can do so manually invoking Atom.local_PP\n",
      "PP_file not set in input. Can do so manually invoking Atom.local_PP\n"
     ]
    }
   ],
   "source": [
    "mol = PP(filepp='Al_fde_rho.pp').read()"
   ]
  },
  {
   "cell_type": "code",
   "execution_count": 5,
   "metadata": {
    "collapsed": true
   },
   "outputs": [],
   "source": [
    "optional_kwargs = {}\n",
    "optional_kwargs[\"Sigma\"] = 0.0\n",
    "optional_kwargs[\"x\"] = 1.0\n",
    "optional_kwargs[\"y\"] = 1.0\n",
    "KE = FunctionalClass(type='KEDF',name='x_TF_y_vW',is_nonlocal=False,optional_kwargs=optional_kwargs)"
   ]
  },
  {
   "cell_type": "code",
   "execution_count": 6,
   "metadata": {},
   "outputs": [
    {
     "data": {
      "text/plain": [
       "<pbcpy.functional_output.Functional at 0x10dbd0cc0>"
      ]
     },
     "execution_count": 6,
     "metadata": {},
     "output_type": "execute_result"
    }
   ],
   "source": [
    "KE.ComputeEnergyDensityPotential(rho=mol.field)"
   ]
  },
  {
   "cell_type": "code",
   "execution_count": 7,
   "metadata": {
    "collapsed": true
   },
   "outputs": [],
   "source": [
    "optional_kwargs = {}\n",
    "optional_kwargs[\"PP_list\"] = [\"./Al_lda.oe01.recpot\",\"./Al_lda.oe01.recpot\"]\n",
    "optional_kwargs[\"ions\"]    = mol.ions \n",
    "\n",
    "IONS = FunctionalClass(type='IONS', optional_kwargs=optional_kwargs)"
   ]
  },
  {
   "cell_type": "code",
   "execution_count": 8,
   "metadata": {
    "collapsed": true
   },
   "outputs": [],
   "source": [
    "HARTREE = FunctionalClass(type='HARTREE')"
   ]
  },
  {
   "cell_type": "code",
   "execution_count": 9,
   "metadata": {
    "collapsed": true
   },
   "outputs": [],
   "source": [
    "XC = FunctionalClass(type='XC',name='LDA',is_nonlocal=False)"
   ]
  },
  {
   "cell_type": "code",
   "execution_count": 10,
   "metadata": {
    "collapsed": true
   },
   "outputs": [],
   "source": [
    "E_v_Evaluator = TotalEnergyAndPotential(rho=mol.field,\n",
    "                                        KineticEnergyFunctional=KE,\n",
    "                                        XCFunctional=XC,\n",
    "                                        HARTREE=HARTREE,\n",
    "                                        IONS=IONS)"
   ]
  },
  {
   "cell_type": "code",
   "execution_count": 11,
   "metadata": {
    "collapsed": true
   },
   "outputs": [],
   "source": [
    "phi = np.sqrt(mol.field).ravel()"
   ]
  },
  {
   "cell_type": "code",
   "execution_count": 12,
   "metadata": {},
   "outputs": [
    {
     "name": "stdout",
     "output_type": "stream",
     "text": [
      "Recpot pseudopotential ./Al_lda.oe01.recpot loaded\n",
      "Recpot pseudopotential ./Al_lda.oe01.recpot loaded\n"
     ]
    }
   ],
   "source": [
    "optimization_options={}\n",
    "optimization_options[\"disp\"] = None\n",
    "optimization_options[\"maxcor\"] = 20\n",
    "optimization_options[\"ftol\"] = 1.0e-7\n",
    "optimization_options[\"gtol\"] = 1.0e-7\n",
    "optimization_options[\"maxfun\"] = 1000\n",
    "optimization_options[\"maxiter\"] = 100\n",
    "optimization_options[\"maxls\"] = 10\n",
    "res = minimize(fun=E_v_Evaluator,jac=True,x0=phi,method='L-BFGS-B',options=optimization_options)"
   ]
  },
  {
   "cell_type": "code",
   "execution_count": 13,
   "metadata": {},
   "outputs": [
    {
     "data": {
      "text/plain": [
       "b'CONVERGENCE: REL_REDUCTION_OF_F_<=_FACTR*EPSMCH'"
      ]
     },
     "execution_count": 13,
     "metadata": {},
     "output_type": "execute_result"
    }
   ],
   "source": [
    "res.message"
   ]
  },
  {
   "cell_type": "code",
   "execution_count": 14,
   "metadata": {
    "collapsed": true
   },
   "outputs": [],
   "source": [
    "def plot_result(res,mol):\n",
    "    from pbcpy.field import DirectField\n",
    "    rho = DirectField(mol.cell,griddata_3d=np.reshape(res.x**2,np.shape(mol.field)),rank=1)\n",
    "    plt.plot(mol.field[:,10,0,0],label='KS')\n",
    "    plt.plot(rho[:,10,0,0],label='PBCpy')\n",
    "    plt.legend()\n",
    "    plt.show()\n",
    "    return 0.5*np.abs(rho-mol.field), rho"
   ]
  },
  {
   "cell_type": "code",
   "execution_count": 15,
   "metadata": {},
   "outputs": [
    {
     "data": {
      "image/png": "[encoded data removed]",
      "text/plain": [
       "<matplotlib.figure.Figure at 0x115b7af28>"
      ]
     },
     "metadata": {},
     "output_type": "display_data"
    }
   ],
   "source": [
    "delta, rho = plot_result(res=res,mol=mol)"
   ]
  },
  {
   "cell_type": "code",
   "execution_count": 16,
   "metadata": {},
   "outputs": [
    {
     "data": {
      "text/plain": [
       "0.26135798797828508"
      ]
     },
     "execution_count": 16,
     "metadata": {},
     "output_type": "execute_result"
    }
   ],
   "source": [
    "delta.integral()"
   ]
  },
  {
   "cell_type": "code",
   "execution_count": 18,
   "metadata": {},
   "outputs": [
    {
     "data": {
      "text/plain": [
       "-4.1303489744215511"
      ]
     },
     "execution_count": 18,
     "metadata": {},
     "output_type": "execute_result"
    }
   ],
   "source": [
    "ewald(ions=mol.ions,rho=rho).energy + KE.ComputeEnergyDensityPotential(rho).energydensity.integral() + XC.ComputeEnergyDensityPotential(rho).energydensity.integral() + HARTREE.ComputeEnergyDensityPotential(rho).energydensity.integral()"
   ]
  },
  {
   "cell_type": "code",
   "execution_count": 20,
   "metadata": {},
   "outputs": [
    {
     "data": {
      "text/plain": [
       "-4.1303489744215511"
      ]
     },
     "execution_count": 20,
     "metadata": {},
     "output_type": "execute_result"
    }
   ],
   "source": [
    "E_v_Evaluator.Energy(rho=rho,ions=mol.ions)"
   ]
  },
  {
   "cell_type": "code",
   "execution_count": null,
   "metadata": {
    "collapsed": true
   },
   "outputs": [],
   "source": []
  }
 ],
 "metadata": {
  "kernelspec": {
   "display_name": "Python 3",
   "language": "python",
   "name": "python3"
  },
  "language_info": {
   "codemirror_mode": {
    "name": "ipython",
    "version": 3
   },
   "file_extension": ".py",
   "mimetype": "text/x-python",
   "name": "python",
   "nbconvert_exporter": "python",
   "pygments_lexer": "ipython3",
   "version": "3.6.3"
  }
 },
 "nbformat": 4,
 "nbformat_minor": 2
}
