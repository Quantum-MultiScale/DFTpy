{
 "cells": [
  {
   "cell_type": "code",
   "execution_count": 1,
   "metadata": {
    "collapsed": true
   },
   "outputs": [],
   "source": [
    "import numpy as np\n",
    "import scipy.special as sp\n",
    "import matplotlib.pyplot as plt"
   ]
  },
  {
   "cell_type": "code",
   "execution_count": 2,
   "metadata": {},
   "outputs": [],
   "source": [
    "import sys\n",
    "if \"../src/\" not in sys.path:\n",
    "    sys.path.insert(0,\"../src/\")\n",
    "from pbcpy.base import DirectCell, ReciprocalCell, Coord\n",
    "from pbcpy.grid import DirectGrid, ReciprocalGrid\n",
    "from pbcpy.field import DirectField, ReciprocalField\n",
    "from pbcpy.functionals import *\n",
    "\n",
    "%matplotlib inline\n",
    "%load_ext autoreload\n",
    "%autoreload 2\n",
    "#"
   ]
  },
  {
   "cell_type": "code",
   "execution_count": 3,
   "metadata": {
    "collapsed": true
   },
   "outputs": [],
   "source": [
    "from pbcpy.local_functionals_utils import ThomasFermiEnergy, ThomasFermiPotential\n",
    "from pbcpy.local_functionals_utils import vonWeizsackerEnergy, vonWeizsackerPotential"
   ]
  },
  {
   "cell_type": "code",
   "execution_count": 4,
   "metadata": {
    "collapsed": true
   },
   "outputs": [],
   "source": [
    "from pbcpy.formats.qepp import PP\n",
    "from pbcpy.formats.xsf import XSF"
   ]
  },
  {
   "cell_type": "code",
   "execution_count": 5,
   "metadata": {
    "collapsed": true
   },
   "outputs": [],
   "source": [
    "from pbcpy.semilocal_xc import PBE, LDA, XC"
   ]
  },
  {
   "cell_type": "code",
   "execution_count": 6,
   "metadata": {
    "collapsed": true
   },
   "outputs": [],
   "source": [
    "mol = PP(filepp='Al_fde_rho.pp').read()\n",
    "rho_of_r = mol.field"
   ]
  },
  {
   "cell_type": "markdown",
   "metadata": {},
   "source": [
    "# $E_{eN}$ and $v_{eN}$ but not yet $E_{NN}$"
   ]
  },
  {
   "cell_type": "code",
   "execution_count": 7,
   "metadata": {
    "collapsed": true
   },
   "outputs": [],
   "source": [
    "#Need to fix the path to PP files and attach it to the ions class\n",
    "def NuclearElectron(ions,density):\n",
    "    natoms=np.shape(ions)[0]\n",
    "    NuclearElectron = ions[0].local_PP(grid=density.grid,rho=density,outfile='./Al_lda.oe01.recpot')\n",
    "    for i in range(1,natoms,1):\n",
    "        eN_tmp = ions[i].local_PP(grid=density.grid,rho=density,outfile='./Al_lda.oe01.recpot')\n",
    "        NuclearElectron = NuclearElectron.sum(eN_tmp)\n",
    "    NuclearElectron.name = 'Local Pseudopotential'\n",
    "    return NuclearElectron"
   ]
  },
  {
   "cell_type": "code",
   "execution_count": 8,
   "metadata": {},
   "outputs": [
    {
     "name": "stdout",
     "output_type": "stream",
     "text": [
      "ion charge =  3.0\n",
      "Recpot pseudopotential ./Al_lda.oe01.recpot loaded\n",
      "ion charge =  3.0\n",
      "Recpot pseudopotential ./Al_lda.oe01.recpot loaded\n"
     ]
    }
   ],
   "source": [
    "NuclearElectron = NuclearElectron(mol.ions,rho_of_r)"
   ]
  },
  {
   "cell_type": "code",
   "execution_count": 9,
   "metadata": {},
   "outputs": [
    {
     "data": {
      "text/plain": [
       "pbcpy.field.DirectField"
      ]
     },
     "execution_count": 9,
     "metadata": {},
     "output_type": "execute_result"
    }
   ],
   "source": [
    "type(NuclearElectron.energydensity)"
   ]
  },
  {
   "cell_type": "code",
   "execution_count": 10,
   "metadata": {},
   "outputs": [
    {
     "data": {
      "image/png": "[encoded data removed]",
      "text/plain": [
       "<matplotlib.figure.Figure at 0x10a92e358>"
      ]
     },
     "metadata": {},
     "output_type": "display_data"
    }
   ],
   "source": [
    "plt.plot(NuclearElectron.energydensity[:,0,0,0],label=r'$e_{eN}$')\n",
    "plt.plot(NuclearElectron.potential[:,0,0,0],label=r'$v_{eN}$')\n",
    "plt.legend()\n",
    "plt.show()"
   ]
  },
  {
   "cell_type": "code",
   "execution_count": 11,
   "metadata": {},
   "outputs": [
    {
     "data": {
      "text/plain": [
       "'Local Pseudopotential'"
      ]
     },
     "execution_count": 11,
     "metadata": {},
     "output_type": "execute_result"
    }
   ],
   "source": [
    "NuclearElectron.name"
   ]
  },
  {
   "cell_type": "markdown",
   "metadata": {},
   "source": [
    "# $E_H$ and $v_{H}$"
   ]
  },
  {
   "cell_type": "code",
   "execution_count": 12,
   "metadata": {
    "collapsed": true
   },
   "outputs": [],
   "source": [
    "def HartreeFunctional(density):\n",
    "    gg=density.grid.get_reciprocal().gg\n",
    "    rho_of_g = density.fft()\n",
    "    v_h = ReciprocalField(density.grid.get_reciprocal(),griddata_3d=np.zeros(np.shape(rho_of_g)))\n",
    "    mask = gg != 0\n",
    "    v_h[mask] = rho_of_g[mask]*gg[mask]**(-1)*4*np.pi\n",
    "    v_h_of_r = v_h.ifft(force_real=True)\n",
    "    e_h = v_h_of_r*density/2.0\n",
    "    return Functional(name='Hartree', potential=v_h_of_r, energydensity=e_h)"
   ]
  },
  {
   "cell_type": "code",
   "execution_count": 13,
   "metadata": {},
   "outputs": [
    {
     "name": "stderr",
     "output_type": "stream",
     "text": [
      "/Users/michele/anaconda3/lib/python3.6/site-packages/ipykernel_launcher.py:6: ComplexWarning: Casting complex values to real discards the imaginary part\n",
      "  \n"
     ]
    }
   ],
   "source": [
    "Hartree = HartreeFunctional(rho_of_r)"
   ]
  },
  {
   "cell_type": "code",
   "execution_count": 14,
   "metadata": {},
   "outputs": [
    {
     "data": {
      "text/plain": [
       "(36, 36, 72, 1)"
      ]
     },
     "execution_count": 14,
     "metadata": {},
     "output_type": "execute_result"
    }
   ],
   "source": [
    "np.shape(Hartree.energydensity)"
   ]
  },
  {
   "cell_type": "code",
   "execution_count": 15,
   "metadata": {},
   "outputs": [
    {
     "data": {
      "image/png": "[encoded data removed]",
      "text/plain": [
       "<matplotlib.figure.Figure at 0x10b76f128>"
      ]
     },
     "metadata": {},
     "output_type": "display_data"
    }
   ],
   "source": [
    "plt.plot(Hartree.energydensity[:,0,0,0])\n",
    "plt.show()"
   ]
  },
  {
   "cell_type": "markdown",
   "metadata": {},
   "source": [
    "# $E_{xc}$ and $v_{xc}$"
   ]
  },
  {
   "cell_type": "code",
   "execution_count": 16,
   "metadata": {},
   "outputs": [],
   "source": [
    "ExchangeCorrelation_LDA = LDA(rho_of_r,polarization='unpolarized')"
   ]
  },
  {
   "cell_type": "code",
   "execution_count": 17,
   "metadata": {
    "collapsed": true
   },
   "outputs": [],
   "source": [
    "ExchangeCorrelation_PBE = PBE(rho_of_r,polarization='unpolarized')"
   ]
  },
  {
   "cell_type": "markdown",
   "metadata": {},
   "source": [
    "# Check against PROFESS"
   ]
  },
  {
   "cell_type": "code",
   "execution_count": 18,
   "metadata": {
    "collapsed": true
   },
   "outputs": [],
   "source": [
    "ion_profess = PP(\"./pot_pp/pot_ion.pp\").read()\n",
    "xc_profess = PP(\"./pot_pp/pot_XC.pp\").read()\n",
    "xc_pbe_profess = PP(\"./pot_pp/pot_XC_PBE.pp\").read()\n",
    "hart_profess = PP(\"./pot_pp/pot_H.pp\").read()"
   ]
  },
  {
   "cell_type": "code",
   "execution_count": 19,
   "metadata": {},
   "outputs": [
    {
     "data": {
      "image/png": "[encoded data removed]",
      "text/plain": [
       "<matplotlib.figure.Figure at 0x10b794b00>"
      ]
     },
     "metadata": {},
     "output_type": "display_data"
    }
   ],
   "source": [
    "plt.plot(ion_profess.field[:,0,0,0])\n",
    "plt.plot(NuclearElectron.potential[:,0,0,0])\n",
    "plt.show()"
   ]
  },
  {
   "cell_type": "code",
   "execution_count": 21,
   "metadata": {},
   "outputs": [
    {
     "data": {
      "image/png": "[encoded data removed]",
      "text/plain": [
       "<matplotlib.figure.Figure at 0x101703f60>"
      ]
     },
     "metadata": {},
     "output_type": "display_data"
    }
   ],
   "source": [
    "#plt.plot(xc_profess.field[:,0,0,0])\n",
    "plt.plot(xc_pbe_profess.field[:,0,0,0])\n",
    "#plt.plot(ExchangeCorrelation_LDA.potential[:,0,0,0])\n",
    "plt.plot(ExchangeCorrelation_PBE.potential[:,0,0,0])\n",
    "plt.show()"
   ]
  },
  {
   "cell_type": "code",
   "execution_count": 22,
   "metadata": {},
   "outputs": [
    {
     "data": {
      "image/png": "[encoded data removed]",
      "text/plain": [
       "<matplotlib.figure.Figure at 0x102a88240>"
      ]
     },
     "metadata": {},
     "output_type": "display_data"
    }
   ],
   "source": [
    "plt.plot(hart_profess.field[:,0,0,0])\n",
    "plt.plot(Hartree.potential[:,0,0,0])\n",
    "plt.show()"
   ]
  },
  {
   "cell_type": "code",
   "execution_count": 31,
   "metadata": {
    "collapsed": true
   },
   "outputs": [],
   "source": [
    "rho_of_r.gradient(flag='regular')"
   ]
  },
  {
   "cell_type": "code",
   "execution_count": null,
   "metadata": {
    "collapsed": true
   },
   "outputs": [],
   "source": []
  },
  {
   "cell_type": "code",
   "execution_count": null,
   "metadata": {
    "collapsed": true
   },
   "outputs": [],
   "source": []
  },
  {
   "cell_type": "markdown",
   "metadata": {},
   "source": [
    "# Total $E - E_{NN}$"
   ]
  },
  {
   "cell_type": "code",
   "execution_count": 20,
   "metadata": {
    "collapsed": true
   },
   "outputs": [],
   "source": [
    "Energy = Hartree.sum(ExchangeCorrelation.sum(NuclearElectron))"
   ]
  },
  {
   "cell_type": "code",
   "execution_count": 21,
   "metadata": {},
   "outputs": [
    {
     "data": {
      "text/plain": [
       "-0.25850431149272657"
      ]
     },
     "execution_count": 21,
     "metadata": {},
     "output_type": "execute_result"
    }
   ],
   "source": [
    "Energy.energydensity.integral()"
   ]
  },
  {
   "cell_type": "code",
   "execution_count": 22,
   "metadata": {
    "collapsed": true
   },
   "outputs": [],
   "source": [
    "Kinetic = XC(rho_of_r,'gga_k_tfvw','gga_k_tfvw','unpolarized')"
   ]
  },
  {
   "cell_type": "code",
   "execution_count": 23,
   "metadata": {
    "collapsed": true
   },
   "outputs": [],
   "source": [
    "Kinetic.energydensity = Kinetic.energydensity/2.0"
   ]
  },
  {
   "cell_type": "code",
   "execution_count": 24,
   "metadata": {
    "collapsed": true
   },
   "outputs": [],
   "source": [
    "Kinetic.potential = Kinetic.potential/2.0"
   ]
  },
  {
   "cell_type": "code",
   "execution_count": 25,
   "metadata": {},
   "outputs": [
    {
     "data": {
      "text/plain": [
       "3.0353893424681537"
      ]
     },
     "execution_count": 25,
     "metadata": {},
     "output_type": "execute_result"
    }
   ],
   "source": [
    "Kinetic.energydensity.integral()"
   ]
  },
  {
   "cell_type": "code",
   "execution_count": 26,
   "metadata": {},
   "outputs": [
    {
     "data": {
      "text/plain": [
       "-62.097627713291004"
      ]
     },
     "execution_count": 26,
     "metadata": {},
     "output_type": "execute_result"
    }
   ],
   "source": [
    "27.211385*(-5.3174351741408525+3.0353893424681537)"
   ]
  },
  {
   "cell_type": "code",
   "execution_count": 27,
   "metadata": {
    "collapsed": true
   },
   "outputs": [],
   "source": [
    "def norm(a):\n",
    "    if np.shape(np.shape(a))[0] != 2:\n",
    "        raise AttributeError(\"a must be a matrix (rank-2 vector)\")\n",
    "    return np.sqrt(np.einsum('ij->j',a**2))"
   ]
  },
  {
   "cell_type": "code",
   "execution_count": 28,
   "metadata": {
    "collapsed": true
   },
   "outputs": [],
   "source": [
    "norm = norm(rho_of_r.grid.lattice)"
   ]
  },
  {
   "cell_type": "code",
   "execution_count": 29,
   "metadata": {
    "collapsed": true
   },
   "outputs": [],
   "source": [
    "eta = 7/np.min(norm)"
   ]
  },
  {
   "cell_type": "code",
   "execution_count": 30,
   "metadata": {
    "collapsed": true
   },
   "outputs": [],
   "source": [
    "N = np.zeros(3)"
   ]
  },
  {
   "cell_type": "code",
   "execution_count": 31,
   "metadata": {},
   "outputs": [
    {
     "ename": "SyntaxError",
     "evalue": "can't assign to literal (<ipython-input-31-3d8b99b6650c>, line 1)",
     "output_type": "error",
     "traceback": [
      "\u001b[0;36m  File \u001b[0;32m\"<ipython-input-31-3d8b99b6650c>\"\u001b[0;36m, line \u001b[0;32m1\u001b[0m\n\u001b[0;31m    1.0e-8 =  norm * eta * N\u001b[0m\n\u001b[0m                            ^\u001b[0m\n\u001b[0;31mSyntaxError\u001b[0m\u001b[0;31m:\u001b[0m can't assign to literal\n"
     ]
    }
   ],
   "source": [
    "1.0e-8 =  norm * eta * N"
   ]
  },
  {
   "cell_type": "code",
   "execution_count": 24,
   "metadata": {
    "collapsed": true
   },
   "outputs": [],
   "source": [
    "import pylibxc"
   ]
  },
  {
   "cell_type": "code",
   "execution_count": 30,
   "metadata": {},
   "outputs": [
    {
     "data": {
      "text/plain": [
       "['lda_x',\n",
       " 'lda_c_wigner',\n",
       " 'lda_c_rpa',\n",
       " 'lda_c_hl',\n",
       " 'lda_c_gl',\n",
       " 'lda_c_xalpha',\n",
       " 'lda_c_vwn',\n",
       " 'lda_c_vwn_rpa',\n",
       " 'lda_c_pz',\n",
       " 'lda_c_pz_mod',\n",
       " 'lda_c_ob_pz',\n",
       " 'lda_c_pw',\n",
       " 'lda_c_pw_mod',\n",
       " 'lda_c_ob_pw',\n",
       " 'lda_c_2d_amgb',\n",
       " 'lda_c_2d_prm',\n",
       " 'lda_c_vbh',\n",
       " 'lda_c_1d_csc',\n",
       " 'lda_x_2d',\n",
       " 'lda_xc_teter93',\n",
       " 'lda_x_1d',\n",
       " 'lda_c_ml1',\n",
       " 'lda_c_ml2',\n",
       " 'lda_c_gombas',\n",
       " 'lda_c_pw_rpa',\n",
       " 'lda_c_1d_loos',\n",
       " 'lda_c_rc04',\n",
       " 'lda_c_vwn_1',\n",
       " 'lda_c_vwn_2',\n",
       " 'lda_c_vwn_3',\n",
       " 'lda_c_vwn_4',\n",
       " 'lda_xc_zlp',\n",
       " 'lda_k_tf',\n",
       " 'lda_k_lp',\n",
       " 'lda_xc_ksdt',\n",
       " 'lda_c_chachiyo',\n",
       " 'lda_c_lp96',\n",
       " 'lda_x_rel',\n",
       " 'lda_xc_1d_ehwlrg_1',\n",
       " 'lda_xc_1d_ehwlrg_2',\n",
       " 'lda_xc_1d_ehwlrg_3',\n",
       " 'lda_x_erf',\n",
       " 'lda_xc_lp_a',\n",
       " 'lda_xc_lp_b',\n",
       " 'lda_x_rae',\n",
       " 'lda_k_zlp',\n",
       " 'lda_c_mcweeny',\n",
       " 'lda_c_br78',\n",
       " 'lda_c_pk09',\n",
       " 'lda_c_ow_lyp',\n",
       " 'lda_c_ow',\n",
       " 'lda_xc_gdsmfb',\n",
       " 'lda_c_gk72',\n",
       " 'lda_c_karasiev',\n",
       " 'lda_k_lp96',\n",
       " 'gga_x_gam',\n",
       " 'gga_c_gam',\n",
       " 'gga_x_hcth_a',\n",
       " 'gga_x_ev93',\n",
       " 'gga_x_bcgp',\n",
       " 'gga_c_bcgp',\n",
       " 'gga_x_lambda_oc2_n',\n",
       " 'gga_x_b86_r',\n",
       " 'gga_x_lambda_ch_n',\n",
       " 'gga_x_lambda_lo_n',\n",
       " 'gga_x_hjs_b88_v2',\n",
       " 'gga_c_q2d',\n",
       " 'gga_x_q2d',\n",
       " 'gga_x_pbe_mol',\n",
       " 'gga_k_tfvw',\n",
       " 'gga_k_revapbeint',\n",
       " 'gga_k_apbeint',\n",
       " 'gga_k_revapbe',\n",
       " 'gga_x_ak13',\n",
       " 'gga_k_meyer',\n",
       " 'gga_x_lv_rpw86',\n",
       " 'gga_x_pbe_tca',\n",
       " 'gga_x_pbeint',\n",
       " 'gga_c_zpbeint',\n",
       " 'gga_c_pbeint',\n",
       " 'gga_c_zpbesol',\n",
       " 'gga_xc_opbe_d',\n",
       " 'gga_xc_opwlyp_d',\n",
       " 'gga_xc_oblyp_d',\n",
       " 'gga_x_vmt84_ge',\n",
       " 'gga_x_vmt84_pbe',\n",
       " 'gga_x_vmt_ge',\n",
       " 'gga_x_vmt_pbe',\n",
       " 'gga_c_n12_sx',\n",
       " 'gga_c_n12',\n",
       " 'gga_x_n12',\n",
       " 'gga_c_regtpss',\n",
       " 'gga_c_op_xalpha',\n",
       " 'gga_c_op_g96',\n",
       " 'gga_c_op_pbe',\n",
       " 'gga_c_op_b88',\n",
       " 'gga_c_ft97',\n",
       " 'gga_c_spbe',\n",
       " 'gga_x_ssb_sw',\n",
       " 'gga_x_ssb',\n",
       " 'gga_x_ssb_d',\n",
       " 'gga_xc_hcth_407p',\n",
       " 'gga_xc_hcth_p76',\n",
       " 'gga_xc_hcth_p14',\n",
       " 'gga_xc_b97_gga1',\n",
       " 'gga_c_hcth_a',\n",
       " 'gga_x_bpccac',\n",
       " 'gga_c_revtca',\n",
       " 'gga_c_tca',\n",
       " 'gga_x_pbe',\n",
       " 'gga_x_pbe_r',\n",
       " 'gga_x_b86',\n",
       " 'gga_x_herman',\n",
       " 'gga_x_b86_mgc',\n",
       " 'gga_x_b88',\n",
       " 'gga_x_g96',\n",
       " 'gga_x_pw86',\n",
       " 'gga_x_pw91',\n",
       " 'gga_x_optx',\n",
       " 'gga_x_dk87_r1',\n",
       " 'gga_x_dk87_r2',\n",
       " 'gga_x_lg93',\n",
       " 'gga_x_ft97_a',\n",
       " 'gga_x_ft97_b',\n",
       " 'gga_x_pbe_sol',\n",
       " 'gga_x_rpbe',\n",
       " 'gga_x_wc',\n",
       " 'gga_x_mpw91',\n",
       " 'gga_x_am05',\n",
       " 'gga_x_pbea',\n",
       " 'gga_x_mpbe',\n",
       " 'gga_x_xpbe',\n",
       " 'gga_x_2d_b86_mgc',\n",
       " 'gga_x_bayesian',\n",
       " 'gga_x_pbe_jsjr',\n",
       " 'gga_x_2d_b88',\n",
       " 'gga_x_2d_b86',\n",
       " 'gga_x_2d_pbe',\n",
       " 'gga_c_pbe',\n",
       " 'gga_c_lyp',\n",
       " 'gga_c_p86',\n",
       " 'gga_c_pbe_sol',\n",
       " 'gga_c_pw91',\n",
       " 'gga_c_am05',\n",
       " 'gga_c_xpbe',\n",
       " 'gga_c_lm',\n",
       " 'gga_c_pbe_jrgx',\n",
       " 'gga_x_optb88_vdw',\n",
       " 'gga_x_pbek1_vdw',\n",
       " 'gga_x_optpbe_vdw',\n",
       " 'gga_x_rge2',\n",
       " 'gga_c_rge2',\n",
       " 'gga_x_rpw86',\n",
       " 'gga_x_kt1',\n",
       " 'gga_xc_kt2',\n",
       " 'gga_c_wl',\n",
       " 'gga_c_wi',\n",
       " 'gga_x_mb88',\n",
       " 'gga_x_sogga',\n",
       " 'gga_x_sogga11',\n",
       " 'gga_c_sogga11',\n",
       " 'gga_c_wi0',\n",
       " 'gga_xc_th1',\n",
       " 'gga_xc_th2',\n",
       " 'gga_xc_th3',\n",
       " 'gga_xc_th4',\n",
       " 'gga_x_c09x',\n",
       " 'gga_c_sogga11_x',\n",
       " 'gga_x_lb',\n",
       " 'gga_xc_hcth_93',\n",
       " 'gga_xc_hcth_120',\n",
       " 'gga_xc_hcth_147',\n",
       " 'gga_xc_hcth_407',\n",
       " 'gga_xc_edf1',\n",
       " 'gga_xc_xlyp',\n",
       " 'gga_xc_kt1',\n",
       " 'gga_xc_b97_d',\n",
       " 'gga_xc_pbe1w',\n",
       " 'gga_xc_mpwlyp1w',\n",
       " 'gga_xc_pbelyp1w',\n",
       " 'gga_x_lbm',\n",
       " 'gga_x_ol2',\n",
       " 'gga_x_apbe',\n",
       " 'gga_k_apbe',\n",
       " 'gga_c_apbe',\n",
       " 'gga_k_tw1',\n",
       " 'gga_k_tw2',\n",
       " 'gga_k_tw3',\n",
       " 'gga_k_tw4',\n",
       " 'gga_x_htbs',\n",
       " 'gga_x_airy',\n",
       " 'gga_x_lag',\n",
       " 'gga_xc_mohlyp',\n",
       " 'gga_xc_mohlyp2',\n",
       " 'gga_xc_th_fl',\n",
       " 'gga_xc_th_fc',\n",
       " 'gga_xc_th_fcfo',\n",
       " 'gga_xc_th_fco',\n",
       " 'gga_c_optc',\n",
       " 'gga_c_pbeloc',\n",
       " 'gga_xc_vv10',\n",
       " 'gga_c_pbefe',\n",
       " 'gga_c_op_pw91',\n",
       " 'gga_x_pbefe',\n",
       " 'gga_x_cap',\n",
       " 'gga_x_eb88',\n",
       " 'gga_c_pbe_mol',\n",
       " 'gga_k_absp3',\n",
       " 'gga_k_absp4',\n",
       " 'gga_c_bmk',\n",
       " 'gga_c_tau_hcth',\n",
       " 'gga_c_hyb_tau_hcth',\n",
       " 'gga_x_beefvdw',\n",
       " 'gga_xc_beefvdw',\n",
       " 'gga_x_pbetrans',\n",
       " 'gga_k_vw',\n",
       " 'gga_k_ge2',\n",
       " 'gga_k_golden',\n",
       " 'gga_k_yt65',\n",
       " 'gga_k_baltin',\n",
       " 'gga_k_lieb',\n",
       " 'gga_k_absp1',\n",
       " 'gga_k_absp2',\n",
       " 'gga_k_gr',\n",
       " 'gga_k_ludena',\n",
       " 'gga_k_gp85',\n",
       " 'gga_k_pearson',\n",
       " 'gga_k_ol1',\n",
       " 'gga_k_ol2',\n",
       " 'gga_k_fr_b88',\n",
       " 'gga_k_fr_pw86',\n",
       " 'gga_k_dk',\n",
       " 'gga_k_perdew',\n",
       " 'gga_k_vsk',\n",
       " 'gga_k_vjks',\n",
       " 'gga_k_ernzerhof',\n",
       " 'gga_k_lc94',\n",
       " 'gga_k_llp',\n",
       " 'gga_k_thakkar',\n",
       " 'gga_x_wpbeh',\n",
       " 'gga_x_hjs_pbe',\n",
       " 'gga_x_hjs_pbe_sol',\n",
       " 'gga_x_hjs_b88',\n",
       " 'gga_x_hjs_b97x',\n",
       " 'gga_x_ityh',\n",
       " 'gga_x_sfat',\n",
       " 'gga_x_sg4',\n",
       " 'gga_c_sg4',\n",
       " 'gga_x_gg99',\n",
       " 'gga_x_pbepow',\n",
       " 'gga_x_kgg99',\n",
       " 'gga_xc_hle16',\n",
       " 'gga_c_scan_e0',\n",
       " 'gga_c_gapc',\n",
       " 'gga_c_gaploc',\n",
       " 'gga_c_zvpbeint',\n",
       " 'gga_c_zvpbesol',\n",
       " 'gga_c_tm_lyp',\n",
       " 'gga_c_tm_pbe',\n",
       " 'gga_c_w94',\n",
       " 'gga_c_cs1',\n",
       " 'gga_x_b88m',\n",
       " 'hyb_gga_x_n12_sx',\n",
       " 'hyb_gga_xc_b97_1p',\n",
       " 'hyb_gga_xc_pbe_mol0',\n",
       " 'hyb_gga_xc_pbe_sol0',\n",
       " 'hyb_gga_xc_pbeb0',\n",
       " 'hyb_gga_xc_pbe_molb0',\n",
       " 'hyb_gga_xc_pbe50',\n",
       " 'hyb_gga_xc_b3pw91',\n",
       " 'hyb_gga_xc_b3lyp',\n",
       " 'hyb_gga_xc_b3p86',\n",
       " 'hyb_gga_xc_o3lyp',\n",
       " 'hyb_gga_xc_mpw1k',\n",
       " 'hyb_gga_xc_pbeh',\n",
       " 'hyb_gga_xc_b97',\n",
       " 'hyb_gga_xc_b97_1',\n",
       " 'hyb_gga_xc_b97_2',\n",
       " 'hyb_gga_xc_x3lyp',\n",
       " 'hyb_gga_xc_b1wc',\n",
       " 'hyb_gga_xc_b97_k',\n",
       " 'hyb_gga_xc_b97_3',\n",
       " 'hyb_gga_xc_mpw3pw',\n",
       " 'hyb_gga_xc_b1lyp',\n",
       " 'hyb_gga_xc_b1pw91',\n",
       " 'hyb_gga_xc_mpw1pw',\n",
       " 'hyb_gga_xc_mpw3lyp',\n",
       " 'hyb_gga_xc_sb98_1a',\n",
       " 'hyb_gga_xc_sb98_1b',\n",
       " 'hyb_gga_xc_sb98_1c',\n",
       " 'hyb_gga_xc_sb98_2a',\n",
       " 'hyb_gga_xc_sb98_2b',\n",
       " 'hyb_gga_xc_sb98_2c',\n",
       " 'hyb_gga_x_sogga11_x',\n",
       " 'hyb_gga_xc_hse03',\n",
       " 'hyb_gga_xc_hse06',\n",
       " 'hyb_gga_xc_hjs_pbe',\n",
       " 'hyb_gga_xc_hjs_pbe_sol',\n",
       " 'hyb_gga_xc_hjs_b88',\n",
       " 'hyb_gga_xc_hjs_b97x',\n",
       " 'hyb_gga_xc_cam_b3lyp',\n",
       " 'hyb_gga_xc_tuned_cam_b3lyp',\n",
       " 'hyb_gga_xc_bhandh',\n",
       " 'hyb_gga_xc_bhandhlyp',\n",
       " 'hyb_gga_xc_mb3lyp_rc04',\n",
       " 'hyb_gga_xc_mpwlyp1m',\n",
       " 'hyb_gga_xc_revb3lyp',\n",
       " 'hyb_gga_xc_camy_blyp',\n",
       " 'hyb_gga_xc_pbe0_13',\n",
       " 'hyb_gga_xc_b3lyps',\n",
       " 'hyb_gga_xc_wb97',\n",
       " 'hyb_gga_xc_wb97x',\n",
       " 'hyb_gga_xc_lrc_wpbeh',\n",
       " 'hyb_gga_xc_wb97x_v',\n",
       " 'hyb_gga_xc_lcy_pbe',\n",
       " 'hyb_gga_xc_lcy_blyp',\n",
       " 'hyb_gga_xc_lc_vv10',\n",
       " 'hyb_gga_xc_camy_b3lyp',\n",
       " 'hyb_gga_xc_wb97x_d',\n",
       " 'hyb_gga_xc_hpbeint',\n",
       " 'hyb_gga_xc_lrc_wpbe',\n",
       " 'hyb_gga_xc_b3lyp5',\n",
       " 'hyb_gga_xc_edf2',\n",
       " 'hyb_gga_xc_cap0',\n",
       " 'hyb_gga_xc_lc_wpbe',\n",
       " 'hyb_gga_xc_hse12',\n",
       " 'hyb_gga_xc_hse12s',\n",
       " 'hyb_gga_xc_hse_sol',\n",
       " 'hyb_gga_xc_cam_qtp_01',\n",
       " 'hyb_gga_xc_mpw1lyp',\n",
       " 'hyb_gga_xc_mpw1pbe',\n",
       " 'hyb_gga_xc_kmlyp',\n",
       " 'hyb_gga_xc_b5050lyp',\n",
       " 'mgga_c_dldf',\n",
       " 'mgga_xc_zlp',\n",
       " 'mgga_xc_otpss_d',\n",
       " 'mgga_c_cs',\n",
       " 'mgga_c_mn12_sx',\n",
       " 'mgga_c_mn12_l',\n",
       " 'mgga_c_m11_l',\n",
       " 'mgga_c_m11',\n",
       " 'mgga_c_m08_so',\n",
       " 'mgga_c_m08_hx',\n",
       " 'mgga_x_lta',\n",
       " 'mgga_x_tpss',\n",
       " 'mgga_x_m06_l',\n",
       " 'mgga_x_gvt4',\n",
       " 'mgga_x_tau_hcth',\n",
       " 'mgga_x_br89',\n",
       " 'mgga_x_bj06',\n",
       " 'mgga_x_tb09',\n",
       " 'mgga_x_rpp09',\n",
       " 'mgga_x_2d_prhg07',\n",
       " 'mgga_x_2d_prhg07_prp10',\n",
       " 'mgga_x_revtpss',\n",
       " 'mgga_x_pkzb',\n",
       " 'mgga_x_ms0',\n",
       " 'mgga_x_ms1',\n",
       " 'mgga_x_ms2',\n",
       " 'mgga_x_m11_l',\n",
       " 'mgga_x_mn12_l',\n",
       " 'mgga_xc_cc06',\n",
       " 'mgga_x_mk00',\n",
       " 'mgga_c_tpss',\n",
       " 'mgga_c_vsxc',\n",
       " 'mgga_c_m06_l',\n",
       " 'mgga_c_m06_hf',\n",
       " 'mgga_c_m06',\n",
       " 'mgga_c_m06_2x',\n",
       " 'mgga_c_m05',\n",
       " 'mgga_c_m05_2x',\n",
       " 'mgga_c_pkzb',\n",
       " 'mgga_c_bc95',\n",
       " 'mgga_c_revtpss',\n",
       " 'mgga_xc_tpsslyp1w',\n",
       " 'mgga_x_mk00b',\n",
       " 'mgga_x_bloc',\n",
       " 'mgga_x_modtpss',\n",
       " 'mgga_c_tpssloc',\n",
       " 'mgga_x_mbeef',\n",
       " 'mgga_x_mbeefvdw',\n",
       " 'mgga_xc_b97m_v',\n",
       " 'mgga_x_mvs',\n",
       " 'mgga_x_mn15_l',\n",
       " 'mgga_c_mn15_l',\n",
       " 'mgga_x_scan',\n",
       " 'mgga_c_scan',\n",
       " 'mgga_c_mn15',\n",
       " 'mgga_x_b00',\n",
       " 'mgga_xc_hle17',\n",
       " 'mgga_c_scan_rvv10',\n",
       " 'mgga_x_revm06_l',\n",
       " 'mgga_c_revm06_l',\n",
       " 'mgga_x_tm',\n",
       " 'mgga_x_vt84',\n",
       " 'mgga_x_sa_tpss',\n",
       " 'mgga_k_pc07',\n",
       " 'mgga_c_kcis',\n",
       " 'mgga_xc_lp90',\n",
       " 'mgga_c_b88',\n",
       " 'mgga_x_gx',\n",
       " 'mgga_x_pbe_gx',\n",
       " 'mgga_x_revscan',\n",
       " 'mgga_c_revscan',\n",
       " 'mgga_c_scan_vv10',\n",
       " 'mgga_c_revscan_vv10',\n",
       " 'mgga_x_br89_explicit',\n",
       " 'hyb_mgga_x_dldf',\n",
       " 'hyb_mgga_x_ms2h',\n",
       " 'hyb_mgga_x_mn12_sx',\n",
       " 'hyb_mgga_x_scan0',\n",
       " 'hyb_mgga_x_mn15',\n",
       " 'hyb_mgga_x_bmk',\n",
       " 'hyb_mgga_x_tau_hcth',\n",
       " 'hyb_mgga_x_m08_hx',\n",
       " 'hyb_mgga_x_m08_so',\n",
       " 'hyb_mgga_x_m11',\n",
       " 'hyb_mgga_x_m05',\n",
       " 'hyb_mgga_x_m05_2x',\n",
       " 'hyb_mgga_xc_b88b95',\n",
       " 'hyb_mgga_xc_b86b95',\n",
       " 'hyb_mgga_xc_pw86b95',\n",
       " 'hyb_mgga_xc_bb1k',\n",
       " 'hyb_mgga_x_m06_hf',\n",
       " 'hyb_mgga_xc_mpw1b95',\n",
       " 'hyb_mgga_xc_mpwb1k',\n",
       " 'hyb_mgga_xc_x1b95',\n",
       " 'hyb_mgga_xc_xb1k',\n",
       " 'hyb_mgga_x_m06',\n",
       " 'hyb_mgga_x_m06_2x',\n",
       " 'hyb_mgga_xc_pw6b95',\n",
       " 'hyb_mgga_xc_pwb6k',\n",
       " 'hyb_mgga_xc_tpssh',\n",
       " 'hyb_mgga_xc_revtpssh',\n",
       " 'hyb_mgga_x_mvsh',\n",
       " 'hyb_mgga_xc_wb97m_v',\n",
       " 'hyb_mgga_xc_b0kcis',\n",
       " 'hyb_mgga_xc_mpw1kcis',\n",
       " 'hyb_mgga_xc_mpwkcis1k',\n",
       " 'hyb_mgga_xc_pbe1kcis',\n",
       " 'hyb_mgga_xc_tpss1kcis',\n",
       " 'hyb_mgga_x_revscan0']"
      ]
     },
     "execution_count": 30,
     "metadata": {},
     "output_type": "execute_result"
    }
   ],
   "source": [
    "pylibxc.functional.util.xc_available_functional_names()"
   ]
  },
  {
   "cell_type": "code",
   "execution_count": null,
   "metadata": {
    "collapsed": true
   },
   "outputs": [],
   "source": []
  }
 ],
 "metadata": {
  "kernelspec": {
   "display_name": "Python 3",
   "language": "python",
   "name": "python3"
  },
  "language_info": {
   "codemirror_mode": {
    "name": "ipython",
    "version": 3
   },
   "file_extension": ".py",
   "mimetype": "text/x-python",
   "name": "python",
   "nbconvert_exporter": "python",
   "pygments_lexer": "ipython3",
   "version": "3.6.3"
  }
 },
 "nbformat": 4,
 "nbformat_minor": 2
}
