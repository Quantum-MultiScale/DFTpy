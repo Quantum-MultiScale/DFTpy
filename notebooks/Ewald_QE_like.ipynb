{
 "cells": [
  {
   "cell_type": "code",
   "execution_count": 1,
   "metadata": {},
   "outputs": [],
   "source": [
    "import numpy as np\n",
    "from scipy import special as sp\n",
    "import matplotlib.pyplot as plt\n",
    "import sys\n",
    "if \"../src/\" not in sys.path:\n",
    "    sys.path.insert(0,\"../src/\")\n",
    "from pbcpy.grid import DirectGrid, ReciprocalGrid\n",
    "from pbcpy.field import DirectField, ReciprocalField\n",
    "from pbcpy.functionals import *\n",
    "from pbcpy.local_functionals_utils import TF\n",
    "from pbcpy.semilocal_xc import LDA,PBE\n",
    "from pbcpy.local_pseudopotential import NuclearElectron\n",
    "from pbcpy.hartree import HartreeFunctional, HartreePotentialReciprocalSpace\n",
    "%matplotlib inline\n",
    "%load_ext autoreload\n",
    "%autoreload 2\n",
    "#\n",
    "from pbcpy.formats.qepp import PP\n",
    "from pbcpy.formats.xsf import XSF"
   ]
  },
  {
   "cell_type": "markdown",
   "metadata": {},
   "source": [
    "# Starting Ewald"
   ]
  },
  {
   "cell_type": "code",
   "execution_count": 2,
   "metadata": {
    "collapsed": true
   },
   "outputs": [],
   "source": [
    "def Get_Gmax(grid):\n",
    "    gg = grid.get_reciprocal().gg\n",
    "    gmax_x = np.sqrt(np.amax(gg[:,0,0]))\n",
    "    gmax_y = np.sqrt(np.amax(gg[0,:,0]))\n",
    "    gmax_z = np.sqrt(np.amax(gg[0,0,:]))\n",
    "    gmax = np.amin([gmax_x,gmax_y,gmax_z])\n",
    "    return gmax"
   ]
  },
  {
   "cell_type": "code",
   "execution_count": 3,
   "metadata": {
    "collapsed": true
   },
   "outputs": [],
   "source": [
    "def Get_Best_eta(precision,gmax,ions):\n",
    "    '''\n",
    "    INPUT: precision, gmax & ions\n",
    "    OUTPUT: eta\n",
    "    '''\n",
    "    \n",
    "    # charge\n",
    "    charge = 0.0\n",
    "    for i in np.arange(len(ions)):\n",
    "        charge+=ions[i].Zval\n",
    "    \n",
    "    #eta\n",
    "    eta = 1.2\n",
    "    NotGoodEta = True\n",
    "    while NotGoodEta:\n",
    "        upbound = 2.0 * charge**2 * np.sqrt ( eta / np.pi) * sp.erfc ( np.sqrt (gmax / 4.0 / eta) )\n",
    "        if upbound<precision:\n",
    "            NotGoodEta = False\n",
    "        else:\n",
    "            eta = eta - 0.1\n",
    "    return eta"
   ]
  },
  {
   "cell_type": "markdown",
   "metadata": {},
   "source": [
    "# Total Energy"
   ]
  },
  {
   "cell_type": "code",
   "execution_count": 4,
   "metadata": {
    "collapsed": true
   },
   "outputs": [],
   "source": [
    "def TotalEnergy(precision,ions,rho):\n",
    "    KEDF = KineticEnergy(rho)\n",
    "    XC = ExchangeCorrelationEnergy(rho)\n",
    "    Hartree = HartreeFunctional(rho).energydensity.integral()\n",
    "    gmax = Get_Gmax(rho.grid)\n",
    "    eta = Get_Best_eta(precision, gmax, ions)\n",
    "    DivergentTerm = Ediv1(ions,rho)+Ediv2(precision,eta,ions,rho)\n",
    "    print('Kinetic = ', KEDF)\n",
    "    print('     XC = ', XC)\n",
    "    print('Hartree = ', Hartree)\n",
    "    print('Ewald = ', DivergentTerm)\n",
    "    print('eta used = ', eta)\n",
    "    return KEDF+XC+DivergentTerm"
   ]
  },
  {
   "cell_type": "code",
   "execution_count": 5,
   "metadata": {
    "collapsed": true
   },
   "outputs": [],
   "source": [
    "def KineticEnergy(rho):\n",
    "    return TF(rho).energydensity.integral()"
   ]
  },
  {
   "cell_type": "code",
   "execution_count": 6,
   "metadata": {
    "collapsed": true
   },
   "outputs": [],
   "source": [
    "def ExchangeCorrelationEnergy(rho):\n",
    "    return PBE(rho,polarization='unpolarized').energydensity.integral()"
   ]
  },
  {
   "cell_type": "code",
   "execution_count": 7,
   "metadata": {
    "collapsed": true
   },
   "outputs": [],
   "source": [
    "def Eewald1(eta, charges, positions):\n",
    "    Esum=np.float(0.0)\n",
    "    for i in range(len(charges)):\n",
    "        for j in range(len(charges)):\n",
    "            if i!=j:\n",
    "                rij=positions[i]-positions[j]\n",
    "                dij=rij.length()\n",
    "                Esum+=charges[i]*charges[j]*sp.erfc(np.sqrt(eta)*dij)/dij\n",
    "    return Esum/2.0"
   ]
  },
  {
   "cell_type": "code",
   "execution_count": 8,
   "metadata": {
    "collapsed": true
   },
   "outputs": [],
   "source": [
    "def Eewald2(eta,ions,rho):\n",
    "    \n",
    "    #rec space sum\n",
    "    reciprocal_grid = rho.grid.get_reciprocal()\n",
    "    gg=reciprocal_grid.gg\n",
    "    strf = ions[0].strf(reciprocal_grid) * ions[0].Zval\n",
    "    for i in np.arange(1,len(ions)):\n",
    "        strf += ions[i].strf(reciprocal_grid) * ions[i].Zval\n",
    "    strf_sq =np.conjugate(strf)*strf\n",
    "    gg[0,0,0,0]=1.0\n",
    "    invgg=1.0/gg\n",
    "    invgg[0,0,0,0]=0.0\n",
    "    gg[0,0,0,0]=0.0\n",
    "    First_Sum=np.real(4.0*np.pi*np.sum(strf_sq*np.exp(-gg/(4.0*eta))*invgg)) / 2.0 / rho.grid.volume\n",
    "    \n",
    "    # double counting term\n",
    "    const=-np.sqrt(eta/np.pi)\n",
    "    sum = np.float(0.0)\n",
    "    for i in np.arange(len(ions)):\n",
    "        sum+=ions[i].Zval**2\n",
    "    dc_term=const*sum \n",
    "    \n",
    "    # G=0 term of local_PP - Hartree\n",
    "    const=-4.0*np.pi*(1.0/(4.0*eta*rho.grid.volume)/2.0)\n",
    "    sum = np.float(0.0)\n",
    "    for i in np.arange(mol.natoms):\n",
    "        sum+=ions[i].Zval\n",
    "    gzero_limit=const*sum**2\n",
    "    \n",
    "    return First_Sum+dc_term+gzero_limit\n"
   ]
  },
  {
   "cell_type": "code",
   "execution_count": 9,
   "metadata": {
    "collapsed": true
   },
   "outputs": [],
   "source": [
    "def Ediv2(precision,eta,ions,rho):\n",
    "    L=np.sqrt(np.einsum('ij->j',rho.grid.lattice**2))\n",
    "    prec = sp.erfcinv(precision/3.0)\n",
    "    rmax = np.array([ prec / np.sqrt(eta), prec / np.sqrt(eta), prec / np.sqrt(eta)])\n",
    "    N=np.rint(rmax/L)\n",
    "    print('Map of Cells = ',N)\n",
    "    print('Lengths = ',rmax/L)\n",
    "    charges = []\n",
    "    positions = []\n",
    "    sum = np.float(0.0)\n",
    "    for ix in np.arange(-N[0]+1,N[0]):\n",
    "        for iy in np.arange(-N[1]+1,N[1]):\n",
    "            for iz in np.arange(-N[2]+1,N[2]):\n",
    "                R=np.einsum('j,ij->i',np.array([ix,iy,iz],dtype=np.float),rho.grid.lattice.transpose())\n",
    "                for i in np.arange(len(ions)):\n",
    "                    charges.append(ions[i].Zval)\n",
    "                    positions.append(ions[i].pos-R)\n",
    "    output = Eewald1(eta,charges,positions)+Eewald2(eta,ions,rho)\n",
    "    output = output-np.sum(np.real(HartreePotentialReciprocalSpace(density=rho)*np.conjugate(rho.fft())))/2.0/rho.grid.volume\n",
    "    return output"
   ]
  },
  {
   "cell_type": "code",
   "execution_count": 10,
   "metadata": {
    "collapsed": true
   },
   "outputs": [],
   "source": [
    "def Ediv1(ions,rho):\n",
    "    \n",
    "    # alpha Z term:\n",
    "    alpha = 0.0\n",
    "    for i in range(len(ions)):\n",
    "        alpha += ions[i].alpha_mu\n",
    "    Z = 0.0\n",
    "    for i in range(len(ions)):\n",
    "        Z +=ions[i].Zval\n",
    "    alpha_z = alpha * Z / rho.grid.volume\n",
    "    \n",
    "    # twice Hartree term\n",
    "    rhog = rho.fft()\n",
    "    TwoEhart = np.sum(np.real(HartreePotentialReciprocalSpace(density=rho)*np.conjugate(rhog)))/rho.grid.volume\n",
    "    vloc = np.zeros_like(rhog)\n",
    "    for i in range(len(ions)):\n",
    "        vloc+=ions[i].v\n",
    "    vloc[0,0,0,0] = 0.0\n",
    "    Eloc = np.real(np.sum(np.conj(rhog)*vloc))/rho.grid.volume\n",
    "    return alpha_z+TwoEhart+Eloc"
   ]
  },
  {
   "cell_type": "markdown",
   "metadata": {},
   "source": [
    "# Test"
   ]
  },
  {
   "cell_type": "markdown",
   "metadata": {},
   "source": [
    "# get a test density and grid"
   ]
  },
  {
   "cell_type": "code",
   "execution_count": 11,
   "metadata": {},
   "outputs": [
    {
     "name": "stdout",
     "output_type": "stream",
     "text": [
      "PP_file not set in input. Can do so manually invoking Atom.local_PP\n",
      "PP_file not set in input. Can do so manually invoking Atom.local_PP\n",
      "Recpot pseudopotential ./Al_lda.oe01.recpot loaded\n",
      "Recpot pseudopotential ./Al_lda.oe01.recpot loaded\n"
     ]
    }
   ],
   "source": [
    "mol = PP(filepp='Al_fde_rho.pp').read()\n",
    "rho_of_r = mol.field\n",
    "\n",
    "# load PPs\n",
    "Nucel = NuclearElectron(mol.ions,rho_of_r,['./Al_lda.oe01.recpot','./Al_lda.oe01.recpot'])"
   ]
  },
  {
   "cell_type": "code",
   "execution_count": 12,
   "metadata": {},
   "outputs": [
    {
     "name": "stdout",
     "output_type": "stream",
     "text": [
      "Map of Cells =  [ 2.  2.  1.]\n",
      "Lengths =  [ 1.83733153  1.83733153  0.91866576]\n",
      "Kinetic =  1.61747277437\n",
      "     XC =  -1.63441442372\n",
      "Hartree =  0.00839883264471\n",
      "Ewald =  -4.08563080666\n",
      "eta used =  0.20000000000000004\n"
     ]
    },
    {
     "data": {
      "text/plain": [
       "-55.817549550334199"
      ]
     },
     "execution_count": 12,
     "metadata": {},
     "output_type": "execute_result"
    }
   ],
   "source": [
    "TotalEnergy(precision=1.0e-9,ions=mol.ions,rho=rho_of_r)*27.211/2"
   ]
  },
  {
   "cell_type": "markdown",
   "metadata": {},
   "source": [
    "# now `ewald` is a class of its own"
   ]
  },
  {
   "cell_type": "code",
   "execution_count": 58,
   "metadata": {},
   "outputs": [],
   "source": [
    "from pbcpy.ewald import ewald"
   ]
  },
  {
   "cell_type": "code",
   "execution_count": 59,
   "metadata": {},
   "outputs": [],
   "source": [
    "ewald = ewald(ions=mol.ions,precision=1.0e-9,rho=rho_of_r)"
   ]
  },
  {
   "cell_type": "code",
   "execution_count": 60,
   "metadata": {},
   "outputs": [
    {
     "data": {
      "text/plain": [
       "-4.0856308066616229"
      ]
     },
     "execution_count": 60,
     "metadata": {},
     "output_type": "execute_result"
    }
   ],
   "source": [
    "ewald.energy"
   ]
  },
  {
   "cell_type": "code",
   "execution_count": null,
   "metadata": {
    "collapsed": true
   },
   "outputs": [],
   "source": []
  }
 ],
 "metadata": {
  "kernelspec": {
   "display_name": "Python 3",
   "language": "python",
   "name": "python3"
  },
  "language_info": {
   "codemirror_mode": {
    "name": "ipython",
    "version": 3
   },
   "file_extension": ".py",
   "mimetype": "text/x-python",
   "name": "python",
   "nbconvert_exporter": "python",
   "pygments_lexer": "ipython3",
   "version": "3.6.3"
  }
 },
 "nbformat": 4,
 "nbformat_minor": 2
}
