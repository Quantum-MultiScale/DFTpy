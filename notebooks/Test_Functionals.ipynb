{
 "cells": [
  {
   "cell_type": "code",
   "execution_count": 1,
   "metadata": {},
   "outputs": [],
   "source": [
    "import numpy as np\n",
    "import matplotlib.pyplot as plt\n",
    "import sys\n",
    "if \"../src/\" not in sys.path:\n",
    "    sys.path.insert(0,\"../src/\")\n",
    "    \n",
    "from pbcpy.grid import DirectGrid, ReciprocalGrid\n",
    "from pbcpy.field import DirectField, ReciprocalField\n",
    "from pbcpy.functionals import FunctionalClass,TotalEnergyAndPotential\n",
    "from pbcpy.formats.qepp import PP"
   ]
  },
  {
   "cell_type": "markdown",
   "metadata": {},
   "source": [
    "### loading a molecule (density and grid and cell) from a previous QE calculations"
   ]
  },
  {
   "cell_type": "code",
   "execution_count": 2,
   "metadata": {},
   "outputs": [
    {
     "name": "stdout",
     "output_type": "stream",
     "text": [
      "PP_file not set in input. Can do so manually invoking Atom.local_PP\n",
      "PP_file not set in input. Can do so manually invoking Atom.local_PP\n"
     ]
    }
   ],
   "source": [
    "mol = PP(filepp='Al_fde_rho.pp').read()"
   ]
  },
  {
   "cell_type": "markdown",
   "metadata": {},
   "source": [
    "### define the KEDF "
   ]
  },
  {
   "cell_type": "code",
   "execution_count": 3,
   "metadata": {
    "collapsed": true
   },
   "outputs": [],
   "source": [
    "KE = FunctionalClass(type='KEDF',name='LC94',is_nonlocal=False)"
   ]
  },
  {
   "cell_type": "code",
   "execution_count": 4,
   "metadata": {},
   "outputs": [
    {
     "data": {
      "text/plain": [
       "<pbcpy.functional_output.Functional at 0x1070834e0>"
      ]
     },
     "execution_count": 4,
     "metadata": {},
     "output_type": "execute_result"
    }
   ],
   "source": [
    "KE.ComputeEnergyDensityPotential(rho=mol.field)"
   ]
  },
  {
   "cell_type": "markdown",
   "metadata": {},
   "source": [
    "### define the IONS and pseudopotentials "
   ]
  },
  {
   "cell_type": "code",
   "execution_count": 5,
   "metadata": {
    "collapsed": true
   },
   "outputs": [],
   "source": [
    "optional_kwargs={\n",
    "    'PP_list' : [\"./Al_lda.oe01.recpot\",\"./Al_lda.oe01.recpot\"],\n",
    "    'ions'    : mol.ions\n",
    "}\n",
    "IONS = FunctionalClass(type='IONS', optional_kwargs=optional_kwargs)"
   ]
  },
  {
   "cell_type": "markdown",
   "metadata": {},
   "source": [
    "### define the Hartree (only FFT fro now) "
   ]
  },
  {
   "cell_type": "code",
   "execution_count": 6,
   "metadata": {
    "collapsed": true
   },
   "outputs": [],
   "source": [
    "HARTREE = FunctionalClass(type='HARTREE')"
   ]
  },
  {
   "cell_type": "markdown",
   "metadata": {},
   "source": [
    "### define the XC "
   ]
  },
  {
   "cell_type": "code",
   "execution_count": 7,
   "metadata": {
    "collapsed": true
   },
   "outputs": [],
   "source": [
    "XC = FunctionalClass(type='XC',name='LDA',is_nonlocal=False)"
   ]
  },
  {
   "cell_type": "markdown",
   "metadata": {},
   "source": [
    "# Now can do calculations"
   ]
  },
  {
   "cell_type": "code",
   "execution_count": 8,
   "metadata": {},
   "outputs": [],
   "source": [
    "E_v_Evaluator = TotalEnergyAndPotential(rho=mol.field,\n",
    "                                        KineticEnergyFunctional=KE,\n",
    "                                        XCFunctional=XC,\n",
    "                                        HARTREE=HARTREE,\n",
    "                                        IONS=IONS)"
   ]
  },
  {
   "cell_type": "markdown",
   "metadata": {},
   "source": [
    "### this computes energy and potential from a directfield rho"
   ]
  },
  {
   "cell_type": "code",
   "execution_count": 9,
   "metadata": {},
   "outputs": [
    {
     "name": "stdout",
     "output_type": "stream",
     "text": [
      "Recpot pseudopotential ./Al_lda.oe01.recpot loaded\n",
      "Recpot pseudopotential ./Al_lda.oe01.recpot loaded\n"
     ]
    },
    {
     "data": {
      "text/plain": [
       "<pbcpy.functional_output.Functional at 0x107083898>"
      ]
     },
     "execution_count": 9,
     "metadata": {},
     "output_type": "execute_result"
    }
   ],
   "source": [
    "E_v_Evaluator.ComputeEnergyDensityPotential(rho=mol.field)"
   ]
  },
  {
   "cell_type": "code",
   "execution_count": 12,
   "metadata": {},
   "outputs": [
    {
     "data": {
      "text/plain": [
       "DirectField([[[[ 3.74518045],\n",
       "               [ 3.48490827],\n",
       "               [ 2.78425337],\n",
       "               ..., \n",
       "               [ 2.09567844],\n",
       "               [ 2.78425336],\n",
       "               [ 3.48490826]],\n",
       "\n",
       "              [[ 3.48586691],\n",
       "               [ 2.99401061],\n",
       "               [ 2.3424134 ],\n",
       "               ..., \n",
       "               [ 2.33673873],\n",
       "               [ 2.99967443],\n",
       "               [ 3.47266662]],\n",
       "\n",
       "              [[ 2.78765512],\n",
       "               [ 2.34373736],\n",
       "               [ 1.76428573],\n",
       "               ..., \n",
       "               [ 2.32816369],\n",
       "               [ 2.80415112],\n",
       "               [ 3.00276668]],\n",
       "\n",
       "              ..., \n",
       "              [[ 2.09934074],\n",
       "               [ 2.34061029],\n",
       "               [ 2.33020313],\n",
       "               ..., \n",
       "               [ 1.28151767],\n",
       "               [ 1.47347878],\n",
       "               [ 1.6738378 ]],\n",
       "\n",
       "              [[ 2.78765512],\n",
       "               [ 3.00276669],\n",
       "               [ 2.80415113],\n",
       "               ..., \n",
       "               [ 1.47453255],\n",
       "               [ 1.76428573],\n",
       "               [ 2.34373736]],\n",
       "\n",
       "              [[ 3.48586691],\n",
       "               [ 3.47266663],\n",
       "               [ 2.99967444],\n",
       "               ..., \n",
       "               [ 1.67074161],\n",
       "               [ 2.34241339],\n",
       "               [ 2.99401061]]],\n",
       "\n",
       "\n",
       "             [[[ 3.48586695],\n",
       "               [ 2.99401061],\n",
       "               [ 2.34241339],\n",
       "               ..., \n",
       "               [ 2.33673873],\n",
       "               [ 2.99967444],\n",
       "               [ 3.47266666]],\n",
       "\n",
       "              [[ 2.99514404],\n",
       "               [ 2.47351511],\n",
       "               [ 1.87669579],\n",
       "               ..., \n",
       "               [ 2.47697462],\n",
       "               [ 3.00425675],\n",
       "               [ 3.23514204]],\n",
       "\n",
       "              [[ 2.34426753],\n",
       "               [ 1.87782175],\n",
       "               [ 1.43405895],\n",
       "               ..., \n",
       "               [ 2.32062878],\n",
       "               [ 2.6090954 ],\n",
       "               [ 2.61936902]],\n",
       "\n",
       "              ..., \n",
       "              [[ 2.34062128],\n",
       "               [ 2.48184168],\n",
       "               [ 2.32290003],\n",
       "               ..., \n",
       "               [ 1.55354872],\n",
       "               [ 1.50293735],\n",
       "               [ 1.98402575]],\n",
       "\n",
       "              [[ 3.00351929],\n",
       "               [ 3.00703398],\n",
       "               [ 2.60874211],\n",
       "               ..., \n",
       "               [ 1.50204801],\n",
       "               [ 2.1040388 ],\n",
       "               [ 2.61948133]],\n",
       "\n",
       "              [[ 3.47356536],\n",
       "               [ 3.23540728],\n",
       "               [ 2.61729948],\n",
       "               ..., \n",
       "               [ 1.98035847],\n",
       "               [ 2.61729946],\n",
       "               [ 3.23540724]]],\n",
       "\n",
       "\n",
       "             [[[ 2.78765512],\n",
       "               [ 2.34373739],\n",
       "               [ 1.76428575],\n",
       "               ..., \n",
       "               [ 2.32816372],\n",
       "               [ 2.80415118],\n",
       "               [ 3.00276672]],\n",
       "\n",
       "              [[ 2.34426756],\n",
       "               [ 1.87782177],\n",
       "               [ 1.43405895],\n",
       "               ..., \n",
       "               [ 2.32062878],\n",
       "               [ 2.60909539],\n",
       "               [ 2.61936901]],\n",
       "\n",
       "              [[ 1.76647368],\n",
       "               [ 1.43346646],\n",
       "               [ 1.49898155],\n",
       "               ..., \n",
       "               [ 2.09239626],\n",
       "               [ 2.23096776],\n",
       "               [ 2.10498244]],\n",
       "\n",
       "              ..., \n",
       "              [[ 2.33242365],\n",
       "               [ 2.32495962],\n",
       "               [ 2.09500538],\n",
       "               ..., \n",
       "               [ 1.47926129],\n",
       "               [ 1.65473376],\n",
       "               [ 2.09779471]],\n",
       "\n",
       "              [[ 2.80763063],\n",
       "               [ 2.61084917],\n",
       "               [ 2.2311579 ],\n",
       "               ..., \n",
       "               [ 1.652591  ],\n",
       "               [ 2.23115791],\n",
       "               [ 2.61084919]],\n",
       "\n",
       "              [[ 3.00351932],\n",
       "               [ 2.61948133],\n",
       "               [ 2.10403883],\n",
       "               ..., \n",
       "               [ 2.09468169],\n",
       "               [ 2.60874211],\n",
       "               [ 3.007034  ]]],\n",
       "\n",
       "\n",
       "             ..., \n",
       "             [[[ 2.09934076],\n",
       "               [ 2.34061029],\n",
       "               [ 2.33020309],\n",
       "               ..., \n",
       "               [ 1.28151779],\n",
       "               [ 1.4734787 ],\n",
       "               [ 1.67383776]],\n",
       "\n",
       "              [[ 2.34062127],\n",
       "               [ 2.48184163],\n",
       "               [ 2.32289998],\n",
       "               ..., \n",
       "               [ 1.55354879],\n",
       "               [ 1.5029373 ],\n",
       "               [ 1.98402577]],\n",
       "\n",
       "              [[ 2.33242359],\n",
       "               [ 2.32495956],\n",
       "               [ 2.09500534],\n",
       "               ..., \n",
       "               [ 1.47926126],\n",
       "               [ 1.65473374],\n",
       "               [ 2.0977947 ]],\n",
       "\n",
       "              ..., \n",
       "              [[ 1.28192374],\n",
       "               [ 1.54997714],\n",
       "               [ 1.47649298],\n",
       "               ..., \n",
       "               [ 0.4562787 ],\n",
       "               [ 0.68660986],\n",
       "               [ 1.09469932]],\n",
       "\n",
       "              [[ 1.47234788],\n",
       "               [ 1.5041487 ],\n",
       "               [ 1.6551711 ],\n",
       "               ..., \n",
       "               [ 0.68612839],\n",
       "               [ 1.06941942],\n",
       "               [ 1.45179716]],\n",
       "\n",
       "              [[ 1.67458554],\n",
       "               [ 1.98345593],\n",
       "               [ 2.09641796],\n",
       "               ..., \n",
       "               [ 1.09741385],\n",
       "               [ 1.4529833 ],\n",
       "               [ 1.43091832]]],\n",
       "\n",
       "\n",
       "             [[[ 2.78765507],\n",
       "               [ 3.00276667],\n",
       "               [ 2.80415115],\n",
       "               ..., \n",
       "               [ 1.47453251],\n",
       "               [ 1.76428573],\n",
       "               [ 2.34373735]],\n",
       "\n",
       "              [[ 3.00351926],\n",
       "               [ 3.00703395],\n",
       "               [ 2.60874208],\n",
       "               ..., \n",
       "               [ 1.50204798],\n",
       "               [ 2.1040388 ],\n",
       "               [ 2.61948129]],\n",
       "\n",
       "              [[ 2.80763058],\n",
       "               [ 2.61084915],\n",
       "               [ 2.23115788],\n",
       "               ..., \n",
       "               [ 1.65259098],\n",
       "               [ 2.23115785],\n",
       "               [ 2.61084913]],\n",
       "\n",
       "              ..., \n",
       "              [[ 1.47234792],\n",
       "               [ 1.50414873],\n",
       "               [ 1.65517109],\n",
       "               ..., \n",
       "               [ 0.68612839],\n",
       "               [ 1.06941939],\n",
       "               [ 1.45179714]],\n",
       "\n",
       "              [[ 1.76647366],\n",
       "               [ 2.10498243],\n",
       "               [ 2.23096774],\n",
       "               ..., \n",
       "               [ 1.07164852],\n",
       "               [ 1.49898155],\n",
       "               [ 1.43346644]],\n",
       "\n",
       "              [[ 2.34426754],\n",
       "               [ 2.61936898],\n",
       "               [ 2.60909536],\n",
       "               ..., \n",
       "               [ 1.45268805],\n",
       "               [ 1.43405892],\n",
       "               [ 1.87782175]]],\n",
       "\n",
       "\n",
       "             [[[ 3.48586691],\n",
       "               [ 3.47266663],\n",
       "               [ 2.99967442],\n",
       "               ..., \n",
       "               [ 1.67074159],\n",
       "               [ 2.34241336],\n",
       "               [ 2.99401058]],\n",
       "\n",
       "              [[ 3.47356532],\n",
       "               [ 3.23540722],\n",
       "               [ 2.61729944],\n",
       "               ..., \n",
       "               [ 1.98035848],\n",
       "               [ 2.61729944],\n",
       "               [ 3.23540724]],\n",
       "\n",
       "              [[ 3.00351925],\n",
       "               [ 2.6194813 ],\n",
       "               [ 2.1040388 ],\n",
       "               ..., \n",
       "               [ 2.09468166],\n",
       "               [ 2.60874208],\n",
       "               [ 3.00703394]],\n",
       "\n",
       "              ..., \n",
       "              [[ 1.67458558],\n",
       "               [ 1.98345591],\n",
       "               [ 2.09641794],\n",
       "               ..., \n",
       "               [ 1.09741379],\n",
       "               [ 1.45298325],\n",
       "               [ 1.43091838]],\n",
       "\n",
       "              [[ 2.34426752],\n",
       "               [ 2.619369  ],\n",
       "               [ 2.60909539],\n",
       "               ..., \n",
       "               [ 1.45268803],\n",
       "               [ 1.43405894],\n",
       "               [ 1.87782173]],\n",
       "\n",
       "              [[ 2.99514401],\n",
       "               [ 3.23514201],\n",
       "               [ 3.00425674],\n",
       "               ..., \n",
       "               [ 1.43165536],\n",
       "               [ 1.87669578],\n",
       "               [ 2.47351509]]]])"
      ]
     },
     "execution_count": 12,
     "metadata": {},
     "output_type": "execute_result"
    }
   ],
   "source": [
    "E_v_Evaluator.ComputeEnergyDensityPotential(rho=mol.field).potential"
   ]
  },
  {
   "cell_type": "code",
   "execution_count": 14,
   "metadata": {},
   "outputs": [
    {
     "data": {
      "text/plain": [
       "(1.3587913287268829,\n",
       " DirectField([ 0.0076762 ,  0.00670354,  0.00434727, ...,  0.00065643,\n",
       "               0.00169299,  0.0033385 ]))"
      ]
     },
     "execution_count": 14,
     "metadata": {},
     "output_type": "execute_result"
    }
   ],
   "source": [
    "E_v_Evaluator(phi=np.sqrt(mol.field))"
   ]
  },
  {
   "cell_type": "code",
   "execution_count": null,
   "metadata": {
    "collapsed": true
   },
   "outputs": [],
   "source": []
  }
 ],
 "metadata": {
  "kernelspec": {
   "display_name": "Python 3",
   "language": "python",
   "name": "python3"
  },
  "language_info": {
   "codemirror_mode": {
    "name": "ipython",
    "version": 3
   },
   "file_extension": ".py",
   "mimetype": "text/x-python",
   "name": "python",
   "nbconvert_exporter": "python",
   "pygments_lexer": "ipython3",
   "version": "3.6.3"
  }
 },
 "nbformat": 4,
 "nbformat_minor": 2
}
