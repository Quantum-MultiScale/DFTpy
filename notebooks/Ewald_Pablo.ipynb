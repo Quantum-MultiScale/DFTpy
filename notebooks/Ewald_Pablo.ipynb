{
 "cells": [
  {
   "cell_type": "code",
   "execution_count": 1,
   "metadata": {
    "collapsed": true
   },
   "outputs": [],
   "source": [
    "import numpy as np\n",
    "from scipy import special as sp\n",
    "import matplotlib.pyplot as plt"
   ]
  },
  {
   "cell_type": "code",
   "execution_count": 42,
   "metadata": {},
   "outputs": [
    {
     "name": "stdout",
     "output_type": "stream",
     "text": [
      "The autoreload extension is already loaded. To reload it, use:\n",
      "  %reload_ext autoreload\n"
     ]
    }
   ],
   "source": [
    "import sys\n",
    "if \"../src/\" not in sys.path:\n",
    "    sys.path.insert(0,\"../src/\")\n",
    "from pbcpy.grid import DirectGrid, ReciprocalGrid\n",
    "from pbcpy.field import DirectField, ReciprocalField\n",
    "from pbcpy.functionals import *\n",
    "from pbcpy.local_functionals_utils import HartreePotentialReciprocalSpace\n",
    "\n",
    "\n",
    "\n",
    "%matplotlib inline\n",
    "%load_ext autoreload\n",
    "%autoreload 2\n",
    "#\n",
    "from pbcpy.formats.qepp import PP\n",
    "from pbcpy.formats.xsf import XSF"
   ]
  },
  {
   "cell_type": "code",
   "execution_count": 3,
   "metadata": {},
   "outputs": [
    {
     "name": "stdout",
     "output_type": "stream",
     "text": [
      "PP_file not set in input. Can do so manually invoking Atom.local_PP\n",
      "PP_file not set in input. Can do so manually invoking Atom.local_PP\n"
     ]
    }
   ],
   "source": [
    "mol = PP(filepp='Al_fde_rho.pp').read()\n",
    "rho_of_r = mol.field\n",
    "grid=mol.cell"
   ]
  },
  {
   "cell_type": "code",
   "execution_count": 4,
   "metadata": {
    "collapsed": true
   },
   "outputs": [],
   "source": [
    "precision = 1.0e-8"
   ]
  },
  {
   "cell_type": "markdown",
   "metadata": {},
   "source": [
    "# Third term"
   ]
  },
  {
   "cell_type": "markdown",
   "metadata": {},
   "source": [
    "$$\n",
    "\\sum_{ix,iy,iz=-N_x,-N_y,-N_z}^{N_x,N_y,N_z} \\sum_{i,j}\n",
    "$$"
   ]
  },
  {
   "cell_type": "code",
   "execution_count": 5,
   "metadata": {},
   "outputs": [
    {
     "data": {
      "text/plain": [
       "array([  5.40641961,   5.40641961,  10.81283921])"
      ]
     },
     "execution_count": 5,
     "metadata": {},
     "output_type": "execute_result"
    }
   ],
   "source": [
    "L=np.sqrt(np.einsum('ij->j',grid.lattice**2))\n",
    "L"
   ]
  },
  {
   "cell_type": "code",
   "execution_count": 6,
   "metadata": {},
   "outputs": [
    {
     "name": "stdout",
     "output_type": "stream",
     "text": [
      "[656.41199309834917, 656.41199309834917, 656.41199309834917]\n",
      "32.8205996549\n"
     ]
    }
   ],
   "source": [
    "gmax=0.0\n",
    "gmax_x = np.amax(grid.get_reciprocal().gg[:,0,0])\n",
    "gmax_y = np.amax(grid.get_reciprocal().gg[0,:,0])\n",
    "gmax_z = np.amax(grid.get_reciprocal().gg[0,0,:])\n",
    "gmax = np.amin([gmax_x,gmax_y,gmax_z])/20.0\n",
    "print([gmax_x,gmax_y,gmax_z])\n",
    "print(gmax)"
   ]
  },
  {
   "cell_type": "code",
   "execution_count": 7,
   "metadata": {},
   "outputs": [
    {
     "name": "stdout",
     "output_type": "stream",
     "text": [
      "Charge =  6.0\n",
      "0.00966956808083\n",
      "0.00478274043146\n",
      "0.00207200114244\n",
      "0.000752992683233\n",
      "0.000215206452265\n",
      "4.37239740604e-05\n",
      "5.34032505313e-06\n",
      "2.90306517085e-07\n",
      "3.85979067337e-09\n",
      "0.4\n"
     ]
    }
   ],
   "source": [
    "# This was good, Pablo!\n",
    "\n",
    "charge = 0.0\n",
    "for i in np.arange(mol.natoms):\n",
    "    charge+=mol.ions[i].Zval\n",
    "print('Charge = ',charge)\n",
    "NotGoodEta = True\n",
    "eta = 1.2\n",
    "while NotGoodEta:\n",
    "    upbound = 2.0 * charge**2 *np.sqrt(eta/np.pi)*sp.erfc(np.sqrt((gmax)/4.0/eta))\n",
    "    print(upbound)\n",
    "    if upbound<precision:\n",
    "        NotGoodEta = False\n",
    "    else:\n",
    "        eta = eta - 0.1\n",
    "        \n",
    "print(eta)"
   ]
  },
  {
   "cell_type": "code",
   "execution_count": 8,
   "metadata": {},
   "outputs": [
    {
     "name": "stdout",
     "output_type": "stream",
     "text": [
      "6.32455532034\n",
      "[ 1.  1.  1.]\n"
     ]
    }
   ],
   "source": [
    "L=np.sqrt(np.einsum('ij->j',grid.lattice**2))\n",
    "rmax = np.array([4.0 / np.sqrt(eta),4.0 / np.sqrt(eta),4.0 / np.sqrt(eta)])\n",
    "print(4.0 / np.sqrt(eta))\n",
    "N=np.rint(rmax/L)\n",
    "print(N)"
   ]
  },
  {
   "cell_type": "code",
   "execution_count": 9,
   "metadata": {},
   "outputs": [
    {
     "name": "stdout",
     "output_type": "stream",
     "text": [
      "2.20924229208e-06\n"
     ]
    }
   ],
   "source": [
    "sum = np.float(0.0)\n",
    "for ix in np.arange(-N[0]+1,N[0]):\n",
    "    for iy in np.arange(-N[1]+1,N[1]):\n",
    "        for iz in np.arange(-N[2]+1,N[2]):\n",
    "            R=np.einsum('j,ij->i',np.array([ix,iy,iz],dtype=np.float),grid.lattice.transpose())\n",
    "            #print('R = ',R)\n",
    "            for i in np.arange(mol.natoms):\n",
    "                for j in np.arange(i+1):\n",
    "                    if j == i:\n",
    "                        if np.dot(R,R.transpose()) < precision:\n",
    "                            break\n",
    "                    Zi=mol.ions[i].Zval\n",
    "                    Zj=mol.ions[j].Zval\n",
    "                    rij = mol.ions[i].pos.d_mic(mol.ions[j].pos)-R\n",
    "                    dij=rij.length()\n",
    "                    sum += Zi*Zj*sp.erfc(np.sqrt(eta)*dij)/dij\n",
    "                    #print(dij,sum)\n",
    "third=sum\n",
    "print(third)"
   ]
  },
  {
   "cell_type": "markdown",
   "metadata": {},
   "source": [
    "# Second term"
   ]
  },
  {
   "cell_type": "code",
   "execution_count": 10,
   "metadata": {},
   "outputs": [
    {
     "name": "stdout",
     "output_type": "stream",
     "text": [
      "3.31701671831\n"
     ]
    }
   ],
   "source": [
    "reciprocal_grid = grid.get_reciprocal()\n",
    "gg=reciprocal_grid.gg\n",
    "strf = mol.ions[0].strf(reciprocal_grid) * mol.ions[0].Zval\n",
    "for i in np.arange(1,mol.natoms):\n",
    "    strf += mol.ions[i].strf(reciprocal_grid) * mol.ions[i].Zval\n",
    "strf_sq =np.conjugate(strf)*strf\n",
    "gg[0,0,0,0]=1\n",
    "invgg=1.0/gg\n",
    "invgg[0,0,0,0]=0.0\n",
    "second=np.real(4.0*np.pi*np.sum(strf_sq*np.exp(-gg/(4.0*eta))*invgg) / grid.volume)\n",
    "print(second)"
   ]
  },
  {
   "cell_type": "markdown",
   "metadata": {},
   "source": [
    "# Fourth term"
   ]
  },
  {
   "cell_type": "code",
   "execution_count": 11,
   "metadata": {},
   "outputs": [
    {
     "name": "stdout",
     "output_type": "stream",
     "text": [
      "-18.1665541585\n"
     ]
    }
   ],
   "source": [
    "const=-np.sqrt(8.0/np.pi*eta)\n",
    "sum = np.float(0.0)\n",
    "for i in np.arange(mol.natoms):\n",
    "    sum+=mol.ions[i].Zval**2\n",
    "fourth=const*sum \n",
    "print(fourth)"
   ]
  },
  {
   "cell_type": "markdown",
   "metadata": {},
   "source": [
    "# Fifth term"
   ]
  },
  {
   "cell_type": "code",
   "execution_count": 12,
   "metadata": {},
   "outputs": [
    {
     "name": "stdout",
     "output_type": "stream",
     "text": [
      "-1.26516781812\n"
     ]
    }
   ],
   "source": [
    "const=-4.0*np.pi*(1.0/(4.0*eta*grid.volume))\n",
    "sum = np.float(0.0)\n",
    "for i in np.arange(mol.natoms):\n",
    "    sum+=mol.ions[i].Zval\n",
    "fifth=const*sum**2\n",
    "print(fifth)"
   ]
  },
  {
   "cell_type": "markdown",
   "metadata": {},
   "source": [
    "# First term"
   ]
  },
  {
   "cell_type": "code",
   "execution_count": 13,
   "metadata": {},
   "outputs": [
    {
     "name": "stdout",
     "output_type": "stream",
     "text": [
      "-0.00839883264471\n"
     ]
    }
   ],
   "source": [
    "from pbcpy.hartree import HartreeFunctional\n",
    "Hartree = HartreeFunctional(rho_of_r)\n",
    "first=-Hartree.energydensity.integral()\n",
    "print(first)"
   ]
  },
  {
   "cell_type": "code",
   "execution_count": 14,
   "metadata": {},
   "outputs": [
    {
     "data": {
      "text/plain": [
       "-16.114703049111057"
      ]
     },
     "execution_count": 14,
     "metadata": {},
     "output_type": "execute_result"
    }
   ],
   "source": [
    "second+third+fourth+fifth"
   ]
  },
  {
   "cell_type": "code",
   "execution_count": 15,
   "metadata": {
    "collapsed": true
   },
   "outputs": [],
   "source": [
    "from pbcpy.local_pseudopotential import NuclearElectron"
   ]
  },
  {
   "cell_type": "code",
   "execution_count": 16,
   "metadata": {},
   "outputs": [
    {
     "name": "stdout",
     "output_type": "stream",
     "text": [
      "Recpot pseudopotential ./Al_lda.oe01.recpot loaded\n",
      "Recpot pseudopotential ./Al_lda.oe01.recpot loaded\n"
     ]
    }
   ],
   "source": [
    "Nucel = NuclearElectron(mol.ions,rho_of_r,['./Al_lda.oe01.recpot','./Al_lda.oe01.recpot'])"
   ]
  },
  {
   "cell_type": "markdown",
   "metadata": {},
   "source": [
    "# Alpha Z term"
   ]
  },
  {
   "cell_type": "code",
   "execution_count": 17,
   "metadata": {},
   "outputs": [],
   "source": [
    "alpha = 0.0\n",
    "for i in range(len(mol.ions)):\n",
    "    alpha +=mol.ions[i].alpha_mu"
   ]
  },
  {
   "cell_type": "code",
   "execution_count": 18,
   "metadata": {
    "collapsed": true
   },
   "outputs": [],
   "source": [
    "Z = 0.0\n",
    "for i in range(len(mol.ions)):\n",
    "    Z +=mol.ions[i].Z"
   ]
  },
  {
   "cell_type": "code",
   "execution_count": 19,
   "metadata": {},
   "outputs": [
    {
     "name": "stdout",
     "output_type": "stream",
     "text": [
      "6.06843916205\n"
     ]
    }
   ],
   "source": [
    "alpha_z = alpha * Z / mol.cell.volume\n",
    "print(alpha_z)"
   ]
  },
  {
   "cell_type": "code",
   "execution_count": 21,
   "metadata": {},
   "outputs": [
    {
     "data": {
      "text/plain": [
       "-10.046263887060082"
      ]
     },
     "execution_count": 21,
     "metadata": {},
     "output_type": "execute_result"
    }
   ],
   "source": [
    "second+third+fourth+fifth+alpha_z"
   ]
  },
  {
   "cell_type": "code",
   "execution_count": 45,
   "metadata": {
    "collapsed": true
   },
   "outputs": [],
   "source": [
    "v_h = HartreePotentialReciprocalSpace(density=rho_of_r)"
   ]
  },
  {
   "cell_type": "code",
   "execution_count": 46,
   "metadata": {},
   "outputs": [],
   "source": [
    "vloc = np.zeros_like(rho_of_r.fft())\n",
    "for i in range(len(mol.ions)):\n",
    "    vloc+=mol.ions[i].v"
   ]
  },
  {
   "cell_type": "code",
   "execution_count": 47,
   "metadata": {
    "collapsed": true
   },
   "outputs": [],
   "source": [
    "vloc[0,0,0,0] = 0.0"
   ]
  },
  {
   "cell_type": "code",
   "execution_count": 60,
   "metadata": {},
   "outputs": [
    {
     "name": "stdout",
     "output_type": "stream",
     "text": [
      "-4826.804195782919\n"
     ]
    }
   ],
   "source": [
    "E_loc =  np.real(np.sum((vloc + v_h)* np.conj(rho_of_r.fft()) ))* mol.cell.volume\n",
    "print(E_loc)"
   ]
  },
  {
   "cell_type": "code",
   "execution_count": 49,
   "metadata": {},
   "outputs": [
    {
     "data": {
      "text/plain": [
       "0j"
      ]
     },
     "execution_count": 49,
     "metadata": {},
     "output_type": "execute_result"
    }
   ],
   "source": [
    "vloc[0,0,0,0]"
   ]
  },
  {
   "cell_type": "code",
   "execution_count": 50,
   "metadata": {},
   "outputs": [
    {
     "data": {
      "text/plain": [
       "0j"
      ]
     },
     "execution_count": 50,
     "metadata": {},
     "output_type": "execute_result"
    }
   ],
   "source": [
    "v_h[0,0,0,0]"
   ]
  },
  {
   "cell_type": "code",
   "execution_count": null,
   "metadata": {
    "collapsed": true
   },
   "outputs": [],
   "source": []
  }
 ],
 "metadata": {
  "kernelspec": {
   "display_name": "Python 3",
   "language": "python",
   "name": "python3"
  },
  "language_info": {
   "codemirror_mode": {
    "name": "ipython",
    "version": 3
   },
   "file_extension": ".py",
   "mimetype": "text/x-python",
   "name": "python",
   "nbconvert_exporter": "python",
   "pygments_lexer": "ipython3",
   "version": "3.6.3"
  }
 },
 "nbformat": 4,
 "nbformat_minor": 2
}
