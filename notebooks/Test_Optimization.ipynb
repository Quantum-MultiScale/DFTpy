{
 "cells": [
  {
   "cell_type": "code",
   "execution_count": 1,
   "metadata": {},
   "outputs": [],
   "source": [
    "import sys\n",
    "if \"../src/\" not in sys.path:\n",
    "    sys.path.insert(0,\"../src/\")"
   ]
  },
  {
   "cell_type": "code",
   "execution_count": 2,
   "metadata": {},
   "outputs": [
    {
     "name": "stdout",
     "output_type": "stream",
     "text": [
      "Use numpy for Fourier Transform\n"
     ]
    }
   ],
   "source": [
    "import numpy as np\n",
    "from pbcpy.formats.qepp import PP\n",
    "from pbcpy.optimization import Optimization\n",
    "from pbcpy.functionals import FunctionalClass, TotalEnergyAndPotential"
   ]
  },
  {
   "cell_type": "markdown",
   "metadata": {},
   "source": [
    "### load guess density"
   ]
  },
  {
   "cell_type": "code",
   "execution_count": 3,
   "metadata": {},
   "outputs": [],
   "source": [
    "mol = PP(filepp='Al_fde_rho.pp').read()"
   ]
  },
  {
   "cell_type": "markdown",
   "metadata": {},
   "source": [
    "### Load KEDF"
   ]
  },
  {
   "cell_type": "code",
   "execution_count": 4,
   "metadata": {},
   "outputs": [],
   "source": [
    "optional_kwargs = {}\n",
    "optional_kwargs[\"Sigma\"] = 0.0\n",
    "optional_kwargs[\"x\"] = 1.0\n",
    "optional_kwargs[\"y\"] = 1.0\n",
    "KE = FunctionalClass(type='KEDF',name='x_TF_y_vW',is_nonlocal=False,optional_kwargs=optional_kwargs)"
   ]
  },
  {
   "cell_type": "markdown",
   "metadata": {},
   "source": [
    "### load XC"
   ]
  },
  {
   "cell_type": "code",
   "execution_count": 5,
   "metadata": {},
   "outputs": [],
   "source": [
    "XC = FunctionalClass(type='XC',name='LDA',is_nonlocal=False)"
   ]
  },
  {
   "cell_type": "markdown",
   "metadata": {},
   "source": [
    "### load IONS and HARTREE"
   ]
  },
  {
   "cell_type": "code",
   "execution_count": 17,
   "metadata": {},
   "outputs": [],
   "source": [
    "optional_kwargs = {}\n",
    "optional_kwargs[\"PP_list\"] = {'Al':'./Al_lda.oe01.recpot'}\n",
    "optional_kwargs[\"ions\"]    = mol.ions \n",
    "\n",
    "IONS = FunctionalClass(type='IONS', optional_kwargs=optional_kwargs)\n",
    "HARTREE = FunctionalClass(type='HARTREE')"
   ]
  },
  {
   "cell_type": "markdown",
   "metadata": {},
   "source": [
    "### load energy evaluator"
   ]
  },
  {
   "cell_type": "code",
   "execution_count": 18,
   "metadata": {},
   "outputs": [],
   "source": [
    "E_v_Evaluator = TotalEnergyAndPotential(rho=mol.field,\n",
    "                                        KineticEnergyFunctional=KE,\n",
    "                                        XCFunctional=XC,\n",
    "                                        HARTREE=HARTREE,\n",
    "                                        IONS=IONS)"
   ]
  },
  {
   "cell_type": "markdown",
   "metadata": {},
   "source": [
    "### instance optimizer"
   ]
  },
  {
   "cell_type": "code",
   "execution_count": 19,
   "metadata": {},
   "outputs": [],
   "source": [
    "opt = Optimization(EnergyEvaluator=E_v_Evaluator, optimization_method = 'TN')"
   ]
  },
  {
   "cell_type": "markdown",
   "metadata": {},
   "source": [
    "### optimize!"
   ]
  },
  {
   "cell_type": "code",
   "execution_count": 20,
   "metadata": {},
   "outputs": [
    {
     "name": "stdout",
     "output_type": "stream",
     "text": [
      "func time 0.06056833267211914\n",
      "Step    Energy(a.u.)            dE              dP              Nd      Nls     Time(s)         \n",
      "0       1.427370978142E+00      +999999999E99   1.711157E+04    1       1       6.275773E-02    \n",
      "1       2.184425105154E-02      -1.405527E+00   2.142150E+03    49      1       1.565764E+00    \n",
      "2       -2.581575392204E-02     -4.766000E-02   1.312786E+02    12      1       2.019736E+00    \n",
      "3       -4.751849753123E-02     -2.170274E-02   1.453647E+01    41      4       3.284698E+00    \n",
      "4       -4.842189465565E-02     -9.033971E-04   1.295853E+00    17      1       3.882707E+00    \n",
      "5       -4.855868840000E-02     -1.367937E-04   1.171214E-01    34      1       4.915240E+00    \n",
      "6       -4.856528085973E-02     -6.592460E-06   1.082296E-02    23      1       5.606279E+00    \n",
      "#### Density Optimization Converged ####\n"
     ]
    }
   ],
   "source": [
    "new_rho = opt.optimize_rho(guess_rho=mol.field)"
   ]
  },
  {
   "cell_type": "code",
   "execution_count": 21,
   "metadata": {},
   "outputs": [],
   "source": [
    "delta_rho = np.abs(new_rho - mol.field).integral()/2"
   ]
  },
  {
   "cell_type": "code",
   "execution_count": 22,
   "metadata": {},
   "outputs": [
    {
     "name": "stdout",
     "output_type": "stream",
     "text": [
      "0.45533255345808193\n"
     ]
    }
   ],
   "source": [
    "print(delta_rho)"
   ]
  },
  {
   "cell_type": "code",
   "execution_count": 23,
   "metadata": {},
   "outputs": [
    {
     "data": {
      "text/plain": [
       "-3.9344391154081597"
      ]
     },
     "execution_count": 23,
     "metadata": {},
     "output_type": "execute_result"
    }
   ],
   "source": [
    "E_v_Evaluator.Energy(rho=mol.field,ions=mol.ions)"
   ]
  },
  {
   "cell_type": "code",
   "execution_count": null,
   "metadata": {
    "collapsed": true
   },
   "outputs": [],
   "source": []
  }
 ],
 "metadata": {
  "kernelspec": {
   "display_name": "Python 3",
   "language": "python",
   "name": "python3"
  },
  "language_info": {
   "codemirror_mode": {
    "name": "ipython",
    "version": 3
   },
   "file_extension": ".py",
   "mimetype": "text/x-python",
   "name": "python",
   "nbconvert_exporter": "python",
   "pygments_lexer": "ipython3",
   "version": "3.7.3"
  }
 },
 "nbformat": 4,
 "nbformat_minor": 2
}
