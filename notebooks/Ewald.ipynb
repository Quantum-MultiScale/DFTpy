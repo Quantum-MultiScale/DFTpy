{
 "cells": [
  {
   "cell_type": "code",
   "execution_count": 1,
   "metadata": {
    "collapsed": true
   },
   "outputs": [],
   "source": [
    "import numpy as np\n",
    "import scipy.special as sp\n",
    "import matplotlib.pyplot as plt"
   ]
  },
  {
   "cell_type": "code",
   "execution_count": 2,
   "metadata": {
    "collapsed": true
   },
   "outputs": [],
   "source": [
    "import sys\n",
    "if \"../src/\" not in sys.path:\n",
    "    sys.path.insert(0,\"../src/\")\n",
    "from pbcpy.grid import DirectGrid, ReciprocalGrid\n",
    "from pbcpy.field import DirectField, ReciprocalField\n",
    "from pbcpy.functionals import *\n",
    "\n",
    "%matplotlib inline\n",
    "%load_ext autoreload\n",
    "%autoreload 2\n",
    "#\n",
    "from pbcpy.formats.qepp import PP\n",
    "from pbcpy.formats.xsf import XSF"
   ]
  },
  {
   "cell_type": "code",
   "execution_count": 3,
   "metadata": {
    "collapsed": true
   },
   "outputs": [],
   "source": [
    "mol = PP(filepp='Al_fde_rho.pp').read()\n",
    "rho_of_r = mol.field\n",
    "grid=mol.cell"
   ]
  },
  {
   "cell_type": "code",
   "execution_count": 4,
   "metadata": {
    "collapsed": true
   },
   "outputs": [],
   "source": [
    "precision = 1.0e-8\n",
    "eta=0.05\n",
    "sq_eta = eta**2"
   ]
  },
  {
   "cell_type": "markdown",
   "metadata": {},
   "source": [
    "# Third term"
   ]
  },
  {
   "cell_type": "markdown",
   "metadata": {},
   "source": [
    "$$\n",
    "\\sum_{ix,iy,iz=-N_x,-N_y,-N_z}^{N_x,N_y,N_z} \\sum_{i,j}\n",
    "$$"
   ]
  },
  {
   "cell_type": "code",
   "execution_count": 5,
   "metadata": {},
   "outputs": [
    {
     "data": {
      "text/plain": [
       "array([[ 3.82291596,  3.82291596,  0.        ],\n",
       "       [ 3.82291596,  0.        ,  7.64583193],\n",
       "       [ 0.        ,  3.82291596,  7.64583193]])"
      ]
     },
     "execution_count": 5,
     "metadata": {},
     "output_type": "execute_result"
    }
   ],
   "source": [
    "grid.lattice"
   ]
  },
  {
   "cell_type": "code",
   "execution_count": 43,
   "metadata": {},
   "outputs": [
    {
     "name": "stdout",
     "output_type": "stream",
     "text": [
      "142.913040208\n"
     ]
    }
   ],
   "source": [
    "L=eta*np.sqrt(np.einsum('ij->j',grid.lattice**2))\n",
    "N=np.array(sp.erfcinv(precision)/L,dtype=np.int)\n",
    "sum = np.float(0.0)\n",
    "for ix in np.arange(-N[0]+1,N[0]):\n",
    "    for iy in np.arange(-N[1]+1,N[1]):\n",
    "        for iz in np.arange(-N[2]+1,N[2]):\n",
    "            R=np.einsum('j,ij->i',np.array([ix,iy,iz],dtype=np.float),grid.lattice.transpose())\n",
    "            #print('R = ',R)\n",
    "            for i in np.arange(mol.natoms):\n",
    "                for j in np.arange(i+1):\n",
    "                    if j == i:\n",
    "                        if np.dot(R,R.transpose()) < precision:\n",
    "                            break\n",
    "                    Zi=mol.ions[i].Zval\n",
    "                    Zj=mol.ions[j].Zval\n",
    "                    rij = mol.ions[i].pos.d_mic(mol.ions[j].pos)-R\n",
    "                    dij=rij.length()\n",
    "                    sum += Zi*Zj*sp.erfc(eta*dij)/dij\n",
    "                    #print(dij,sum)\n",
    "third=sum\n",
    "print(third)"
   ]
  },
  {
   "cell_type": "markdown",
   "metadata": {},
   "source": [
    "# Second term"
   ]
  },
  {
   "cell_type": "code",
   "execution_count": 35,
   "metadata": {},
   "outputs": [
    {
     "name": "stdout",
     "output_type": "stream",
     "text": [
      "1.04164995209e-53\n"
     ]
    }
   ],
   "source": [
    "reciprocal_grid = grid.get_reciprocal()\n",
    "gg=reciprocal_grid.gg\n",
    "strf = mol.ions[0].strf(reciprocal_grid) * mol.ions[0].Zval\n",
    "for i in np.arange(1,mol.natoms):\n",
    "    strf += mol.ions[i].strf(reciprocal_grid) * mol.ions[i].Zval\n",
    "strf_sq = strf*np.conjugate(strf)\n",
    "gg[0,0,0,0]=1\n",
    "invgg=1.0/gg\n",
    "invgg[0,0,0,0]=0.0\n",
    "second=np.real(4.0*np.pi*0.5*np.sum(strf_sq*np.exp(-gg/(4.0*sq_eta))*invgg) / grid.volume)\n",
    "print(second)"
   ]
  },
  {
   "cell_type": "markdown",
   "metadata": {},
   "source": [
    "# Second term (different implementation - not yet started)"
   ]
  },
  {
   "cell_type": "code",
   "execution_count": 35,
   "metadata": {},
   "outputs": [
    {
     "name": "stdout",
     "output_type": "stream",
     "text": [
      "1.04164995209e-53\n"
     ]
    }
   ],
   "source": [
    "reciprocal_grid = grid.get_reciprocal()\n",
    "gg=reciprocal_grid.gg\n",
    "strf = mol.ions[0].strf(reciprocal_grid) * mol.ions[0].Zval\n",
    "for i in np.arange(1,mol.natoms):\n",
    "    strf += mol.ions[i].strf(reciprocal_grid) * mol.ions[i].Zval\n",
    "strf_sq = strf*np.conjugate(strf)\n",
    "gg[0,0,0,0]=1\n",
    "invgg=1.0/gg\n",
    "invgg[0,0,0,0]=0.0\n",
    "second=np.real(4.0*np.pi*0.5*np.sum(strf_sq*np.exp(-gg/(4.0*sq_eta))*invgg) / grid.volume)\n",
    "print(second)"
   ]
  },
  {
   "cell_type": "markdown",
   "metadata": {},
   "source": [
    "# Fourth term"
   ]
  },
  {
   "cell_type": "code",
   "execution_count": 36,
   "metadata": {},
   "outputs": [
    {
     "name": "stdout",
     "output_type": "stream",
     "text": [
      "-0.507770625193\n"
     ]
    }
   ],
   "source": [
    "const=-np.sqrt(sq_eta/np.pi)\n",
    "sum = np.float(0.0)\n",
    "for i in np.arange(mol.natoms):\n",
    "    sum+=mol.ions[i].Zval**2\n",
    "fourth=const*sum \n",
    "print(fourth)"
   ]
  },
  {
   "cell_type": "markdown",
   "metadata": {},
   "source": [
    "# Fifth term"
   ]
  },
  {
   "cell_type": "code",
   "execution_count": 37,
   "metadata": {},
   "outputs": [
    {
     "name": "stdout",
     "output_type": "stream",
     "text": [
      "-16.8689042416\n"
     ]
    }
   ],
   "source": [
    "const=-4.0*np.pi*0.5*(1.0/(4.0*sq_eta)) / grid.volume\n",
    "sum = np.float(0.0)\n",
    "for i in np.arange(mol.natoms):\n",
    "    sum+=mol.ions[i].Zval\n",
    "fifth=const*sum\n",
    "print(fifth)"
   ]
  },
  {
   "cell_type": "markdown",
   "metadata": {},
   "source": [
    "# First term"
   ]
  },
  {
   "cell_type": "code",
   "execution_count": 6,
   "metadata": {},
   "outputs": [
    {
     "name": "stdout",
     "output_type": "stream",
     "text": [
      "0.00839883264471\n"
     ]
    }
   ],
   "source": [
    "from pbcpy.hartree import HartreeFunctional\n",
    "Hartree = HartreeFunctional(rho_of_r)\n",
    "first=Hartree.energydensity.integral()\n",
    "print(first)"
   ]
  },
  {
   "cell_type": "code",
   "execution_count": null,
   "metadata": {
    "collapsed": true
   },
   "outputs": [],
   "source": []
  },
  {
   "cell_type": "code",
   "execution_count": 39,
   "metadata": {},
   "outputs": [
    {
     "data": {
      "text/plain": [
       "54.079845237404371"
      ]
     },
     "execution_count": 39,
     "metadata": {},
     "output_type": "execute_result"
    }
   ],
   "source": [
    "second+third+fourth+fifth"
   ]
  },
  {
   "cell_type": "code",
   "execution_count": 40,
   "metadata": {},
   "outputs": [
    {
     "data": {
      "text/plain": [
       "0.0"
      ]
     },
     "execution_count": 40,
     "metadata": {},
     "output_type": "execute_result"
    }
   ],
   "source": [
    "np.exp(-np.max(gg[:-3,0,0,0])/(4*sq_eta))*np.max(gg[:,0,0,0]) "
   ]
  },
  {
   "cell_type": "code",
   "execution_count": 16,
   "metadata": {
    "collapsed": true
   },
   "outputs": [],
   "source": [
    "from pbcpy.local_pseudopotential import NuclearElectron"
   ]
  },
  {
   "cell_type": "code",
   "execution_count": 17,
   "metadata": {},
   "outputs": [
    {
     "name": "stdout",
     "output_type": "stream",
     "text": [
      "Recpot pseudopotential ./Al_lda.oe01.recpot loaded\n",
      "Recpot pseudopotential ./Al_lda.oe01.recpot loaded\n"
     ]
    }
   ],
   "source": [
    "Nucel = NuclearElectron(mol.ions,rho_of_r,['./Al_lda.oe01.recpot','./Al_lda.oe01.recpot'])"
   ]
  },
  {
   "cell_type": "code",
   "execution_count": 18,
   "metadata": {
    "collapsed": true
   },
   "outputs": [],
   "source": [
    "alpha_Z = -Nucel.energydensity.integral()+2.0*(Hartree.energydensity).integral()"
   ]
  },
  {
   "cell_type": "code",
   "execution_count": 19,
   "metadata": {},
   "outputs": [
    {
     "data": {
      "text/plain": [
       "-1.2701705296858552"
      ]
     },
     "execution_count": 19,
     "metadata": {},
     "output_type": "execute_result"
    }
   ],
   "source": [
    "alpha_Z"
   ]
  },
  {
   "cell_type": "code",
   "execution_count": null,
   "metadata": {
    "collapsed": true
   },
   "outputs": [],
   "source": []
  }
 ],
 "metadata": {
  "kernelspec": {
   "display_name": "Python 3",
   "language": "python",
   "name": "python3"
  },
  "language_info": {
   "codemirror_mode": {
    "name": "ipython",
    "version": 3
   },
   "file_extension": ".py",
   "mimetype": "text/x-python",
   "name": "python",
   "nbconvert_exporter": "python",
   "pygments_lexer": "ipython3",
   "version": "3.6.3"
  }
 },
 "nbformat": 4,
 "nbformat_minor": 2
}
