{
 "cells": [
  {
   "cell_type": "markdown",
   "metadata": {},
   "source": [
    "## Examples in README.md"
   ]
  },
  {
   "cell_type": "code",
   "execution_count": 1,
   "metadata": {
    "collapsed": false
   },
   "outputs": [],
   "source": [
    "import numpy as np\n",
    "import sys\n",
    "if \"../src/\" not in sys.path:\n",
    "    sys.path.insert(0,\"../src/\")\n",
    "%load_ext autoreload\n",
    "%autoreload 2"
   ]
  },
  {
   "cell_type": "code",
   "execution_count": 2,
   "metadata": {
    "collapsed": false
   },
   "outputs": [],
   "source": [
    "from pbcpy.base import DirectCell, ReciprocalCell\n",
    "lattice = np.identity(3)*10\n",
    "cell1 = DirectCell(lattice=lattice, origin=[0,0,0])"
   ]
  },
  {
   "cell_type": "code",
   "execution_count": 6,
   "metadata": {
    "collapsed": false
   },
   "outputs": [
    {
     "data": {
      "text/plain": [
       "array([[ 10.,   0.,   0.],\n",
       "       [  0.,  10.,   0.],\n",
       "       [  0.,   0.,  10.]])"
      ]
     },
     "execution_count": 6,
     "metadata": {},
     "output_type": "execute_result"
    }
   ],
   "source": [
    "cell1.lattice"
   ]
  },
  {
   "cell_type": "code",
   "execution_count": 8,
   "metadata": {
    "collapsed": false
   },
   "outputs": [
    {
     "data": {
      "text/plain": [
       "1000.0"
      ]
     },
     "execution_count": 8,
     "metadata": {},
     "output_type": "execute_result"
    }
   ],
   "source": [
    "cell1.volume"
   ]
  },
  {
   "cell_type": "code",
   "execution_count": 10,
   "metadata": {
    "collapsed": false
   },
   "outputs": [
    {
     "name": "stdout",
     "output_type": "stream",
     "text": [
      "[[ 0.62831853  0.          0.        ]\n",
      " [ 0.          0.62831853  0.        ]\n",
      " [ 0.          0.          0.62831853]]\n"
     ]
    }
   ],
   "source": [
    "reciprocal_cell1 = cell1.get_reciprocal()\n",
    "print(reciprocal_cell1.lattice)"
   ]
  },
  {
   "cell_type": "code",
   "execution_count": 11,
   "metadata": {
    "collapsed": false
   },
   "outputs": [
    {
     "name": "stdout",
     "output_type": "stream",
     "text": [
      "[[ 10.   0.   0.]\n",
      " [  0.  10.   0.]\n",
      " [  0.   0.  10.]]\n"
     ]
    }
   ],
   "source": [
    "cell2 = reciprocal_cell1.get_direct()\n",
    "print(cell2.lattice)"
   ]
  },
  {
   "cell_type": "code",
   "execution_count": 13,
   "metadata": {
    "collapsed": false
   },
   "outputs": [
    {
     "data": {
      "text/plain": [
       "True"
      ]
     },
     "execution_count": 13,
     "metadata": {},
     "output_type": "execute_result"
    }
   ],
   "source": [
    "cell1 == cell2"
   ]
  },
  {
   "cell_type": "code",
   "execution_count": 15,
   "metadata": {
    "collapsed": false
   },
   "outputs": [],
   "source": [
    "from pbcpy.base import Coord\n",
    "pos1 = Coord(pos=[0.5,0.6,0.3], cell=cell1, basis=\"Cartesian\")"
   ]
  },
  {
   "cell_type": "code",
   "execution_count": 17,
   "metadata": {
    "collapsed": false
   },
   "outputs": [
    {
     "data": {
      "text/plain": [
       "'Cartesian'"
      ]
     },
     "execution_count": 17,
     "metadata": {},
     "output_type": "execute_result"
    }
   ],
   "source": [
    "pos1.basis"
   ]
  },
  {
   "cell_type": "code",
   "execution_count": 19,
   "metadata": {
    "collapsed": false
   },
   "outputs": [
    {
     "data": {
      "text/plain": [
       "pbcpy.base.DirectCell"
      ]
     },
     "execution_count": 19,
     "metadata": {},
     "output_type": "execute_result"
    }
   ],
   "source": [
    "type(pos1.cell)"
   ]
  },
  {
   "cell_type": "code",
   "execution_count": 21,
   "metadata": {
    "collapsed": false
   },
   "outputs": [],
   "source": [
    "pos1 = Coord(pos=[0.5,0.0,1.0], cell=cell1, basis=\"Crystal\")\n",
    "pos2 = Coord(pos=[0.6,-1.0,3.0], cell=cell1, basis=\"Crystal\")"
   ]
  },
  {
   "cell_type": "code",
   "execution_count": 23,
   "metadata": {
    "collapsed": false
   },
   "outputs": [
    {
     "data": {
      "text/plain": [
       "Coord([  5.,   0.,  10.])"
      ]
     },
     "execution_count": 23,
     "metadata": {},
     "output_type": "execute_result"
    }
   ],
   "source": [
    "pos1.to_cart() "
   ]
  },
  {
   "cell_type": "code",
   "execution_count": 25,
   "metadata": {
    "collapsed": false
   },
   "outputs": [
    {
     "data": {
      "text/plain": [
       "Coord([ 0.5,  0. ,  1. ])"
      ]
     },
     "execution_count": 25,
     "metadata": {},
     "output_type": "execute_result"
    }
   ],
   "source": [
    "pos1.to_crys()"
   ]
  },
  {
   "cell_type": "code",
   "execution_count": 27,
   "metadata": {
    "collapsed": false
   },
   "outputs": [
    {
     "data": {
      "text/plain": [
       "Coord([ 0.1,  0. ,  0. ])"
      ]
     },
     "execution_count": 27,
     "metadata": {},
     "output_type": "execute_result"
    }
   ],
   "source": [
    "pos1.d_mic(pos2)"
   ]
  },
  {
   "cell_type": "code",
   "execution_count": 29,
   "metadata": {
    "collapsed": false
   },
   "outputs": [
    {
     "data": {
      "text/plain": [
       "0.99999999999999978"
      ]
     },
     "execution_count": 29,
     "metadata": {},
     "output_type": "execute_result"
    }
   ],
   "source": [
    "pos1.dd_mic(pos2)"
   ]
  },
  {
   "cell_type": "code",
   "execution_count": 30,
   "metadata": {
    "collapsed": false
   },
   "outputs": [
    {
     "data": {
      "text/plain": [
       "Coord([ 0.1, -1. ,  2. ])"
      ]
     },
     "execution_count": 30,
     "metadata": {},
     "output_type": "execute_result"
    }
   ],
   "source": [
    "pos2 - pos1"
   ]
  },
  {
   "cell_type": "code",
   "execution_count": 32,
   "metadata": {
    "collapsed": false
   },
   "outputs": [
    {
     "data": {
      "text/plain": [
       "22.383029285599392"
      ]
     },
     "execution_count": 32,
     "metadata": {},
     "output_type": "execute_result"
    }
   ],
   "source": [
    "(pos2 - pos1).length()"
   ]
  },
  {
   "cell_type": "code",
   "execution_count": 33,
   "metadata": {
    "collapsed": true
   },
   "outputs": [],
   "source": [
    "from pbcpy.grid import DirectGrid"
   ]
  },
  {
   "cell_type": "code",
   "execution_count": 64,
   "metadata": {
    "collapsed": false
   },
   "outputs": [],
   "source": [
    "lattice = np.identity(3)*10\n",
    "grid1 = DirectGrid(lattice=lattice, nr=[100,100,100], origin=[0,0,0])"
   ]
  },
  {
   "cell_type": "code",
   "execution_count": 38,
   "metadata": {
    "collapsed": false
   },
   "outputs": [
    {
     "data": {
      "text/plain": [
       "0.001"
      ]
     },
     "execution_count": 38,
     "metadata": {},
     "output_type": "execute_result"
    }
   ],
   "source": [
    "grid1.dV"
   ]
  },
  {
   "cell_type": "code",
   "execution_count": 40,
   "metadata": {
    "collapsed": false
   },
   "outputs": [
    {
     "data": {
      "text/plain": [
       "array([100, 100, 100])"
      ]
     },
     "execution_count": 40,
     "metadata": {},
     "output_type": "execute_result"
    }
   ],
   "source": [
    "grid1.nr"
   ]
  },
  {
   "cell_type": "code",
   "execution_count": 42,
   "metadata": {
    "collapsed": false
   },
   "outputs": [
    {
     "data": {
      "text/plain": [
       "1000000"
      ]
     },
     "execution_count": 42,
     "metadata": {},
     "output_type": "execute_result"
    }
   ],
   "source": [
    "grid1.nnr"
   ]
  },
  {
   "cell_type": "code",
   "execution_count": 44,
   "metadata": {
    "collapsed": false
   },
   "outputs": [
    {
     "data": {
      "text/plain": [
       "Coord([[[[ 0. ,  0. ,  0. ],\n",
       "         [ 0. ,  0. ,  0.1],\n",
       "         [ 0. ,  0. ,  0.2],\n",
       "         ..., \n",
       "         [ 0. ,  0. ,  9.7],\n",
       "         [ 0. ,  0. ,  9.8],\n",
       "         [ 0. ,  0. ,  9.9]],\n",
       "\n",
       "        [[ 0. ,  0.1,  0. ],\n",
       "         [ 0. ,  0.1,  0.1],\n",
       "         [ 0. ,  0.1,  0.2],\n",
       "         ..., \n",
       "         [ 0. ,  0.1,  9.7],\n",
       "         [ 0. ,  0.1,  9.8],\n",
       "         [ 0. ,  0.1,  9.9]],\n",
       "\n",
       "        [[ 0. ,  0.2,  0. ],\n",
       "         [ 0. ,  0.2,  0.1],\n",
       "         [ 0. ,  0.2,  0.2],\n",
       "         ..., \n",
       "         [ 0. ,  0.2,  9.7],\n",
       "         [ 0. ,  0.2,  9.8],\n",
       "         [ 0. ,  0.2,  9.9]],\n",
       "\n",
       "        ..., \n",
       "        [[ 0. ,  9.7,  0. ],\n",
       "         [ 0. ,  9.7,  0.1],\n",
       "         [ 0. ,  9.7,  0.2],\n",
       "         ..., \n",
       "         [ 0. ,  9.7,  9.7],\n",
       "         [ 0. ,  9.7,  9.8],\n",
       "         [ 0. ,  9.7,  9.9]],\n",
       "\n",
       "        [[ 0. ,  9.8,  0. ],\n",
       "         [ 0. ,  9.8,  0.1],\n",
       "         [ 0. ,  9.8,  0.2],\n",
       "         ..., \n",
       "         [ 0. ,  9.8,  9.7],\n",
       "         [ 0. ,  9.8,  9.8],\n",
       "         [ 0. ,  9.8,  9.9]],\n",
       "\n",
       "        [[ 0. ,  9.9,  0. ],\n",
       "         [ 0. ,  9.9,  0.1],\n",
       "         [ 0. ,  9.9,  0.2],\n",
       "         ..., \n",
       "         [ 0. ,  9.9,  9.7],\n",
       "         [ 0. ,  9.9,  9.8],\n",
       "         [ 0. ,  9.9,  9.9]]],\n",
       "\n",
       "\n",
       "       [[[ 0.1,  0. ,  0. ],\n",
       "         [ 0.1,  0. ,  0.1],\n",
       "         [ 0.1,  0. ,  0.2],\n",
       "         ..., \n",
       "         [ 0.1,  0. ,  9.7],\n",
       "         [ 0.1,  0. ,  9.8],\n",
       "         [ 0.1,  0. ,  9.9]],\n",
       "\n",
       "        [[ 0.1,  0.1,  0. ],\n",
       "         [ 0.1,  0.1,  0.1],\n",
       "         [ 0.1,  0.1,  0.2],\n",
       "         ..., \n",
       "         [ 0.1,  0.1,  9.7],\n",
       "         [ 0.1,  0.1,  9.8],\n",
       "         [ 0.1,  0.1,  9.9]],\n",
       "\n",
       "        [[ 0.1,  0.2,  0. ],\n",
       "         [ 0.1,  0.2,  0.1],\n",
       "         [ 0.1,  0.2,  0.2],\n",
       "         ..., \n",
       "         [ 0.1,  0.2,  9.7],\n",
       "         [ 0.1,  0.2,  9.8],\n",
       "         [ 0.1,  0.2,  9.9]],\n",
       "\n",
       "        ..., \n",
       "        [[ 0.1,  9.7,  0. ],\n",
       "         [ 0.1,  9.7,  0.1],\n",
       "         [ 0.1,  9.7,  0.2],\n",
       "         ..., \n",
       "         [ 0.1,  9.7,  9.7],\n",
       "         [ 0.1,  9.7,  9.8],\n",
       "         [ 0.1,  9.7,  9.9]],\n",
       "\n",
       "        [[ 0.1,  9.8,  0. ],\n",
       "         [ 0.1,  9.8,  0.1],\n",
       "         [ 0.1,  9.8,  0.2],\n",
       "         ..., \n",
       "         [ 0.1,  9.8,  9.7],\n",
       "         [ 0.1,  9.8,  9.8],\n",
       "         [ 0.1,  9.8,  9.9]],\n",
       "\n",
       "        [[ 0.1,  9.9,  0. ],\n",
       "         [ 0.1,  9.9,  0.1],\n",
       "         [ 0.1,  9.9,  0.2],\n",
       "         ..., \n",
       "         [ 0.1,  9.9,  9.7],\n",
       "         [ 0.1,  9.9,  9.8],\n",
       "         [ 0.1,  9.9,  9.9]]],\n",
       "\n",
       "\n",
       "       [[[ 0.2,  0. ,  0. ],\n",
       "         [ 0.2,  0. ,  0.1],\n",
       "         [ 0.2,  0. ,  0.2],\n",
       "         ..., \n",
       "         [ 0.2,  0. ,  9.7],\n",
       "         [ 0.2,  0. ,  9.8],\n",
       "         [ 0.2,  0. ,  9.9]],\n",
       "\n",
       "        [[ 0.2,  0.1,  0. ],\n",
       "         [ 0.2,  0.1,  0.1],\n",
       "         [ 0.2,  0.1,  0.2],\n",
       "         ..., \n",
       "         [ 0.2,  0.1,  9.7],\n",
       "         [ 0.2,  0.1,  9.8],\n",
       "         [ 0.2,  0.1,  9.9]],\n",
       "\n",
       "        [[ 0.2,  0.2,  0. ],\n",
       "         [ 0.2,  0.2,  0.1],\n",
       "         [ 0.2,  0.2,  0.2],\n",
       "         ..., \n",
       "         [ 0.2,  0.2,  9.7],\n",
       "         [ 0.2,  0.2,  9.8],\n",
       "         [ 0.2,  0.2,  9.9]],\n",
       "\n",
       "        ..., \n",
       "        [[ 0.2,  9.7,  0. ],\n",
       "         [ 0.2,  9.7,  0.1],\n",
       "         [ 0.2,  9.7,  0.2],\n",
       "         ..., \n",
       "         [ 0.2,  9.7,  9.7],\n",
       "         [ 0.2,  9.7,  9.8],\n",
       "         [ 0.2,  9.7,  9.9]],\n",
       "\n",
       "        [[ 0.2,  9.8,  0. ],\n",
       "         [ 0.2,  9.8,  0.1],\n",
       "         [ 0.2,  9.8,  0.2],\n",
       "         ..., \n",
       "         [ 0.2,  9.8,  9.7],\n",
       "         [ 0.2,  9.8,  9.8],\n",
       "         [ 0.2,  9.8,  9.9]],\n",
       "\n",
       "        [[ 0.2,  9.9,  0. ],\n",
       "         [ 0.2,  9.9,  0.1],\n",
       "         [ 0.2,  9.9,  0.2],\n",
       "         ..., \n",
       "         [ 0.2,  9.9,  9.7],\n",
       "         [ 0.2,  9.9,  9.8],\n",
       "         [ 0.2,  9.9,  9.9]]],\n",
       "\n",
       "\n",
       "       ..., \n",
       "       [[[ 9.7,  0. ,  0. ],\n",
       "         [ 9.7,  0. ,  0.1],\n",
       "         [ 9.7,  0. ,  0.2],\n",
       "         ..., \n",
       "         [ 9.7,  0. ,  9.7],\n",
       "         [ 9.7,  0. ,  9.8],\n",
       "         [ 9.7,  0. ,  9.9]],\n",
       "\n",
       "        [[ 9.7,  0.1,  0. ],\n",
       "         [ 9.7,  0.1,  0.1],\n",
       "         [ 9.7,  0.1,  0.2],\n",
       "         ..., \n",
       "         [ 9.7,  0.1,  9.7],\n",
       "         [ 9.7,  0.1,  9.8],\n",
       "         [ 9.7,  0.1,  9.9]],\n",
       "\n",
       "        [[ 9.7,  0.2,  0. ],\n",
       "         [ 9.7,  0.2,  0.1],\n",
       "         [ 9.7,  0.2,  0.2],\n",
       "         ..., \n",
       "         [ 9.7,  0.2,  9.7],\n",
       "         [ 9.7,  0.2,  9.8],\n",
       "         [ 9.7,  0.2,  9.9]],\n",
       "\n",
       "        ..., \n",
       "        [[ 9.7,  9.7,  0. ],\n",
       "         [ 9.7,  9.7,  0.1],\n",
       "         [ 9.7,  9.7,  0.2],\n",
       "         ..., \n",
       "         [ 9.7,  9.7,  9.7],\n",
       "         [ 9.7,  9.7,  9.8],\n",
       "         [ 9.7,  9.7,  9.9]],\n",
       "\n",
       "        [[ 9.7,  9.8,  0. ],\n",
       "         [ 9.7,  9.8,  0.1],\n",
       "         [ 9.7,  9.8,  0.2],\n",
       "         ..., \n",
       "         [ 9.7,  9.8,  9.7],\n",
       "         [ 9.7,  9.8,  9.8],\n",
       "         [ 9.7,  9.8,  9.9]],\n",
       "\n",
       "        [[ 9.7,  9.9,  0. ],\n",
       "         [ 9.7,  9.9,  0.1],\n",
       "         [ 9.7,  9.9,  0.2],\n",
       "         ..., \n",
       "         [ 9.7,  9.9,  9.7],\n",
       "         [ 9.7,  9.9,  9.8],\n",
       "         [ 9.7,  9.9,  9.9]]],\n",
       "\n",
       "\n",
       "       [[[ 9.8,  0. ,  0. ],\n",
       "         [ 9.8,  0. ,  0.1],\n",
       "         [ 9.8,  0. ,  0.2],\n",
       "         ..., \n",
       "         [ 9.8,  0. ,  9.7],\n",
       "         [ 9.8,  0. ,  9.8],\n",
       "         [ 9.8,  0. ,  9.9]],\n",
       "\n",
       "        [[ 9.8,  0.1,  0. ],\n",
       "         [ 9.8,  0.1,  0.1],\n",
       "         [ 9.8,  0.1,  0.2],\n",
       "         ..., \n",
       "         [ 9.8,  0.1,  9.7],\n",
       "         [ 9.8,  0.1,  9.8],\n",
       "         [ 9.8,  0.1,  9.9]],\n",
       "\n",
       "        [[ 9.8,  0.2,  0. ],\n",
       "         [ 9.8,  0.2,  0.1],\n",
       "         [ 9.8,  0.2,  0.2],\n",
       "         ..., \n",
       "         [ 9.8,  0.2,  9.7],\n",
       "         [ 9.8,  0.2,  9.8],\n",
       "         [ 9.8,  0.2,  9.9]],\n",
       "\n",
       "        ..., \n",
       "        [[ 9.8,  9.7,  0. ],\n",
       "         [ 9.8,  9.7,  0.1],\n",
       "         [ 9.8,  9.7,  0.2],\n",
       "         ..., \n",
       "         [ 9.8,  9.7,  9.7],\n",
       "         [ 9.8,  9.7,  9.8],\n",
       "         [ 9.8,  9.7,  9.9]],\n",
       "\n",
       "        [[ 9.8,  9.8,  0. ],\n",
       "         [ 9.8,  9.8,  0.1],\n",
       "         [ 9.8,  9.8,  0.2],\n",
       "         ..., \n",
       "         [ 9.8,  9.8,  9.7],\n",
       "         [ 9.8,  9.8,  9.8],\n",
       "         [ 9.8,  9.8,  9.9]],\n",
       "\n",
       "        [[ 9.8,  9.9,  0. ],\n",
       "         [ 9.8,  9.9,  0.1],\n",
       "         [ 9.8,  9.9,  0.2],\n",
       "         ..., \n",
       "         [ 9.8,  9.9,  9.7],\n",
       "         [ 9.8,  9.9,  9.8],\n",
       "         [ 9.8,  9.9,  9.9]]],\n",
       "\n",
       "\n",
       "       [[[ 9.9,  0. ,  0. ],\n",
       "         [ 9.9,  0. ,  0.1],\n",
       "         [ 9.9,  0. ,  0.2],\n",
       "         ..., \n",
       "         [ 9.9,  0. ,  9.7],\n",
       "         [ 9.9,  0. ,  9.8],\n",
       "         [ 9.9,  0. ,  9.9]],\n",
       "\n",
       "        [[ 9.9,  0.1,  0. ],\n",
       "         [ 9.9,  0.1,  0.1],\n",
       "         [ 9.9,  0.1,  0.2],\n",
       "         ..., \n",
       "         [ 9.9,  0.1,  9.7],\n",
       "         [ 9.9,  0.1,  9.8],\n",
       "         [ 9.9,  0.1,  9.9]],\n",
       "\n",
       "        [[ 9.9,  0.2,  0. ],\n",
       "         [ 9.9,  0.2,  0.1],\n",
       "         [ 9.9,  0.2,  0.2],\n",
       "         ..., \n",
       "         [ 9.9,  0.2,  9.7],\n",
       "         [ 9.9,  0.2,  9.8],\n",
       "         [ 9.9,  0.2,  9.9]],\n",
       "\n",
       "        ..., \n",
       "        [[ 9.9,  9.7,  0. ],\n",
       "         [ 9.9,  9.7,  0.1],\n",
       "         [ 9.9,  9.7,  0.2],\n",
       "         ..., \n",
       "         [ 9.9,  9.7,  9.7],\n",
       "         [ 9.9,  9.7,  9.8],\n",
       "         [ 9.9,  9.7,  9.9]],\n",
       "\n",
       "        [[ 9.9,  9.8,  0. ],\n",
       "         [ 9.9,  9.8,  0.1],\n",
       "         [ 9.9,  9.8,  0.2],\n",
       "         ..., \n",
       "         [ 9.9,  9.8,  9.7],\n",
       "         [ 9.9,  9.8,  9.8],\n",
       "         [ 9.9,  9.8,  9.9]],\n",
       "\n",
       "        [[ 9.9,  9.9,  0. ],\n",
       "         [ 9.9,  9.9,  0.1],\n",
       "         [ 9.9,  9.9,  0.2],\n",
       "         ..., \n",
       "         [ 9.9,  9.9,  9.7],\n",
       "         [ 9.9,  9.9,  9.8],\n",
       "         [ 9.9,  9.9,  9.9]]]])"
      ]
     },
     "execution_count": 44,
     "metadata": {},
     "output_type": "execute_result"
    }
   ],
   "source": [
    "grid1.r"
   ]
  },
  {
   "cell_type": "code",
   "execution_count": 45,
   "metadata": {
    "collapsed": false
   },
   "outputs": [
    {
     "data": {
      "text/plain": [
       "Coord([ 0. ,  4.9,  9.9])"
      ]
     },
     "execution_count": 45,
     "metadata": {},
     "output_type": "execute_result"
    }
   ],
   "source": [
    "grid1.r[0,49,99]"
   ]
  },
  {
   "cell_type": "code",
   "execution_count": 49,
   "metadata": {
    "collapsed": false
   },
   "outputs": [
    {
     "data": {
      "text/plain": [
       "(100, 100, 100, 3)"
      ]
     },
     "execution_count": 49,
     "metadata": {},
     "output_type": "execute_result"
    }
   ],
   "source": [
    "grid1.r.shape"
   ]
  },
  {
   "cell_type": "code",
   "execution_count": 65,
   "metadata": {
    "collapsed": true
   },
   "outputs": [],
   "source": [
    "reciprocal_grid1 = grid1.get_reciprocal()"
   ]
  },
  {
   "cell_type": "code",
   "execution_count": 52,
   "metadata": {
    "collapsed": false
   },
   "outputs": [
    {
     "data": {
      "text/plain": [
       "array([[[[ 0.  ,  0.  ,  0.  ],\n",
       "         [ 0.  ,  0.  ,  0.01],\n",
       "         [ 0.  ,  0.  ,  0.02],\n",
       "         ..., \n",
       "         [ 0.  ,  0.  , -0.03],\n",
       "         [ 0.  ,  0.  , -0.02],\n",
       "         [ 0.  ,  0.  , -0.01]],\n",
       "\n",
       "        [[ 0.  ,  0.01,  0.  ],\n",
       "         [ 0.  ,  0.01,  0.01],\n",
       "         [ 0.  ,  0.01,  0.02],\n",
       "         ..., \n",
       "         [ 0.  ,  0.01, -0.03],\n",
       "         [ 0.  ,  0.01, -0.02],\n",
       "         [ 0.  ,  0.01, -0.01]],\n",
       "\n",
       "        [[ 0.  ,  0.02,  0.  ],\n",
       "         [ 0.  ,  0.02,  0.01],\n",
       "         [ 0.  ,  0.02,  0.02],\n",
       "         ..., \n",
       "         [ 0.  ,  0.02, -0.03],\n",
       "         [ 0.  ,  0.02, -0.02],\n",
       "         [ 0.  ,  0.02, -0.01]],\n",
       "\n",
       "        ..., \n",
       "        [[ 0.  , -0.03,  0.  ],\n",
       "         [ 0.  , -0.03,  0.01],\n",
       "         [ 0.  , -0.03,  0.02],\n",
       "         ..., \n",
       "         [ 0.  , -0.03, -0.03],\n",
       "         [ 0.  , -0.03, -0.02],\n",
       "         [ 0.  , -0.03, -0.01]],\n",
       "\n",
       "        [[ 0.  , -0.02,  0.  ],\n",
       "         [ 0.  , -0.02,  0.01],\n",
       "         [ 0.  , -0.02,  0.02],\n",
       "         ..., \n",
       "         [ 0.  , -0.02, -0.03],\n",
       "         [ 0.  , -0.02, -0.02],\n",
       "         [ 0.  , -0.02, -0.01]],\n",
       "\n",
       "        [[ 0.  , -0.01,  0.  ],\n",
       "         [ 0.  , -0.01,  0.01],\n",
       "         [ 0.  , -0.01,  0.02],\n",
       "         ..., \n",
       "         [ 0.  , -0.01, -0.03],\n",
       "         [ 0.  , -0.01, -0.02],\n",
       "         [ 0.  , -0.01, -0.01]]],\n",
       "\n",
       "\n",
       "       [[[ 0.01,  0.  ,  0.  ],\n",
       "         [ 0.01,  0.  ,  0.01],\n",
       "         [ 0.01,  0.  ,  0.02],\n",
       "         ..., \n",
       "         [ 0.01,  0.  , -0.03],\n",
       "         [ 0.01,  0.  , -0.02],\n",
       "         [ 0.01,  0.  , -0.01]],\n",
       "\n",
       "        [[ 0.01,  0.01,  0.  ],\n",
       "         [ 0.01,  0.01,  0.01],\n",
       "         [ 0.01,  0.01,  0.02],\n",
       "         ..., \n",
       "         [ 0.01,  0.01, -0.03],\n",
       "         [ 0.01,  0.01, -0.02],\n",
       "         [ 0.01,  0.01, -0.01]],\n",
       "\n",
       "        [[ 0.01,  0.02,  0.  ],\n",
       "         [ 0.01,  0.02,  0.01],\n",
       "         [ 0.01,  0.02,  0.02],\n",
       "         ..., \n",
       "         [ 0.01,  0.02, -0.03],\n",
       "         [ 0.01,  0.02, -0.02],\n",
       "         [ 0.01,  0.02, -0.01]],\n",
       "\n",
       "        ..., \n",
       "        [[ 0.01, -0.03,  0.  ],\n",
       "         [ 0.01, -0.03,  0.01],\n",
       "         [ 0.01, -0.03,  0.02],\n",
       "         ..., \n",
       "         [ 0.01, -0.03, -0.03],\n",
       "         [ 0.01, -0.03, -0.02],\n",
       "         [ 0.01, -0.03, -0.01]],\n",
       "\n",
       "        [[ 0.01, -0.02,  0.  ],\n",
       "         [ 0.01, -0.02,  0.01],\n",
       "         [ 0.01, -0.02,  0.02],\n",
       "         ..., \n",
       "         [ 0.01, -0.02, -0.03],\n",
       "         [ 0.01, -0.02, -0.02],\n",
       "         [ 0.01, -0.02, -0.01]],\n",
       "\n",
       "        [[ 0.01, -0.01,  0.  ],\n",
       "         [ 0.01, -0.01,  0.01],\n",
       "         [ 0.01, -0.01,  0.02],\n",
       "         ..., \n",
       "         [ 0.01, -0.01, -0.03],\n",
       "         [ 0.01, -0.01, -0.02],\n",
       "         [ 0.01, -0.01, -0.01]]],\n",
       "\n",
       "\n",
       "       [[[ 0.02,  0.  ,  0.  ],\n",
       "         [ 0.02,  0.  ,  0.01],\n",
       "         [ 0.02,  0.  ,  0.02],\n",
       "         ..., \n",
       "         [ 0.02,  0.  , -0.03],\n",
       "         [ 0.02,  0.  , -0.02],\n",
       "         [ 0.02,  0.  , -0.01]],\n",
       "\n",
       "        [[ 0.02,  0.01,  0.  ],\n",
       "         [ 0.02,  0.01,  0.01],\n",
       "         [ 0.02,  0.01,  0.02],\n",
       "         ..., \n",
       "         [ 0.02,  0.01, -0.03],\n",
       "         [ 0.02,  0.01, -0.02],\n",
       "         [ 0.02,  0.01, -0.01]],\n",
       "\n",
       "        [[ 0.02,  0.02,  0.  ],\n",
       "         [ 0.02,  0.02,  0.01],\n",
       "         [ 0.02,  0.02,  0.02],\n",
       "         ..., \n",
       "         [ 0.02,  0.02, -0.03],\n",
       "         [ 0.02,  0.02, -0.02],\n",
       "         [ 0.02,  0.02, -0.01]],\n",
       "\n",
       "        ..., \n",
       "        [[ 0.02, -0.03,  0.  ],\n",
       "         [ 0.02, -0.03,  0.01],\n",
       "         [ 0.02, -0.03,  0.02],\n",
       "         ..., \n",
       "         [ 0.02, -0.03, -0.03],\n",
       "         [ 0.02, -0.03, -0.02],\n",
       "         [ 0.02, -0.03, -0.01]],\n",
       "\n",
       "        [[ 0.02, -0.02,  0.  ],\n",
       "         [ 0.02, -0.02,  0.01],\n",
       "         [ 0.02, -0.02,  0.02],\n",
       "         ..., \n",
       "         [ 0.02, -0.02, -0.03],\n",
       "         [ 0.02, -0.02, -0.02],\n",
       "         [ 0.02, -0.02, -0.01]],\n",
       "\n",
       "        [[ 0.02, -0.01,  0.  ],\n",
       "         [ 0.02, -0.01,  0.01],\n",
       "         [ 0.02, -0.01,  0.02],\n",
       "         ..., \n",
       "         [ 0.02, -0.01, -0.03],\n",
       "         [ 0.02, -0.01, -0.02],\n",
       "         [ 0.02, -0.01, -0.01]]],\n",
       "\n",
       "\n",
       "       ..., \n",
       "       [[[-0.03,  0.  ,  0.  ],\n",
       "         [-0.03,  0.  ,  0.01],\n",
       "         [-0.03,  0.  ,  0.02],\n",
       "         ..., \n",
       "         [-0.03,  0.  , -0.03],\n",
       "         [-0.03,  0.  , -0.02],\n",
       "         [-0.03,  0.  , -0.01]],\n",
       "\n",
       "        [[-0.03,  0.01,  0.  ],\n",
       "         [-0.03,  0.01,  0.01],\n",
       "         [-0.03,  0.01,  0.02],\n",
       "         ..., \n",
       "         [-0.03,  0.01, -0.03],\n",
       "         [-0.03,  0.01, -0.02],\n",
       "         [-0.03,  0.01, -0.01]],\n",
       "\n",
       "        [[-0.03,  0.02,  0.  ],\n",
       "         [-0.03,  0.02,  0.01],\n",
       "         [-0.03,  0.02,  0.02],\n",
       "         ..., \n",
       "         [-0.03,  0.02, -0.03],\n",
       "         [-0.03,  0.02, -0.02],\n",
       "         [-0.03,  0.02, -0.01]],\n",
       "\n",
       "        ..., \n",
       "        [[-0.03, -0.03,  0.  ],\n",
       "         [-0.03, -0.03,  0.01],\n",
       "         [-0.03, -0.03,  0.02],\n",
       "         ..., \n",
       "         [-0.03, -0.03, -0.03],\n",
       "         [-0.03, -0.03, -0.02],\n",
       "         [-0.03, -0.03, -0.01]],\n",
       "\n",
       "        [[-0.03, -0.02,  0.  ],\n",
       "         [-0.03, -0.02,  0.01],\n",
       "         [-0.03, -0.02,  0.02],\n",
       "         ..., \n",
       "         [-0.03, -0.02, -0.03],\n",
       "         [-0.03, -0.02, -0.02],\n",
       "         [-0.03, -0.02, -0.01]],\n",
       "\n",
       "        [[-0.03, -0.01,  0.  ],\n",
       "         [-0.03, -0.01,  0.01],\n",
       "         [-0.03, -0.01,  0.02],\n",
       "         ..., \n",
       "         [-0.03, -0.01, -0.03],\n",
       "         [-0.03, -0.01, -0.02],\n",
       "         [-0.03, -0.01, -0.01]]],\n",
       "\n",
       "\n",
       "       [[[-0.02,  0.  ,  0.  ],\n",
       "         [-0.02,  0.  ,  0.01],\n",
       "         [-0.02,  0.  ,  0.02],\n",
       "         ..., \n",
       "         [-0.02,  0.  , -0.03],\n",
       "         [-0.02,  0.  , -0.02],\n",
       "         [-0.02,  0.  , -0.01]],\n",
       "\n",
       "        [[-0.02,  0.01,  0.  ],\n",
       "         [-0.02,  0.01,  0.01],\n",
       "         [-0.02,  0.01,  0.02],\n",
       "         ..., \n",
       "         [-0.02,  0.01, -0.03],\n",
       "         [-0.02,  0.01, -0.02],\n",
       "         [-0.02,  0.01, -0.01]],\n",
       "\n",
       "        [[-0.02,  0.02,  0.  ],\n",
       "         [-0.02,  0.02,  0.01],\n",
       "         [-0.02,  0.02,  0.02],\n",
       "         ..., \n",
       "         [-0.02,  0.02, -0.03],\n",
       "         [-0.02,  0.02, -0.02],\n",
       "         [-0.02,  0.02, -0.01]],\n",
       "\n",
       "        ..., \n",
       "        [[-0.02, -0.03,  0.  ],\n",
       "         [-0.02, -0.03,  0.01],\n",
       "         [-0.02, -0.03,  0.02],\n",
       "         ..., \n",
       "         [-0.02, -0.03, -0.03],\n",
       "         [-0.02, -0.03, -0.02],\n",
       "         [-0.02, -0.03, -0.01]],\n",
       "\n",
       "        [[-0.02, -0.02,  0.  ],\n",
       "         [-0.02, -0.02,  0.01],\n",
       "         [-0.02, -0.02,  0.02],\n",
       "         ..., \n",
       "         [-0.02, -0.02, -0.03],\n",
       "         [-0.02, -0.02, -0.02],\n",
       "         [-0.02, -0.02, -0.01]],\n",
       "\n",
       "        [[-0.02, -0.01,  0.  ],\n",
       "         [-0.02, -0.01,  0.01],\n",
       "         [-0.02, -0.01,  0.02],\n",
       "         ..., \n",
       "         [-0.02, -0.01, -0.03],\n",
       "         [-0.02, -0.01, -0.02],\n",
       "         [-0.02, -0.01, -0.01]]],\n",
       "\n",
       "\n",
       "       [[[-0.01,  0.  ,  0.  ],\n",
       "         [-0.01,  0.  ,  0.01],\n",
       "         [-0.01,  0.  ,  0.02],\n",
       "         ..., \n",
       "         [-0.01,  0.  , -0.03],\n",
       "         [-0.01,  0.  , -0.02],\n",
       "         [-0.01,  0.  , -0.01]],\n",
       "\n",
       "        [[-0.01,  0.01,  0.  ],\n",
       "         [-0.01,  0.01,  0.01],\n",
       "         [-0.01,  0.01,  0.02],\n",
       "         ..., \n",
       "         [-0.01,  0.01, -0.03],\n",
       "         [-0.01,  0.01, -0.02],\n",
       "         [-0.01,  0.01, -0.01]],\n",
       "\n",
       "        [[-0.01,  0.02,  0.  ],\n",
       "         [-0.01,  0.02,  0.01],\n",
       "         [-0.01,  0.02,  0.02],\n",
       "         ..., \n",
       "         [-0.01,  0.02, -0.03],\n",
       "         [-0.01,  0.02, -0.02],\n",
       "         [-0.01,  0.02, -0.01]],\n",
       "\n",
       "        ..., \n",
       "        [[-0.01, -0.03,  0.  ],\n",
       "         [-0.01, -0.03,  0.01],\n",
       "         [-0.01, -0.03,  0.02],\n",
       "         ..., \n",
       "         [-0.01, -0.03, -0.03],\n",
       "         [-0.01, -0.03, -0.02],\n",
       "         [-0.01, -0.03, -0.01]],\n",
       "\n",
       "        [[-0.01, -0.02,  0.  ],\n",
       "         [-0.01, -0.02,  0.01],\n",
       "         [-0.01, -0.02,  0.02],\n",
       "         ..., \n",
       "         [-0.01, -0.02, -0.03],\n",
       "         [-0.01, -0.02, -0.02],\n",
       "         [-0.01, -0.02, -0.01]],\n",
       "\n",
       "        [[-0.01, -0.01,  0.  ],\n",
       "         [-0.01, -0.01,  0.01],\n",
       "         [-0.01, -0.01,  0.02],\n",
       "         ..., \n",
       "         [-0.01, -0.01, -0.03],\n",
       "         [-0.01, -0.01, -0.02],\n",
       "         [-0.01, -0.01, -0.01]]]])"
      ]
     },
     "execution_count": 52,
     "metadata": {},
     "output_type": "execute_result"
    }
   ],
   "source": [
    "reciprocal_grid1.g"
   ]
  },
  {
   "cell_type": "code",
   "execution_count": 54,
   "metadata": {
    "collapsed": false
   },
   "outputs": [
    {
     "data": {
      "text/plain": [
       "(100, 100, 100, 3)"
      ]
     },
     "execution_count": 54,
     "metadata": {},
     "output_type": "execute_result"
    }
   ],
   "source": [
    "reciprocal_grid1.g.shape"
   ]
  },
  {
   "cell_type": "code",
   "execution_count": 58,
   "metadata": {
    "collapsed": false
   },
   "outputs": [
    {
     "data": {
      "text/plain": [
       "(100, 100, 100)"
      ]
     },
     "execution_count": 58,
     "metadata": {},
     "output_type": "execute_result"
    }
   ],
   "source": [
    "reciprocal_grid1.gg.shape"
   ]
  },
  {
   "cell_type": "code",
   "execution_count": 3,
   "metadata": {
    "collapsed": false
   },
   "outputs": [],
   "source": [
    "from pbcpy.field import DirectScalarField\n",
    "from pbcpy.grid import DirectGrid\n",
    "from pbcpy.base import DirectCell\n",
    "lattice = np.identity(3)*10\n",
    "grid1 = DirectGrid(lattice=lattice, nr=[100,100,100], origin=[0,0,0])\n",
    "griddata = np.random.random(size=grid1.nr)"
   ]
  },
  {
   "cell_type": "code",
   "execution_count": 4,
   "metadata": {
    "collapsed": false
   },
   "outputs": [],
   "source": [
    "field1 = DirectScalarField(grid=grid1, griddata_3d=griddata)"
   ]
  },
  {
   "cell_type": "code",
   "execution_count": 5,
   "metadata": {
    "collapsed": false
   },
   "outputs": [],
   "source": [
    "from pbcpy.formats.qepp import PP"
   ]
  },
  {
   "cell_type": "code",
   "execution_count": 6,
   "metadata": {
    "collapsed": false
   },
   "outputs": [],
   "source": [
    "water_dimer = PP(filepp=\"../src/tests/density_ks.pp\").read()"
   ]
  },
  {
   "cell_type": "code",
   "execution_count": 7,
   "metadata": {
    "collapsed": true
   },
   "outputs": [],
   "source": [
    "rho = water_dimer.field"
   ]
  },
  {
   "cell_type": "code",
   "execution_count": 8,
   "metadata": {
    "collapsed": false
   },
   "outputs": [
    {
     "data": {
      "text/plain": [
       "16.000000002898673"
      ]
     },
     "execution_count": 8,
     "metadata": {},
     "output_type": "execute_result"
    }
   ],
   "source": [
    "rho.integral()"
   ]
  },
  {
   "cell_type": "code",
   "execution_count": 87,
   "metadata": {
    "collapsed": false
   },
   "outputs": [
    {
     "data": {
      "text/plain": [
       "pbcpy.field.DirectScalarField"
      ]
     },
     "execution_count": 87,
     "metadata": {},
     "output_type": "execute_result"
    }
   ],
   "source": [
    "type(rho)"
   ]
  },
  {
   "cell_type": "code",
   "execution_count": 88,
   "metadata": {
    "collapsed": false
   },
   "outputs": [
    {
     "data": {
      "text/plain": [
       "(125, 125, 125)"
      ]
     },
     "execution_count": 88,
     "metadata": {},
     "output_type": "execute_result"
    }
   ],
   "source": [
    "rho.shape"
   ]
  },
  {
   "cell_type": "code",
   "execution_count": 90,
   "metadata": {
    "collapsed": false
   },
   "outputs": [],
   "source": [
    "rho_interp = rho.get_3dinterpolation([90,90,90])"
   ]
  },
  {
   "cell_type": "code",
   "execution_count": 91,
   "metadata": {
    "collapsed": false
   },
   "outputs": [
    {
     "data": {
      "text/plain": [
       "(90, 90, 90)"
      ]
     },
     "execution_count": 91,
     "metadata": {},
     "output_type": "execute_result"
    }
   ],
   "source": [
    "rho_interp.shape"
   ]
  },
  {
   "cell_type": "code",
   "execution_count": 92,
   "metadata": {
    "collapsed": false
   },
   "outputs": [
    {
     "data": {
      "text/plain": [
       "15.999915251442873"
      ]
     },
     "execution_count": 92,
     "metadata": {},
     "output_type": "execute_result"
    }
   ],
   "source": [
    "rho_interp.integral()"
   ]
  },
  {
   "cell_type": "code",
   "execution_count": 9,
   "metadata": {
    "collapsed": true
   },
   "outputs": [],
   "source": [
    "o_pos = water_dimer.ions[0].pos\n",
    "h1_pos = water_dimer.ions[1].pos\n",
    "h2_pos = water_dimer.ions[2].pos"
   ]
  },
  {
   "cell_type": "code",
   "execution_count": 10,
   "metadata": {
    "collapsed": false
   },
   "outputs": [],
   "source": [
    "o_h1_vec = o_pos.d_mic(h1_pos)\n",
    "o_h2_vec = o_pos.d_mic(h2_pos)"
   ]
  },
  {
   "cell_type": "code",
   "execution_count": 107,
   "metadata": {
    "collapsed": false
   },
   "outputs": [
    {
     "data": {
      "text/plain": [
       "(Coord([ 0.78612607, -0.87683293, -3.51489061]),\n",
       " Coord([ 0.0208, -0.0232, -0.093 ]))"
      ]
     },
     "execution_count": 107,
     "metadata": {},
     "output_type": "execute_result"
    }
   ],
   "source": [
    "o_h1_vec*2, o_h1_vec.to_crys()"
   ]
  },
  {
   "cell_type": "code",
   "execution_count": 11,
   "metadata": {
    "collapsed": false
   },
   "outputs": [],
   "source": [
    "from pbcpy.base import Coord\n",
    "r0 = Coord([1,0,0],cell=rho.grid,basis=\"S\")\n",
    "r1 = Coord([0,1,0],cell=rho.grid,basis=\"S\")\n",
    "r2 = Coord([0,0,1],cell=rho.grid,basis=\"S\")\n",
    "rho_cut = rho.get_cut(r0=r0, r1=r1, r2=r2, center=o_pos, nr=[125,125,125])"
   ]
  },
  {
   "cell_type": "code",
   "execution_count": 12,
   "metadata": {
    "collapsed": false
   },
   "outputs": [],
   "source": [
    "rho_cut = rho.get_cut(r0=o_h1_vec*4, r1=o_h2_vec*4, center=o_pos, nr=[100,100])"
   ]
  },
  {
   "cell_type": "code",
   "execution_count": 13,
   "metadata": {
    "collapsed": false
   },
   "outputs": [
    {
     "data": {
      "text/plain": [
       "(53.591672462796531, 0.0053591672462796527)"
      ]
     },
     "execution_count": 13,
     "metadata": {},
     "output_type": "execute_result"
    }
   ],
   "source": [
    "rho_cut.grid.volume,rho_cut.grid.dV"
   ]
  },
  {
   "cell_type": "code",
   "execution_count": 37,
   "metadata": {
    "collapsed": false
   },
   "outputs": [
    {
     "data": {
      "text/plain": [
       "(6748.3345843151264, 0.0034551473071693446)"
      ]
     },
     "execution_count": 37,
     "metadata": {},
     "output_type": "execute_result"
    }
   ],
   "source": [
    "rho.grid.volume,rho.grid.dV"
   ]
  },
  {
   "cell_type": "code",
   "execution_count": 14,
   "metadata": {
    "collapsed": true
   },
   "outputs": [],
   "source": [
    "from matplotlib import pyplot as plt\n",
    "%matplotlib inline"
   ]
  },
  {
   "cell_type": "code",
   "execution_count": 15,
   "metadata": {
    "collapsed": false
   },
   "outputs": [
    {
     "data": {
      "text/plain": [
       "<matplotlib.image.AxesImage at 0x7f222adfeeb8>"
      ]
     },
     "execution_count": 15,
     "metadata": {},
     "output_type": "execute_result"
    },
    {
     "data": {
      "image/png": "[encoded data removed]",
      "text/plain": [
       "<matplotlib.figure.Figure at 0x7f21ff211f60>"
      ]
     },
     "metadata": {},
     "output_type": "display_data"
    }
   ],
   "source": [
    "plt.imshow(rho_cut)"
   ]
  },
  {
   "cell_type": "code",
   "execution_count": 61,
   "metadata": {
    "collapsed": false
   },
   "outputs": [
    {
     "data": {
      "text/plain": [
       "0.0034551473071693446"
      ]
     },
     "execution_count": 61,
     "metadata": {},
     "output_type": "execute_result"
    }
   ],
   "source": [
    "rho_cut.grid.dV"
   ]
  },
  {
   "cell_type": "code",
   "execution_count": 64,
   "metadata": {
    "collapsed": false
   },
   "outputs": [
    {
     "data": {
      "text/plain": [
       "(100, 100)"
      ]
     },
     "execution_count": 64,
     "metadata": {},
     "output_type": "execute_result"
    }
   ],
   "source": [
    "rho_cut.shape"
   ]
  },
  {
   "cell_type": "code",
   "execution_count": 65,
   "metadata": {
    "collapsed": false
   },
   "outputs": [
    {
     "data": {
      "text/plain": [
       "2"
      ]
     },
     "execution_count": 65,
     "metadata": {},
     "output_type": "execute_result"
    }
   ],
   "source": [
    "rho_cut.span"
   ]
  },
  {
   "cell_type": "code",
   "execution_count": 66,
   "metadata": {
    "collapsed": false
   },
   "outputs": [
    {
     "data": {
      "text/plain": [
       "array([[ 1.57225214, -6.68207161, -0.43149218],\n",
       "       [-1.75366585, -3.04623853,  0.8479004 ],\n",
       "       [-7.02978121,  0.97509868, -0.30802502]])"
      ]
     },
     "execution_count": 66,
     "metadata": {},
     "output_type": "execute_result"
    }
   ],
   "source": [
    "rho_cut.grid.lattice"
   ]
  },
  {
   "cell_type": "code",
   "execution_count": 67,
   "metadata": {
    "collapsed": true
   },
   "outputs": [],
   "source": [
    "rho_g = rho.fft()"
   ]
  },
  {
   "cell_type": "code",
   "execution_count": 68,
   "metadata": {
    "collapsed": false
   },
   "outputs": [
    {
     "data": {
      "text/plain": [
       "pbcpy.field.ReciprocalScalarField"
      ]
     },
     "execution_count": 68,
     "metadata": {},
     "output_type": "execute_result"
    }
   ],
   "source": [
    "type(rho_g)"
   ]
  },
  {
   "cell_type": "code",
   "execution_count": 69,
   "metadata": {
    "collapsed": true
   },
   "outputs": [],
   "source": [
    "rho1 = rho_g.ifft()"
   ]
  },
  {
   "cell_type": "code",
   "execution_count": 70,
   "metadata": {
    "collapsed": false
   },
   "outputs": [
    {
     "data": {
      "text/plain": [
       "pbcpy.field.DirectScalarField"
      ]
     },
     "execution_count": 70,
     "metadata": {},
     "output_type": "execute_result"
    }
   ],
   "source": [
    "type(rho1)"
   ]
  },
  {
   "cell_type": "code",
   "execution_count": 71,
   "metadata": {
    "collapsed": false
   },
   "outputs": [
    {
     "data": {
      "text/plain": [
       "True"
      ]
     },
     "execution_count": 71,
     "metadata": {},
     "output_type": "execute_result"
    }
   ],
   "source": [
    "rho1.grid == rho.grid"
   ]
  },
  {
   "cell_type": "code",
   "execution_count": 84,
   "metadata": {
    "collapsed": false
   },
   "outputs": [
    {
     "data": {
      "text/plain": [
       "True"
      ]
     },
     "execution_count": 84,
     "metadata": {},
     "output_type": "execute_result"
    }
   ],
   "source": [
    "np.isclose(np.array(rho1), np.array(rho)).all()"
   ]
  },
  {
   "cell_type": "code",
   "execution_count": 78,
   "metadata": {
    "collapsed": false
   },
   "outputs": [
    {
     "ename": "AssertionError",
     "evalue": "",
     "output_type": "error",
     "traceback": [
      "\u001b[0;31m---------------------------------------------------------------------------\u001b[0m",
      "\u001b[0;31mAssertionError\u001b[0m                            Traceback (most recent call last)",
      "\u001b[0;32m<ipython-input-78-fa3f6d411be7>\u001b[0m in \u001b[0;36m<module>\u001b[0;34m()\u001b[0m\n\u001b[0;32m----> 1\u001b[0;31m \u001b[0;32massert\u001b[0m\u001b[0;34m(\u001b[0m\u001b[0;32mFalse\u001b[0m\u001b[0;34m)\u001b[0m\u001b[0;34m\u001b[0m\u001b[0m\n\u001b[0m",
      "\u001b[0;31mAssertionError\u001b[0m: "
     ]
    }
   ],
   "source": [
    "assert(False)"
   ]
  },
  {
   "cell_type": "code",
   "execution_count": 16,
   "metadata": {
    "collapsed": true
   },
   "outputs": [],
   "source": [
    "from pbcpy.formats.xsf import XSF"
   ]
  },
  {
   "cell_type": "code",
   "execution_count": 17,
   "metadata": {
    "collapsed": false
   },
   "outputs": [],
   "source": [
    "XSF(\"test.xsf\").write(water_dimer,field=rho_cut)"
   ]
  },
  {
   "cell_type": "code",
   "execution_count": null,
   "metadata": {
    "collapsed": true
   },
   "outputs": [],
   "source": []
  }
 ],
 "metadata": {
  "kernelspec": {
   "display_name": "Python [default]",
   "language": "python",
   "name": "python3"
  },
  "language_info": {
   "codemirror_mode": {
    "name": "ipython",
    "version": 3
   },
   "file_extension": ".py",
   "mimetype": "text/x-python",
   "name": "python",
   "nbconvert_exporter": "python",
   "pygments_lexer": "ipython3",
   "version": "3.5.2"
  }
 },
 "nbformat": 4,
 "nbformat_minor": 2
}
