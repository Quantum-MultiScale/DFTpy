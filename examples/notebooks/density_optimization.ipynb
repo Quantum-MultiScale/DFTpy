{
 "cells": [
  {
   "cell_type": "markdown",
   "metadata": {},
   "source": [
    "# Optimization & visualization of the electron density"
   ]
  },
  {
   "cell_type": "markdown",
   "metadata": {},
   "source": [
    "### import basic stuff"
   ]
  },
  {
   "cell_type": "code",
   "execution_count": 1,
   "metadata": {},
   "outputs": [],
   "source": [
    "import numpy as np"
   ]
  },
  {
   "cell_type": "markdown",
   "metadata": {},
   "source": [
    "### import local dftpy module "
   ]
  },
  {
   "cell_type": "code",
   "execution_count": 2,
   "metadata": {},
   "outputs": [],
   "source": [
    "from dftpy.field import DirectField\n",
    "from dftpy.grid import DirectGrid\n",
    "from dftpy.functional import LocalPseudo, Functional, TotalFunctional\n",
    "from dftpy.formats import io\n",
    "from dftpy.math_utils import ecut2nr\n",
    "from dftpy.time_data import TimeData\n",
    "from dftpy.optimization import Optimization\n",
    "from dftpy.mpi import sprint\n",
    "from dftpy.constants import Units"
   ]
  },
  {
   "cell_type": "markdown",
   "metadata": {},
   "source": [
    "### simple functions to make a grid and initial guess"
   ]
  },
  {
   "cell_type": "code",
   "execution_count": 3,
   "metadata": {},
   "outputs": [],
   "source": [
    "def MakeGrid(ions, spacing):\n",
    "    nr=ecut2nr(lattice=ions.cell, spacing=spacing)\n",
    "    grid = DirectGrid(lattice=ions.cell, nr=nr, full=False)\n",
    "    sprint('The final grid size is ', nr)\n",
    "    return grid\n",
    "\n",
    "def guess_rho(grid, ions):\n",
    "    rho_ini = DirectField(grid=grid)\n",
    "    rho_ini[:] = ions.get_ncharges()/ions.cell.volume\n",
    "    return rho_ini"
   ]
  },
  {
   "cell_type": "markdown",
   "metadata": {},
   "source": [
    "### read input, set pseudo files, and make a grid"
   ]
  },
  {
   "cell_type": "code",
   "execution_count": 4,
   "metadata": {},
   "outputs": [
    {
     "name": "stdout",
     "output_type": "stream",
     "text": [
      "The final grid size is  [20 20 20]\n"
     ]
    }
   ],
   "source": [
    "path_pp=path_pos='../DATA/'\n",
    "file1='Al_lda.oe01.recpot'\n",
    "posfile='fcc.vasp'\n",
    "ions = io.read(path_pos+posfile, names=['Al'])\n",
    "gap = 0.4\n",
    "grid = MakeGrid(ions,gap)"
   ]
  },
  {
   "cell_type": "markdown",
   "metadata": {},
   "source": [
    "### read pseudo file, generate local pseudo, and generate guess density"
   ]
  },
  {
   "cell_type": "code",
   "execution_count": 5,
   "metadata": {},
   "outputs": [
    {
     "name": "stdout",
     "output_type": "stream",
     "text": [
      "setting key: Al -> ../DATA/Al_lda.oe01.recpot\n"
     ]
    }
   ],
   "source": [
    "PP_list = {'Al': path_pp+file1}\n",
    "PSEUDO = LocalPseudo(grid = grid, ions=ions,PP_list=PP_list,PME=True)\n",
    "\n",
    "rho_ini = guess_rho(grid,ions)"
   ]
  },
  {
   "cell_type": "markdown",
   "metadata": {},
   "source": [
    "### instance KEDF, XC and HARTREE functionals"
   ]
  },
  {
   "cell_type": "code",
   "execution_count": 6,
   "metadata": {},
   "outputs": [],
   "source": [
    "KE = Functional(type='KEDF',name='TFvW',optional_kwargs={})\n",
    "XC = Functional(type='XC',name='LDA')\n",
    "HARTREE = Functional(type='HARTREE')"
   ]
  },
  {
   "cell_type": "markdown",
   "metadata": {},
   "source": [
    "### instance DFTpy energy evaluator"
   ]
  },
  {
   "cell_type": "code",
   "execution_count": 7,
   "metadata": {},
   "outputs": [],
   "source": [
    "E_v_Evaluator = TotalFunctional(KE=KE, XC=XC, HARTREE=HARTREE, PSEUDO=PSEUDO)"
   ]
  },
  {
   "cell_type": "markdown",
   "metadata": {},
   "source": [
    "### instance and execute DFTpy density optimizer"
   ]
  },
  {
   "cell_type": "code",
   "execution_count": 8,
   "metadata": {},
   "outputs": [
    {
     "name": "stdout",
     "output_type": "stream",
     "text": [
      "Step    Energy(a.u.)            dE              dP              Nd      Nls     Time(s)         \n",
      "0       2.692153511701E+00      2.692154E+00    7.877088E-01    1       1       1.317573E-02    \n",
      "1       2.509905183342E+00      -1.822483E-01   7.033259E-02    2       1       2.190518E-02    \n",
      "2       2.502273083432E+00      -7.632100E-03   4.803592E-03    7       1       4.251766E-02    \n",
      "3       2.502030159526E+00      -2.429239E-04   3.640522E-04    5       1       5.700088E-02    \n",
      "4       2.501995243499E+00      -3.491603E-05   3.590655E-05    6       1       7.301950E-02    \n",
      "5       2.501992596732E+00      -2.646767E-06   2.500795E-06    5       1       8.690786E-02    \n",
      "6       2.501992226203E+00      -3.705293E-07   4.578793E-08    8       1       1.084733E-01    \n",
      "#### Density Optimization Converged ####\n",
      "Chemical potential (a.u.): 0.3011519654704218\n",
      "Chemical potential (eV)  : 8.194761602484691\n"
     ]
    }
   ],
   "source": [
    "optimization_options = {\\\n",
    "        'econv' : 1e-6*ions.nat, # Energy Convergence\n",
    "        'maxfun' : 50,  # For TN method, it's the max steps for searching direction\n",
    "        'maxiter' : 100,# The max steps for optimization\n",
    "        }\n",
    "optimization_options[\"econv\"] *= ions.nat\n",
    "opt = Optimization(EnergyEvaluator=E_v_Evaluator, optimization_options = optimization_options,\n",
    "        optimization_method = 'TN')\n",
    "\n",
    "\n",
    "rho = opt.optimize_rho(guess_rho=rho_ini)"
   ]
  },
  {
   "cell_type": "markdown",
   "metadata": {},
   "source": [
    "### evaluate final energy, make a mol system class, and print results"
   ]
  },
  {
   "cell_type": "code",
   "execution_count": 9,
   "metadata": {},
   "outputs": [
    {
     "name": "stdout",
     "output_type": "stream",
     "text": [
      "Energy New (a.u.) -8.281138990518853\n",
      "Energy New (eV) -225.34126979244738\n",
      "Energy New (eV/atom) -56.335317448111844\n",
      "------------------------------- Time information -------------------------------\n",
      "Label                       Cost(s)                 Number              \n",
      "Optimize                    0.1098                  1                   \n",
      "TF                          0.0081                  41                  \n",
      "vW                          0.0200                  41                  \n",
      "FFT                         0.0121                  83                  \n",
      "InvFFT                      0.0141                  83                  \n",
      "LibXC                       0.0474                  41                  \n",
      "libxc_eval                  0.0286                  82                  \n",
      "Hartree_Func                0.0156                  41                  \n",
      "Vion_PME                    0.0026                  1                   \n",
      "Ewald_Energy                0.0013                  1                   \n",
      "Ewald_Energy_corr           0.0000                  1                   \n",
      "Ewald_Energy_Real           0.0006                  1                   \n",
      "Ewald_Energy_Rec            0.0007                  1                   \n",
      "--------------------------------------------------------------------------------\n"
     ]
    }
   ],
   "source": [
    "Enew = E_v_Evaluator.Energy(rho=rho, ions=ions)\n",
    "print('Energy New (a.u.)', Enew)\n",
    "print('Energy New (eV)', Enew * Units.Ha)\n",
    "print('Energy New (eV/atom)', Enew * Units.Ha/ions.nat)\n",
    "print('-' * 31, 'Time information', '-' * 31)\n",
    "print(\"{:28s}{:24s}{:20s}\".format('Label', 'Cost(s)', 'Number'))\n",
    "for key in TimeData.cost :\n",
    "    print(\"{:28s}{:<24.4f}{:<20d}\".format(key, TimeData.cost[key], TimeData.number[key]))\n",
    "print('-' * 80)"
   ]
  },
  {
   "cell_type": "markdown",
   "metadata": {},
   "source": [
    "### Visualize with ipv"
   ]
  },
  {
   "cell_type": "code",
   "execution_count": 10,
   "metadata": {},
   "outputs": [],
   "source": [
    "from dftpy.visualize import view"
   ]
  },
  {
   "cell_type": "code",
   "execution_count": 11,
   "metadata": {},
   "outputs": [
    {
     "data": {
      "application/vnd.jupyter.widget-view+json": {
       "model_id": "86f58f6c350a4d83871f36b131881697",
       "version_major": 2,
       "version_minor": 0
      },
      "text/plain": [
       "Container(children=[HBox(children=(FloatSlider(value=0.02019837623202079, max=0.03071556597890547, min=0.01240…"
      ]
     },
     "metadata": {},
     "output_type": "display_data"
    }
   ],
   "source": [
    "view(data=rho, viewer='ipyvolume')"
   ]
  },
  {
   "cell_type": "code",
   "execution_count": 12,
   "metadata": {},
   "outputs": [
    {
     "data": {
      "application/vnd.jupyter.widget-view+json": {
       "model_id": "062a80ce65a44307b3ee083b339f84ce",
       "version_major": 2,
       "version_minor": 0
      },
      "text/plain": [
       "Container(figure=Figure(box_center=[0.5, 0.5, 0.5], box_size=[1.0, 1.0, 1.0], camera=PerspectiveCamera(fov=45.…"
      ]
     },
     "metadata": {},
     "output_type": "display_data"
    }
   ],
   "source": [
    "view(ions=ions, viewer='ipyvolume')"
   ]
  },
  {
   "cell_type": "markdown",
   "metadata": {},
   "source": [
    "### Visualize with VESTA"
   ]
  },
  {
   "cell_type": "code",
   "execution_count": 13,
   "metadata": {},
   "outputs": [],
   "source": [
    "# view(ions=ions, data=rho, viewer='vesta')"
   ]
  }
 ],
 "metadata": {
  "kernelspec": {
   "display_name": "Python 3 (ipykernel)",
   "language": "python",
   "name": "python3"
  },
  "language_info": {
   "codemirror_mode": {
    "name": "ipython",
    "version": 3
   },
   "file_extension": ".py",
   "mimetype": "text/x-python",
   "name": "python",
   "nbconvert_exporter": "python",
   "pygments_lexer": "ipython3",
   "version": "3.10.4"
  }
 },
 "nbformat": 4,
 "nbformat_minor": 2
}
