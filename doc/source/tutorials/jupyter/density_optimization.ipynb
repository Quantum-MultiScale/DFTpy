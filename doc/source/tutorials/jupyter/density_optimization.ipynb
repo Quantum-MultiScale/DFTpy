{
 "cells": [
  {
   "cell_type": "markdown",
   "metadata": {},
   "source": [
    "# Optimization & visualization of the electron density"
   ]
  },
  {
   "cell_type": "markdown",
   "metadata": {},
   "source": [
    "### import basic stuff"
   ]
  },
  {
   "cell_type": "code",
   "execution_count": 1,
   "metadata": {},
   "outputs": [],
   "source": [
    "import numpy as np"
   ]
  },
  {
   "cell_type": "code",
   "execution_count": 2,
   "metadata": {},
   "outputs": [],
   "source": [
    "import sys\n",
    "import os"
   ]
  },
  {
   "cell_type": "markdown",
   "metadata": {},
   "source": [
    "### import local dftpy module (optional)"
   ]
  },
  {
   "cell_type": "code",
   "execution_count": 3,
   "metadata": {},
   "outputs": [],
   "source": [
    "#sys.path.append('/home/sxc/work/dftpy/dftpy/src/')\n",
    "sys.path.append('/Users/michele/Box/devel/dftpy_2/src/')\n",
    "#data = '/home/sxc/work/dftpy/dftpy/examples/DATA/'\n",
    "data = '/Users/michele/Box/devel/dftpy_2/examples/DATA/'"
   ]
  },
  {
   "cell_type": "code",
   "execution_count": 4,
   "metadata": {},
   "outputs": [
    {
     "name": "stdout",
     "output_type": "stream",
     "text": [
      "Use \"numpy\" for Fourier Transform\n"
     ]
    }
   ],
   "source": [
    "from dftpy.field import *\n",
    "from dftpy.grid import *\n",
    "from dftpy.functionals import FunctionalClass, TotalEnergyAndPotential\n",
    "from dftpy.pseudo import LocalPseudo\n",
    "from dftpy.formats import io\n",
    "from dftpy.math_utils import TimeData, bestFFTsize\n",
    "from dftpy.optimization import Optimization\n",
    "from dftpy.constants import LEN_CONV, ENERGY_CONV\n",
    "from dftpy.system import System"
   ]
  },
  {
   "cell_type": "markdown",
   "metadata": {},
   "source": [
    "### simple functions to make a grid and initial guess"
   ]
  },
  {
   "cell_type": "code",
   "execution_count": 5,
   "metadata": {},
   "outputs": [],
   "source": [
    "def MakeGrid(metric,gap):\n",
    "    nr = np.zeros(3, dtype = 'int32')\n",
    "    for i in range(3):\n",
    "        nr[i] = int(np.sqrt(metric[i, i])/gap)\n",
    "    print('The initial grid size is ', nr)\n",
    "    for i in range(3):\n",
    "        nr[i] = bestFFTsize(nr[i])\n",
    "    print('The final grid size is ', nr)\n",
    "    grid = DirectGrid(lattice=lattice, nr=nr, units=None, full=False)\n",
    "    return grid\n",
    "\n",
    "def guess_rho(grid,ions):\n",
    "    charge_total = 0.0\n",
    "    zerosA = np.zeros(grid.nnr, dtype=float)\n",
    "    rho_ini = DirectField(grid=grid, griddata_F=zerosA, rank=1)\n",
    "    for i in range(ions.nat) :\n",
    "        charge_total += ions.Zval[ions.labels[i]]\n",
    "    rho_ini[:] = charge_total/ions.pos.cell.volume\n",
    "    return rho_ini"
   ]
  },
  {
   "cell_type": "markdown",
   "metadata": {},
   "source": [
    "### read input, set pseudo files, and make a grid"
   ]
  },
  {
   "cell_type": "code",
   "execution_count": 6,
   "metadata": {},
   "outputs": [
    {
     "name": "stdout",
     "output_type": "stream",
     "text": [
      "The initial grid size is  [19 19 19]\n",
      "The final grid size is  [20 20 20]\n"
     ]
    }
   ],
   "source": [
    "path_pp=data\n",
    "path_pos=data\n",
    "file1='Al_lda.oe01.recpot'\n",
    "posfile='fcc.vasp'\n",
    "ions = io.read(path_pos+posfile, names=['Al'])\n",
    "lattice = ions.pos.cell.lattice\n",
    "metric = np.dot(lattice.T, lattice)\n",
    "\n",
    "gap = 0.4\n",
    "grid = MakeGrid(metric,gap)"
   ]
  },
  {
   "cell_type": "markdown",
   "metadata": {},
   "source": [
    "### read pseudo file, generate local pseudo, and generate guess density"
   ]
  },
  {
   "cell_type": "code",
   "execution_count": 7,
   "metadata": {},
   "outputs": [
    {
     "name": "stdout",
     "output_type": "stream",
     "text": [
      "setting key: Al\n",
      "Recpot pseudopotential /Users/michele/Box/devel/dftpy_2/examples/DATA/Al_lda.oe01.recpot loaded\n"
     ]
    }
   ],
   "source": [
    "PP_list = {'Al': path_pp+file1}\n",
    "PSEUDO = LocalPseudo(grid = grid, ions=ions,PP_list=PP_list,PME=True)\n",
    "\n",
    "rho_ini = guess_rho(grid,ions)"
   ]
  },
  {
   "cell_type": "markdown",
   "metadata": {},
   "source": [
    "### instance KEDF, XC and HARTREE functionals"
   ]
  },
  {
   "cell_type": "code",
   "execution_count": 8,
   "metadata": {},
   "outputs": [],
   "source": [
    "optional_kwargs = {}\n",
    "KE = FunctionalClass(type='KEDF',name='x_TF_y_vW',optional_kwargs=optional_kwargs)\n",
    "XC = FunctionalClass(type='XC',name='LDA')\n",
    "HARTREE = FunctionalClass(type='HARTREE')"
   ]
  },
  {
   "cell_type": "markdown",
   "metadata": {},
   "source": [
    "### instance DFTpy energy evaluator"
   ]
  },
  {
   "cell_type": "code",
   "execution_count": 9,
   "metadata": {},
   "outputs": [],
   "source": [
    "E_v_Evaluator = TotalEnergyAndPotential(KineticEnergyFunctional=KE,\n",
    "                                XCFunctional=XC,\n",
    "                                HARTREE=HARTREE,\n",
    "                                PSEUDO=PSEUDO)"
   ]
  },
  {
   "cell_type": "markdown",
   "metadata": {},
   "source": [
    "### instance and execute DFTpy density optimizer"
   ]
  },
  {
   "cell_type": "code",
   "execution_count": 10,
   "metadata": {},
   "outputs": [
    {
     "name": "stdout",
     "output_type": "stream",
     "text": [
      "Step    Energy(a.u.)            dE              dP              Nd      Nls     Time(s)         \n",
      "0       2.692153778823E+00      2.692154E+00    7.877090E-01    1       1       1.264405E-02    \n",
      "1       2.509905424981E+00      -1.822484E-01   7.033304E-02    2       1       2.586603E-02    \n",
      "2       2.502273305335E+00      -7.632120E-03   4.803858E-03    7       1       5.680108E-02    \n",
      "3       2.502030390861E+00      -2.429145E-04   3.640303E-04    5       1       7.796407E-02    \n",
      "4       2.501995476907E+00      -3.491395E-05   3.590549E-05    6       1       1.043661E-01    \n",
      "5       2.501992830261E+00      -2.646646E-06   2.500003E-06    5       1       1.265140E-01    \n",
      "6       2.501992459793E+00      -3.704684E-07   4.576519E-08    8       1       1.595230E-01    \n",
      "#### Density Optimization Converged ####\n"
     ]
    }
   ],
   "source": [
    "optimization_options = {\\\n",
    "        'econv' : 1e-6, # Energy Convergence (a.u./atom)\n",
    "        'maxfun' : 50,  # For TN method, it's the max steps for searching direction\n",
    "        'maxiter' : 100,# The max steps for optimization\n",
    "        }\n",
    "optimization_options[\"econv\"] *= ions.nat\n",
    "opt = Optimization(EnergyEvaluator=E_v_Evaluator, optimization_options = optimization_options,\n",
    "        optimization_method = 'TN')\n",
    "\n",
    "\n",
    "new_rho = opt.optimize_rho(guess_rho=rho_ini)"
   ]
  },
  {
   "cell_type": "markdown",
   "metadata": {},
   "source": [
    "### evaluate final energy, make a mol system class, and print results"
   ]
  },
  {
   "cell_type": "code",
   "execution_count": 11,
   "metadata": {},
   "outputs": [
    {
     "name": "stdout",
     "output_type": "stream",
     "text": [
      "Energy New (a.u.) -8.281138759116448\n",
      "Energy New (eV) -225.34124199405363\n",
      "Energy New (eV/atom) -56.33531049851341\n",
      "------------------------------- Time information -------------------------------\n",
      "Label                       Cost(s)                 Number              \n",
      "Optimize                    0.1596                  1                   \n",
      "TF                          0.0127                  41                  \n",
      "vW                          0.0371                  41                  \n",
      "FFT                         0.0234                  84                  \n",
      "InvFFT                      0.0258                  83                  \n",
      "LDA                         0.0417                  41                  \n",
      "Vion_PME                    0.0037                  1                   \n",
      "Hartree_Func                0.0324                  41                  \n",
      "Ewald_Energy                0.0130                  1                   \n",
      "Ewald_Energy_Real           0.0097                  1                   \n",
      "Ewald_Energy_corr           0.0000                  1                   \n",
      "Ewald_Energy_Rec_PME        0.0033                  1                   \n",
      "_calc_PME_Qarray            0.0021                  1                   \n",
      "--------------------------------------------------------------------------------\n"
     ]
    }
   ],
   "source": [
    "Enew = E_v_Evaluator.Energy(rho=new_rho, ions=ions, usePME = True)\n",
    "mol = System(ions,cell=grid,name='test',field=new_rho)\n",
    "\n",
    "print('Energy New (a.u.)', Enew)\n",
    "print('Energy New (eV)', Enew * ENERGY_CONV['Hartree']['eV'])\n",
    "print('Energy New (eV/atom)', Enew * ENERGY_CONV['Hartree']['eV']/ions.nat)\n",
    "print('-' * 31, 'Time information', '-' * 31)\n",
    "print(\"{:28s}{:24s}{:20s}\".format('Label', 'Cost(s)', 'Number'))\n",
    "for key in TimeData.cost :\n",
    "    print(\"{:28s}{:<24.4f}{:<20d}\".format(key, TimeData.cost[key], TimeData.number[key]))\n",
    "print('-' * 80)"
   ]
  },
  {
   "cell_type": "markdown",
   "metadata": {},
   "source": [
    "### Visualize with ipv"
   ]
  },
  {
   "cell_type": "code",
   "execution_count": 12,
   "metadata": {},
   "outputs": [
    {
     "data": {
      "application/vnd.jupyter.widget-view+json": {
       "model_id": "7fdc797afbd84374866e1ab75c876c43",
       "version_major": 2,
       "version_minor": 0
      },
      "text/plain": [
       "VBox(children=(Figure(camera=PerspectiveCamera(fov=46.0, position=(0.0, 0.0, 2.0), quaternion=(0.0, 0.0, 0.0, …"
      ]
     },
     "metadata": {},
     "output_type": "display_data"
    }
   ],
   "source": [
    "from dftpy.visualize.jupyter import view_density\n",
    "view_density(mol)"
   ]
  },
  {
   "cell_type": "markdown",
   "metadata": {},
   "source": [
    "![density](density.png)"
   ]
  },
  {
   "cell_type": "code",
   "execution_count": 15,
   "metadata": {},
   "outputs": [
    {
     "data": {
      "application/vnd.jupyter.widget-view+json": {
       "model_id": "55a2a97836114dd2a3276208ac56505a",
       "version_major": 2,
       "version_minor": 0
      },
      "text/plain": [
       "VBox(children=(Figure(camera=PerspectiveCamera(fov=46.0, position=(0.0, 0.0, 2.0), quaternion=(0.0, 0.0, 0.0, …"
      ]
     },
     "metadata": {},
     "output_type": "display_data"
    }
   ],
   "source": [
    "from dftpy.visualize.jupyter import view_ions\n",
    "view_ions(mol)"
   ]
  },
  {
   "cell_type": "markdown",
   "metadata": {},
   "source": [
    "![ions](ions.png)"
   ]
  },
  {
   "cell_type": "markdown",
   "metadata": {},
   "source": [
    "### Visualize with VESTA"
   ]
  },
  {
   "cell_type": "code",
   "execution_count": 17,
   "metadata": {},
   "outputs": [
    {
     "name": "stdout",
     "output_type": "stream",
     "text": [
      "OS is:  darwin\n"
     ]
    }
   ],
   "source": [
    "from dftpy.visualize.vesta import view_on_vesta\n",
    "view_on_vesta(mol)"
   ]
  }
 ],
 "metadata": {
  "kernelspec": {
   "display_name": "Python 3",
   "language": "python",
   "name": "python3"
  },
  "language_info": {
   "codemirror_mode": {
    "name": "ipython",
    "version": 3
   },
   "file_extension": ".py",
   "mimetype": "text/x-python",
   "name": "python",
   "nbconvert_exporter": "python",
   "pygments_lexer": "ipython3",
   "version": "3.6.8"
  }
 },
 "nbformat": 4,
 "nbformat_minor": 2
}
