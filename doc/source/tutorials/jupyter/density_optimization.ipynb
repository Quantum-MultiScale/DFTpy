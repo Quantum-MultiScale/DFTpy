{
 "cells": [
  {
   "cell_type": "markdown",
   "metadata": {},
   "source": [
    "# Optimization & visualization of the electron density"
   ]
  },
  {
   "cell_type": "markdown",
   "metadata": {},
   "source": [
    "### import basic stuff"
   ]
  },
  {
   "cell_type": "code",
   "execution_count": 1,
   "metadata": {},
   "outputs": [],
   "source": [
    "import numpy as np"
   ]
  },
  {
   "cell_type": "code",
   "execution_count": 2,
   "metadata": {},
   "outputs": [],
   "source": [
    "import sys\n",
    "import os"
   ]
  },
  {
   "cell_type": "markdown",
   "metadata": {},
   "source": [
    "### import local dftpy module (optional)"
   ]
  },
  {
   "cell_type": "code",
   "execution_count": 3,
   "metadata": {},
   "outputs": [],
   "source": [
    "# sys.path.append('/Users/michele/Box/devel/dftpy_2/src/')\n",
    "# data = '/Users/michele/Box/devel/dftpy_2/examples/DATA/'\n",
    "data = '/home/sxc/work/dftpy/dftpy/examples/DATA/'"
   ]
  },
  {
   "cell_type": "code",
   "execution_count": 4,
   "metadata": {},
   "outputs": [],
   "source": [
    "from dftpy.field import *\n",
    "from dftpy.grid import *\n",
    "from dftpy.functional import LocalPseudo, Functional, TotalFunctional\n",
    "from dftpy.formats import io\n",
    "from dftpy.math_utils import ecut2nr\n",
    "from dftpy.time_data import TimeData\n",
    "from dftpy.optimization import Optimization\n",
    "from dftpy.constants import LEN_CONV, ENERGY_CONV"
   ]
  },
  {
   "cell_type": "markdown",
   "metadata": {},
   "source": [
    "### simple functions to make a grid and initial guess"
   ]
  },
  {
   "cell_type": "code",
   "execution_count": 5,
   "metadata": {},
   "outputs": [],
   "source": [
    "def MakeGrid(metric,gap):\n",
    "    nr = np.zeros(3, dtype = 'int32')\n",
    "    for i in range(3):\n",
    "        nr[i] = int(np.sqrt(metric[i, i])/gap)\n",
    "    print('The initial grid size is ', nr)\n",
    "    for i in range(3):\n",
    "        nr[i] = bestFFTsize(nr[i])\n",
    "    print('The final grid size is ', nr)\n",
    "    grid = DirectGrid(lattice=lattice, nr=nr, units=None, full=False)\n",
    "    return grid\n",
    "\n",
    "def guess_rho(grid,ions):\n",
    "    charge_total = 0.0\n",
    "    zerosA = np.zeros(grid.nnr, dtype=float)\n",
    "    rho_ini = DirectField(grid=grid, griddata_F=zerosA, rank=1)\n",
    "    for i in range(ions.nat) :\n",
    "        charge_total += ions.charges[i]]\n",
    "    rho_ini[:] = charge_total/ions.cell.volume\n",
    "    return rho_ini"
   ]
  },
  {
   "cell_type": "markdown",
   "metadata": {},
   "source": [
    "### read input, set pseudo files, and make a grid"
   ]
  },
  {
   "cell_type": "code",
   "execution_count": 6,
   "metadata": {},
   "outputs": [
    {
     "name": "stdout",
     "output_type": "stream",
     "text": [
      "The initial grid size is  [19 19 19]\n",
      "The final grid size is  [20 20 20]\n"
     ]
    }
   ],
   "source": [
    "path_pp=data\n",
    "path_pos=data\n",
    "file1='Al_lda.oe01.recpot'\n",
    "posfile='fcc.vasp'\n",
    "ions = io.read(path_pos+posfile, names=['Al'])\n",
    "lattice = ions.cell\n",
    "metric = np.dot(lattice.T, lattice)\n",
    "\n",
    "gap = 0.4\n",
    "grid = MakeGrid(metric,gap)"
   ]
  },
  {
   "cell_type": "markdown",
   "metadata": {},
   "source": [
    "### read pseudo file, generate local pseudo, and generate guess density"
   ]
  },
  {
   "cell_type": "code",
   "execution_count": 7,
   "metadata": {},
   "outputs": [
    {
     "name": "stdout",
     "output_type": "stream",
     "text": [
      "setting key: Al -> /home/sxc/work/dftpy/dftpy/examples/DATA/Al_lda.oe01.recpot\n"
     ]
    }
   ],
   "source": [
    "PP_list = {'Al': path_pp+file1}\n",
    "PSEUDO = LocalPseudo(grid = grid, ions=ions,PP_list=PP_list,PME=True)\n",
    "\n",
    "rho_ini = guess_rho(grid,ions)"
   ]
  },
  {
   "cell_type": "markdown",
   "metadata": {},
   "source": [
    "### instance KEDF, XC and HARTREE functionals"
   ]
  },
  {
   "cell_type": "code",
   "execution_count": 8,
   "metadata": {},
   "outputs": [],
   "source": [
    "optional_kwargs = {}\n",
    "KE = Functional(type='KEDF',name='x_TF_y_vW',optional_kwargs=optional_kwargs)\n",
    "XC = Functional(type='XC',name='LDA')\n",
    "HARTREE = Functional(type='HARTREE')"
   ]
  },
  {
   "cell_type": "markdown",
   "metadata": {},
   "source": [
    "### instance DFTpy energy evaluator"
   ]
  },
  {
   "cell_type": "code",
   "execution_count": 9,
   "metadata": {},
   "outputs": [],
   "source": [
    "E_v_Evaluator = TotalFunctional(KineticEnergyFunctional=KE,\n",
    "                                XCFunctional=XC,\n",
    "                                HARTREE=HARTREE,\n",
    "                                PSEUDO=PSEUDO)"
   ]
  },
  {
   "cell_type": "markdown",
   "metadata": {},
   "source": [
    "### instance and execute DFTpy density optimizer"
   ]
  },
  {
   "cell_type": "code",
   "execution_count": 10,
   "metadata": {},
   "outputs": [
    {
     "name": "stdout",
     "output_type": "stream",
     "text": [
      "Step    Energy(a.u.)            dE              dP              Nd      Nls     Time(s)         \n",
      "0       2.692153778823E+00      2.692154E+00    7.877090E-01    1       1       7.884741E-03    \n",
      "1       2.509905424425E+00      -1.822484E-01   7.033303E-02    2       1       1.937842E-02    \n",
      "2       2.502273306166E+00      -7.632118E-03   4.803902E-03    7       1       4.957438E-02    \n",
      "3       2.502030390983E+00      -2.429152E-04   3.640300E-04    5       1       6.849957E-02    \n",
      "4       2.501995476771E+00      -3.491421E-05   3.590430E-05    6       1       9.180236E-02    \n",
      "5       2.501992830259E+00      -2.646512E-06   2.500142E-06    5       1       1.138127E-01    \n",
      "6       2.501992459789E+00      -3.704704E-07   4.565581E-08    8       1       1.537414E-01    \n",
      "#### Density Optimization Converged ####\n",
      "Chemical potential (a.u.): 0.3011519852521759\n",
      "Chemical potential (eV)  : 8.194762140773587\n"
     ]
    }
   ],
   "source": [
    "optimization_options = {\\\n",
    "        'econv' : 1e-6, # Energy Convergence (a.u./atom)\n",
    "        'maxfun' : 50,  # For TN method, it's the max steps for searching direction\n",
    "        'maxiter' : 100,# The max steps for optimization\n",
    "        }\n",
    "optimization_options[\"econv\"] *= ions.nat\n",
    "opt = Optimization(EnergyEvaluator=E_v_Evaluator, optimization_options = optimization_options,\n",
    "        optimization_method = 'TN')\n",
    "\n",
    "\n",
    "new_rho = opt.optimize_rho(guess_rho=rho_ini)"
   ]
  },
  {
   "cell_type": "markdown",
   "metadata": {},
   "source": [
    "### evaluate final energy, make a mol system class, and print results"
   ]
  },
  {
   "cell_type": "code",
   "execution_count": 11,
   "metadata": {},
   "outputs": [
    {
     "name": "stdout",
     "output_type": "stream",
     "text": [
      "Energy New (a.u.) -8.281138759120598\n",
      "Energy New (eV) -225.34124199416655\n",
      "Energy New (eV/atom) -56.33531049854164\n",
      "------------------------------- Time information -------------------------------\n",
      "Label                       Cost(s)                 Number              \n",
      "Optimize                    0.1552                  1                   \n",
      "TF                          0.0128                  41                  \n",
      "vW                          0.0357                  41                  \n",
      "FFT                         0.0124                  84                  \n",
      "InvFFT                      0.0146                  83                  \n",
      "LDA                         0.0433                  41                  \n",
      "Hartree_Func                0.0215                  41                  \n",
      "Vion_PME                    0.0024                  1                   \n",
      "Ewald_Energy                0.0089                  1                   \n",
      "Ewald_Energy_corr           0.0001                  1                   \n",
      "Ewald_Energy_Real           0.0065                  1                   \n",
      "Ewald_Energy_Rec_PME        0.0023                  1                   \n",
      "_calc_PME_Qarray            0.0013                  1                   \n",
      "--------------------------------------------------------------------------------\n"
     ]
    }
   ],
   "source": [
    "Enew = E_v_Evaluator.Energy(rho=new_rho, ions=ions, usePME = True)\n",
    "mol = System(ions,cell=grid,name='test',field=new_rho)\n",
    "\n",
    "print('Energy New (a.u.)', Enew)\n",
    "print('Energy New (eV)', Enew * ENERGY_CONV['Hartree']['eV'])\n",
    "print('Energy New (eV/atom)', Enew * ENERGY_CONV['Hartree']['eV']/ions.nat)\n",
    "print('-' * 31, 'Time information', '-' * 31)\n",
    "print(\"{:28s}{:24s}{:20s}\".format('Label', 'Cost(s)', 'Number'))\n",
    "for key in TimeData.cost :\n",
    "    print(\"{:28s}{:<24.4f}{:<20d}\".format(key, TimeData.cost[key], TimeData.number[key]))\n",
    "print('-' * 80)"
   ]
  },
  {
   "cell_type": "markdown",
   "metadata": {},
   "source": [
    "### Visualize with ipv"
   ]
  },
  {
   "cell_type": "code",
   "execution_count": 12,
   "metadata": {},
   "outputs": [
    {
     "name": "stderr",
     "output_type": "stream",
     "text": [
      "/home/sxc/soft/local/venv/pure1/lib/python3.8/site-packages/ipyvolume/pylab.py:593: FutureWarning: marching_cubes_lewiner is deprecated in favor of marching_cubes. marching_cubes_lewiner will be removed in version 0.19\n",
      "  values = measure.marching_cubes_lewiner(data, level)\n"
     ]
    },
    {
     "data": {
      "application/vnd.jupyter.widget-view+json": {
       "model_id": "cec7d706c51a46e39b084493d53e5622",
       "version_major": 2,
       "version_minor": 0
      },
      "text/plain": [
       "VBox(children=(Figure(camera=PerspectiveCamera(fov=46.0, position=(0.0, 0.0, 2.0), projectionMatrix=(1.0, 0.0,…"
      ]
     },
     "metadata": {},
     "output_type": "display_data"
    }
   ],
   "source": [
    "from dftpy.visualize.jupyter import view_density\n",
    "view_density(mol)"
   ]
  },
  {
   "cell_type": "markdown",
   "metadata": {},
   "source": [
    "![density](density.png)"
   ]
  },
  {
   "cell_type": "code",
   "execution_count": 15,
   "metadata": {},
   "outputs": [
    {
     "data": {
      "application/vnd.jupyter.widget-view+json": {
       "model_id": "fa7e683a680745e7a0ba1d26bb28f1a7",
       "version_major": 2,
       "version_minor": 0
      },
      "text/plain": [
       "Output()"
      ]
     },
     "metadata": {},
     "output_type": "display_data"
    }
   ],
   "source": [
    "import ipyvolume as ipv\n",
    "def set_view(figure, framenr, fraction):\n",
    "    if fraction>0.5:\n",
    "        azimuth=0.0\n",
    "        elevation=((fraction-0.5)*2-0.5)*180\n",
    "    else:\n",
    "        azimuth=fraction*720\n",
    "        elevation=0.0\n",
    "    ipv.view(azimuth, elevation, distance=2)\n",
    "ipv.movie('movie.gif', set_view, fps=20, frames=80)"
   ]
  },
  {
   "cell_type": "markdown",
   "metadata": {},
   "source": [
    "![movie](movie.gif)"
   ]
  },
  {
   "cell_type": "code",
   "execution_count": 13,
   "metadata": {},
   "outputs": [
    {
     "data": {
      "application/vnd.jupyter.widget-view+json": {
       "model_id": "14de3d3e37734e039b980703963bac14",
       "version_major": 2,
       "version_minor": 0
      },
      "text/plain": [
       "VBox(children=(Figure(camera=PerspectiveCamera(fov=46.0, position=(0.0, 0.0, 2.0), projectionMatrix=(1.0, 0.0,…"
      ]
     },
     "metadata": {},
     "output_type": "display_data"
    }
   ],
   "source": [
    "from dftpy.visualize.jupyter import view_ions\n",
    "view_ions(mol)"
   ]
  },
  {
   "cell_type": "markdown",
   "metadata": {},
   "source": [
    "![ions](ions.png)"
   ]
  },
  {
   "cell_type": "markdown",
   "metadata": {},
   "source": [
    "### Visualize with VESTA"
   ]
  },
  {
   "cell_type": "code",
   "execution_count": 14,
   "metadata": {},
   "outputs": [
    {
     "name": "stdout",
     "output_type": "stream",
     "text": [
      "OS is:  linux\n"
     ]
    }
   ],
   "source": [
    "from dftpy.visualize.vesta import view_on_vesta\n",
    "view_on_vesta(mol)"
   ]
  },
  {
   "cell_type": "code",
   "execution_count": null,
   "metadata": {},
   "outputs": [],
   "source": []
  }
 ],
 "metadata": {
  "kernelspec": {
   "display_name": "Python 3",
   "language": "python",
   "name": "python3"
  },
  "language_info": {
   "codemirror_mode": {
    "name": "ipython",
    "version": 3
   },
   "file_extension": ".py",
   "mimetype": "text/x-python",
   "name": "python",
   "nbconvert_exporter": "python",
   "pygments_lexer": "ipython3",
   "version": "3.8.5"
  }
 },
 "nbformat": 4,
 "nbformat_minor": 2
}
