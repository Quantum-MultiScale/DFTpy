{
 "cells": [
  {
   "cell_type": "markdown",
   "id": "67aaf7cd-ae87-467b-beb0-e45a398e3593",
   "metadata": {},
   "source": [
    "# Build your own Local pseudopotential\n",
    "\n",
    "In this tutorial you will be able to build you own Local pseudopotential (LPPs) for Au. To build you own psedupotentials you will need to follow the next steps:\n",
    "\n",
    "- Run a KS calculation to get the electronic density using [QEpy](http://qepy.rutgers.edu/)\n",
    "- Perform a OF calculation to optimize the inverted Local Pseudopotential $v_{LPP}(\\mathbf{r})$\n",
    "- Test the generated pseudopotential by computed the phono spectra using [EMT](https://wiki.fysik.dtu.dk/ase/ase/phonons.html#module-ase.phonons) from [ASE](https://wiki.fysik.dtu.dk/ase/)"
   ]
  },
  {
   "cell_type": "markdown",
   "id": "c06e29f8-a9a0-4bcf-8d09-90e0fee53bb6",
   "metadata": {},
   "source": [
    "# QEpy \n",
    "\n",
    "First we need to generate the target electron density using QEpy, for that we will need to load the following modules"
   ]
  },
  {
   "cell_type": "code",
   "execution_count": 1,
   "id": "69ee5c76-6730-49fd-8a16-32f97dc9e1fa",
   "metadata": {},
   "outputs": [],
   "source": [
    "import numpy as np\n",
    "from qepy.io import QEInput\n",
    "from qepy.driver import Driver"
   ]
  },
  {
   "cell_type": "markdown",
   "id": "ede11e2c-bbf4-41ab-aed5-cd3a620e69ad",
   "metadata": {},
   "source": [
    "The following step to build the crystal structure of FCC Au with ASE"
   ]
  },
  {
   "cell_type": "code",
   "execution_count": 2,
   "id": "e7c0f6a2-5cdb-4de1-a0aa-2afc28a149ad",
   "metadata": {},
   "outputs": [],
   "source": [
    "from ase.build import bulk\n",
    "atoms = bulk('Au', 'fcc', a=4.078)"
   ]
  },
  {
   "cell_type": "markdown",
   "id": "fd2dc006-465d-460c-8b45-0e4b389ed8f8",
   "metadata": {},
   "source": [
    "Download the GBRV pseudopotential for Au"
   ]
  },
  {
   "cell_type": "code",
   "execution_count": null,
   "id": "46e2126a-994c-4ee1-ba22-d6720455062d",
   "metadata": {},
   "outputs": [],
   "source": [
    "additional_files = {\n",
    "    'H.pz-vbc.UPF' : 'https://pseudopotentials.quantum-espresso.org/upf_files/H.pz-vbc.UPF',\n",
    "    'C.pz-vbc.UPF' : 'https://pseudopotentials.quantum-espresso.org/upf_files/C.pz-vbc.UPF',\n",
    "}\n",
    "from dftpy.formats import download_files\n",
    "download_files(additional_files)"
   ]
  },
  {
   "cell_type": "markdown",
   "id": "a6ce2d3f-daa0-4e1c-8420-5636215b3850",
   "metadata": {},
   "source": [
    "Once the structure is build we will set up the necessary options to perform to build the QEpy driver"
   ]
  },
  {
   "cell_type": "code",
   "execution_count": null,
   "id": "dd74c94a-3dd3-4a48-a85e-c44763cea5f7",
   "metadata": {},
   "outputs": [],
   "source": [
    "qe_options = {\n",
    "    '&control': {\n",
    "        'calculation': \"'scf'\",\n",
    "        'prefix': \"'tmp'\",\n",
    "        'pseudo_dir': \"'./'\"},\n",
    "    '&system': {\n",
    "        'ibrav' : 0,\n",
    "        'degauss': 0.01,\n",
    "        'ecutwfc': 50,\n",
    "        'ecutrho': 300,\n",
    "        'occupations': \"'smearing'\"\n",
    "    },\n",
    "    '&electrons': {\n",
    "        'conv_thr' : 1.0e-8},\n",
    "     'atomic_species': ['Au 196.96657 au_lda_v1.uspp.F.UPF'],\n",
    "     'k_points automatic': [' 11 11 11 0 0 0'],\n",
    "}"
   ]
  }
 ],
 "metadata": {
  "kernelspec": {
   "display_name": ".dftpy",
   "language": "python",
   "name": ".dftpy"
  },
  "language_info": {
   "codemirror_mode": {
    "name": "ipython",
    "version": 3
   },
   "file_extension": ".py",
   "mimetype": "text/x-python",
   "name": "python",
   "nbconvert_exporter": "python",
   "pygments_lexer": "ipython3",
   "version": "3.10.8"
  }
 },
 "nbformat": 4,
 "nbformat_minor": 5
}
